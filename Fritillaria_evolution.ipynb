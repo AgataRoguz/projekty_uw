{
 "cells": [
  {
   "cell_type": "markdown",
   "metadata": {
    "collapsed": true
   },
   "source": [
    "## Characters influencing pollinator shift in the genus Fritillaria"
   ]
  },
  {
   "cell_type": "markdown",
   "metadata": {},
   "source": [
    "![Fritillaria](Fritillaria_Flowers.jpg)"
   ]
  },
  {
   "cell_type": "code",
   "execution_count": null,
   "metadata": {
    "collapsed": true
   },
   "outputs": [],
   "source": [
    "#import libraries\n",
    "import pandas as pd\n",
    "import re\n",
    "import matplotlib.pyplot as plt\n",
    "import numpy as np\n",
    "import seaborn as sns\n",
    "from sklearn.linear_model import LogisticRegression\n",
    "from sklearn.svm import SVC\n",
    "from sklearn.tree import DecisionTreeClassifier\n",
    "from sklearn.ensemble import RandomForestClassifier, BaggingClassifier, VotingClassifier, AdaBoostClassifier\n",
    "from sklearn.model_selection import cross_val_score, cross_val_predict\n",
    "from xgboost import plot_importance\n",
    "from xgboost import plot_tree\n",
    "import graphviz\n",
    "from sklearn import metrics\n",
    "from sklearn.preprocessing import StandardScaler, LabelEncoder\n",
    "from scipy.spatial.distance import pdist, squareform\n",
    "from sklearn.decomposition import PCA\n",
    "import xgboost as xgb\n",
    "from sklearn.model_selection import train_test_split\n",
    "from sklearn.metrics import roc_auc_score, accuracy_score, confusion_matrix, classification_report\n",
    "import itertools\n",
    "from functools import reduce"
   ]
  },
  {
   "cell_type": "code",
   "execution_count": null,
   "metadata": {
    "collapsed": true
   },
   "outputs": [],
   "source": [
    "#nectar, morphology and flower structure data\n",
    "data = pd.read_csv(\"PELNE DANE.csv\", delimiter=\";\", decimal=\",\")\n",
    "#aminoacids, nectar proprerties\n",
    "amino = pd.read_csv(\"aminokwasy.csv\")\n",
    "nectar = data.copy()\n",
    "#reflectancy\n",
    "xls = pd.ExcelFile('Fritillaria Warsaw.xlsx')"
   ]
  },
  {
   "cell_type": "code",
   "execution_count": null,
   "metadata": {
    "collapsed": false
   },
   "outputs": [],
   "source": [
    "data.info()"
   ]
  },
  {
   "cell_type": "markdown",
   "metadata": {},
   "source": [
    "* Gatunek - species\n",
    "* KOL - colour of the flower (1 - greenish, 2 - white, 3 - claret, 4 - yellow, 5 - orange, 6 -pink, 7 - red, 1/3 -greenish and claret )\n",
    "* APZ - stomata of the outer tepal\n",
    "* APW - stomata of the inner tepal\n",
    "* D1 - horizontal diagonal of flower\n",
    "* D2 - vertical diagonal of flower\n",
    "* PS - diagonal of the entrance\n",
    "* R - PS / PL\n",
    "* SC - scape length\n",
    "* PL - petalas diagonal\n",
    "* PYL - anthers length\n",
    "* K-J - PL - PYL\n",
    "* PYLZN - distance between stigma and anther\n",
    "* PYLPL - distance between tepals and anther\n",
    "* ZN - style length\n",
    "* SZY - stigma length\n",
    "* NB - number of flowers\n",
    "* KAT -angle between flower's diagonal and scape\n",
    "* V - nectar volume\n",
    "* KON - nectar concentration\n",
    "* MASA - nectar mass\n",
    "* POW - area of nectaries\n",
    "* NAS - distiance between the petal and the nectary\n",
    "* WYS - nectary hight\n",
    "* SZER - nectary width\n",
    "* SZEW - diagonal of the scape"
   ]
  },
  {
   "cell_type": "code",
   "execution_count": null,
   "metadata": {
    "collapsed": false
   },
   "outputs": [],
   "source": [
    "amino.info()"
   ]
  },
  {
   "cell_type": "markdown",
   "metadata": {},
   "source": [
    "* Gatunek - species of the flower, \n",
    "* SEZON - year of study, \n",
    "* ORIGIN - origin of the flower, \n",
    "* dominujący cukier - sugar,\n",
    "* ASP', 'GLU', 'ASN', 'SER', 'GLN', 'GLY', 'THR', 'VAL', 'MET', 'LEU', 'LYS', 'ARG', 'BALA', 'ALA','TYR', 'PRO', 'TRP', 'PHE', 'ILE', 'AABA', 'CY2', 'OSER+HIS', 'CIT','NVA', 'ORN', 'TAU', 'GABA', 'HYP', 'SAR', 'BABA' - aminoacids in nectar, \n",
    "* v - nectar volume, \n",
    "* % - nectar concentration, \n",
    "* pollinator - main pollinator"
   ]
  },
  {
   "cell_type": "code",
   "execution_count": null,
   "metadata": {
    "collapsed": false
   },
   "outputs": [],
   "source": [
    "amino. columns"
   ]
  },
  {
   "cell_type": "code",
   "execution_count": null,
   "metadata": {
    "collapsed": true
   },
   "outputs": [],
   "source": [
    "#removing unecessary colums\n",
    "data.drop([\"R\", \"K-J\", \"APZ\", \"APW\"], axis=1, inplace=True)\n",
    "amino.drop([\"suma\", 'SEZON'], axis=1, inplace=True)"
   ]
  },
  {
   "cell_type": "code",
   "execution_count": null,
   "metadata": {
    "collapsed": true
   },
   "outputs": [],
   "source": [
    "#returns subspecies\n",
    "def subgenus(name):\n",
    "    if ((name == 'F. amabilis') | (name == 'F. ayakoana')):\n",
    "        return \"Japonica\"\n",
    "    elif ((name == 'F. affinis') | (name == 'F. gentneri') | (name == 'F. camtschatcensis') | \n",
    "          (name == 'F. eastwoodiae') | (name == 'F. liliacea') | (name == 'F. recurva')): \n",
    "        return \"Liliorhiza\"\n",
    "    elif (name == 'F. sewerzowii'):\n",
    "        return \"Korolkowia\"\n",
    "    elif ((name == 'F. eduardii') | (name == 'F. imperialis') | (name == 'F. raddeana')):\n",
    "        return \"Petilium\"\n",
    "    elif ((name == 'F. bucharica') | (name == 'F. sthenanthera')):\n",
    "        return \"Rhinopetalum\"\n",
    "    elif (name == 'F. persica'):\n",
    "        return \"Theresia\"\n",
    "    elif ((name == 'F. grandiflora') | (name == 'F. olgae')):\n",
    "        return \"Other\"\n",
    "    else:\n",
    "        return \"Fritillaria\""
   ]
  },
  {
   "cell_type": "code",
   "execution_count": null,
   "metadata": {
    "collapsed": true
   },
   "outputs": [],
   "source": [
    "#returns main pollinator\n",
    "def pollinator(name):\n",
    "    if((name == 'F. eduardii') | (name == 'F. imperialis')):\n",
    "        return \"PAS\"\n",
    "    elif ((name == 'F. camtchatcensis') | (name == 'F. drenovskii') | (name == 'F. graeca') | \n",
    "          (name == 'F. pyrenaica') | (name == 'F. thessala') | (name == 'F. ussuriensis')):\n",
    "        return \"FLY\"\n",
    "    elif ((name == \"F. recurva\") | (name == \"F. gentneri\")):\n",
    "        return \"HUM\"\n",
    "    else:\n",
    "        return \"BEE\""
   ]
  },
  {
   "cell_type": "code",
   "execution_count": null,
   "metadata": {
    "collapsed": true
   },
   "outputs": [],
   "source": [
    "#adding columns with subspecies and main pollinator name \n",
    "data['Subspecies'] = data['Gatunek'].apply(subgenus)\n",
    "data['Pollinator'] = data['Gatunek'].apply(pollinator)"
   ]
  },
  {
   "cell_type": "code",
   "execution_count": null,
   "metadata": {
    "collapsed": true
   },
   "outputs": [],
   "source": [
    "#mean for nectar features group by species\n",
    "df = data.groupby(['Gatunek']).agg({'V': 'mean', 'KON': 'mean', \n",
    "                                    'MASA':'mean'}).reset_index()"
   ]
  },
  {
   "cell_type": "code",
   "execution_count": null,
   "metadata": {
    "collapsed": false
   },
   "outputs": [],
   "source": [
    "df.info()"
   ]
  },
  {
   "cell_type": "code",
   "execution_count": null,
   "metadata": {
    "collapsed": true
   },
   "outputs": [],
   "source": [
    "df.dropna(inplace=True)"
   ]
  },
  {
   "cell_type": "code",
   "execution_count": null,
   "metadata": {
    "collapsed": true
   },
   "outputs": [],
   "source": [
    "df['Pollinator'] = df['Gatunek'].apply(pollinator)\n",
    "df['Subspecies'] = df[\"Gatunek\"].apply(subgenus)"
   ]
  },
  {
   "cell_type": "markdown",
   "metadata": {},
   "source": [
    "## Flower characters"
   ]
  },
  {
   "cell_type": "code",
   "execution_count": null,
   "metadata": {
    "collapsed": true
   },
   "outputs": [],
   "source": [
    "# mean of angle and diagonal of flower\n",
    "flow_prop = data.groupby(['Gatunek']).agg({'V': 'mean','KAT': 'mean',\n",
    "                                   'PS': 'mean'}).reset_index()"
   ]
  },
  {
   "cell_type": "code",
   "execution_count": null,
   "metadata": {
    "collapsed": true
   },
   "outputs": [],
   "source": [
    "flow_prop['Pollinator'] = flow_prop[\"Gatunek\"].apply(pollinator)"
   ]
  },
  {
   "cell_type": "code",
   "execution_count": null,
   "metadata": {
    "collapsed": true
   },
   "outputs": [],
   "source": [
    "col = {'BEE':'#228B22', 'PAS':'#ffe732', 'FLY':\"#e5247e\", 'HUM':'#46c4fd'}\n",
    "flow_prop[\"colors\"] = flow_prop.Pollinator.apply(lambda x: col[x])"
   ]
  },
  {
   "cell_type": "code",
   "execution_count": null,
   "metadata": {
    "collapsed": false
   },
   "outputs": [],
   "source": [
    "labels =[]\n",
    "sns.set_style(\"white\")\n",
    "for key, value in col.items():\n",
    "    labels.append(key)\n",
    "    plt.scatter(x = flow_prop.KAT[flow_prop.Pollinator == key], \n",
    "                y = flow_prop.V[flow_prop.Pollinator == key],\n",
    "                s = 80,\n",
    "                c = flow_prop.colors[flow_prop.Pollinator == key], alpha=0.7, edgecolors='black')\n",
    "\n",
    "plt.yscale('log')\n",
    "plt.xscale('log') \n",
    "plt.xlabel('Nectar volume (log scale)')\n",
    "plt.ylabel('Angle (log scale)')\n",
    "plt.title('Angle of flower vs nectar volume', fontsize=18)\n",
    "\n",
    "plt.text(20, 64, 'F.recurva')\n",
    "plt.text(65, 180, 'F.eduardi')\n",
    "plt.legend(labels, title = \"Pollinator\", loc = 'lower left')\n",
    "\n",
    "plt.show()"
   ]
  },
  {
   "cell_type": "code",
   "execution_count": null,
   "metadata": {
    "collapsed": false
   },
   "outputs": [],
   "source": [
    "labels =[]\n",
    "sns.set_style(\"white\")\n",
    "for key, value in col.items():\n",
    "    labels.append(key)\n",
    "    plt.scatter(x = flow_prop.PS[flow_prop.Pollinator == key], \n",
    "                y = flow_prop.V[flow_prop.Pollinator == key],\n",
    "                s = 80,\n",
    "                c = flow_prop.colors[flow_prop.Pollinator == key], alpha=0.7, edgecolors='black')\n",
    "\n",
    "plt.yscale('log')\n",
    "plt.xscale('log') \n",
    "plt.xlabel('Nectar volume (log scale)')\n",
    "plt.ylabel('Diagonal (log scale)')\n",
    "plt.title('Diagonal vs nectar volume', fontsize=18)\n",
    "\n",
    "#plt.xticks([1000,10000,100000], ['1k','10k','100k'])\n",
    "#plt.text(120, 24, 'F.imperialis')\n",
    "#plt.text(70, 4, 'F.eduardi')\n",
    "\n",
    "plt.legend(labels, title = \"Pollinator\", loc = 'lower right')\n",
    "plt.show()"
   ]
  },
  {
   "cell_type": "code",
   "execution_count": null,
   "metadata": {
    "collapsed": false
   },
   "outputs": [],
   "source": [
    "data.info()"
   ]
  },
  {
   "cell_type": "code",
   "execution_count": null,
   "metadata": {
    "collapsed": false
   },
   "outputs": [],
   "source": [
    "#removing cols with to many missing values - (NB, SZEW, SZY) and with nectar prop.\n",
    "data.drop([\"V\", \"MASA\", \"KON\",\"Subspecies\", \"D1\", \"D2\", \"NB\", \"KAT\", \"SZY\", \"SZEW\",\"PS\", \"SC\",\"ZN\", \"NAS\", \"WYS\", \"SZER\"], axis=1, inplace=True)"
   ]
  },
  {
   "cell_type": "code",
   "execution_count": null,
   "metadata": {
    "collapsed": false
   },
   "outputs": [],
   "source": [
    "columns = data.columns\n",
    "columns[2:12]"
   ]
  },
  {
   "cell_type": "code",
   "execution_count": null,
   "metadata": {
    "collapsed": false
   },
   "outputs": [],
   "source": [
    "#filling na's with mean value for each species\n",
    "for i in range(2,7):\n",
    "    data.loc[data[columns[i]].isnull(), columns[i]] = data.groupby('Gatunek')[columns[i]].transform('mean')"
   ]
  },
  {
   "cell_type": "code",
   "execution_count": null,
   "metadata": {
    "collapsed": false
   },
   "outputs": [],
   "source": [
    "data = data.dropna()"
   ]
  },
  {
   "cell_type": "code",
   "execution_count": null,
   "metadata": {
    "collapsed": false
   },
   "outputs": [],
   "source": [
    "data.drop(\"Gatunek\", axis=1, inplace=True)"
   ]
  },
  {
   "cell_type": "code",
   "execution_count": null,
   "metadata": {
    "collapsed": false
   },
   "outputs": [],
   "source": [
    "data.info()"
   ]
  },
  {
   "cell_type": "code",
   "execution_count": null,
   "metadata": {
    "collapsed": false
   },
   "outputs": [],
   "source": [
    "sns.pairplot(data)\n",
    "plt.show()"
   ]
  },
  {
   "cell_type": "code",
   "execution_count": null,
   "metadata": {
    "collapsed": false
   },
   "outputs": [],
   "source": [
    "data['PYL'].corr(data['PL'])"
   ]
  },
  {
   "cell_type": "code",
   "execution_count": null,
   "metadata": {
    "collapsed": false
   },
   "outputs": [],
   "source": [
    "data.drop(\"PL\", axis=1, inplace=True)"
   ]
  },
  {
   "cell_type": "code",
   "execution_count": null,
   "metadata": {
    "collapsed": false
   },
   "outputs": [],
   "source": [
    "sns.pairplot(data.iloc[:,1:10])\n",
    "plt.show()"
   ]
  },
  {
   "cell_type": "code",
   "execution_count": null,
   "metadata": {
    "collapsed": true
   },
   "outputs": [],
   "source": [
    "X = data.drop(\"Pollinator\", axis=1)\n",
    "y = data.Pollinator"
   ]
  },
  {
   "cell_type": "code",
   "execution_count": null,
   "metadata": {
    "collapsed": false
   },
   "outputs": [],
   "source": [
    "y.value_counts()"
   ]
  },
  {
   "cell_type": "code",
   "execution_count": null,
   "metadata": {
    "collapsed": true
   },
   "outputs": [],
   "source": [
    "X = pd.get_dummies(X,drop_first=True)\n",
    "columnX = X.columns"
   ]
  },
  {
   "cell_type": "code",
   "execution_count": null,
   "metadata": {
    "collapsed": false
   },
   "outputs": [],
   "source": [
    "le = LabelEncoder()\n",
    "le.fit(y)\n",
    "y_e = le.transform(y)"
   ]
  },
  {
   "cell_type": "code",
   "execution_count": null,
   "metadata": {
    "collapsed": false
   },
   "outputs": [],
   "source": [
    "X_train, X_test, y_train, y_test = train_test_split(X, y_e, test_size=0.25, random_state=42)"
   ]
  },
  {
   "cell_type": "code",
   "execution_count": null,
   "metadata": {
    "collapsed": false
   },
   "outputs": [],
   "source": [
    "models = [LogisticRegression(),\n",
    "          DecisionTreeClassifier(),\n",
    "          SVC(probability=True),  \n",
    "          RandomForestClassifier(), \n",
    "          AdaBoostClassifier(),\n",
    "         xgb.XGBClassifier()]\n",
    "\n",
    "for model in models:\n",
    "\n",
    "    model.fit(X_train, y_train)\n",
    "    y_pred = model.predict(X_test)\n",
    "    predictions = np.round(y_pred)\n",
    "\n",
    "    accuracy = accuracy_score(y_test, predictions)\n",
    "    print(\"%s accuracy: %.2f%%\" % (model.__class__.__name__,accuracy * 100.0))"
   ]
  },
  {
   "cell_type": "code",
   "execution_count": null,
   "metadata": {
    "collapsed": true
   },
   "outputs": [],
   "source": [
    "model = RandomForestClassifier()\n",
    "model.fit(X_train, y_train)\n",
    "y_pred = model.predict(X_test)\n",
    "conf_mat = confusion_matrix(y_test, y_pred)"
   ]
  },
  {
   "cell_type": "code",
   "execution_count": null,
   "metadata": {
    "collapsed": true
   },
   "outputs": [],
   "source": [
    "#plotting confusion matrix\n",
    "def plot_confusion_matrix(cm, classes,\n",
    "                          normalize=False,\n",
    "                          title='Confusion matrix',\n",
    "                          cmap=plt.cm.Blues):\n",
    "    \"\"\"\n",
    "    This function prints and plots the confusion matrix.\n",
    "    Normalization can be applied by setting `normalize=True`.\n",
    "    \"\"\"\n",
    "    if normalize:\n",
    "        cm = cm.astype('float') / cm.sum(axis=1)[:, np.newaxis]\n",
    "        print(\"Normalized confusion matrix\")\n",
    "    else:\n",
    "        print('Confusion matrix, without normalization')\n",
    "\n",
    "    print(cm)\n",
    "\n",
    "    plt.imshow(cm, interpolation='nearest', cmap=cmap)\n",
    "    plt.title(title)\n",
    "    plt.colorbar()\n",
    "    tick_marks = np.arange(len(classes))\n",
    "    plt.xticks(tick_marks, classes, rotation=45)\n",
    "    plt.yticks(tick_marks, classes)\n",
    "\n",
    "    fmt = '.2f' if normalize else 'd'\n",
    "    thresh = cm.max() / 2.\n",
    "    for i, j in itertools.product(range(cm.shape[0]), range(cm.shape[1])):\n",
    "        plt.text(j, i, format(cm[i, j], fmt),\n",
    "                 horizontalalignment=\"center\",\n",
    "                 color=\"white\" if cm[i, j] > thresh else \"black\")\n",
    "\n",
    "    plt.tight_layout()\n",
    "    plt.ylabel('True label')\n",
    "    plt.xlabel('Predicted label')\n"
   ]
  },
  {
   "cell_type": "code",
   "execution_count": null,
   "metadata": {
    "collapsed": true
   },
   "outputs": [],
   "source": [
    "labels = [\"BEE\",\"HUM\",\"FLY\", \"PAS\"]"
   ]
  },
  {
   "cell_type": "code",
   "execution_count": null,
   "metadata": {
    "collapsed": false
   },
   "outputs": [],
   "source": [
    "# Plot non-normalized confusion matrix\n",
    "plt.figure()\n",
    "plot_confusion_matrix(conf_mat, classes=labels,\n",
    "                      title='Confusion matrix')\n",
    "plt.show()"
   ]
  },
  {
   "cell_type": "code",
   "execution_count": null,
   "metadata": {
    "collapsed": false
   },
   "outputs": [],
   "source": [
    "importances = model.feature_importances_\n",
    "indices = np.argsort(importances)[::-1]\n",
    "\n",
    "# Rearrange feature names so they match the sorted feature importances\n",
    "names = [columnX[i] for i in indices]\n",
    "\n",
    "# Create plot\n",
    "plt.figure()\n",
    "\n",
    "# Create plot title\n",
    "plt.title(\"Feature Importance\")\n",
    "\n",
    "# Add bars\n",
    "plt.bar(range(X.shape[1]), importances[indices])\n",
    "\n",
    "# Add feature names as x-axis labels\n",
    "plt.xticks(range(X.shape[1]), names, rotation=90)\n",
    "\n",
    "# Show plot\n",
    "plt.show()"
   ]
  },
  {
   "cell_type": "code",
   "execution_count": null,
   "metadata": {
    "collapsed": false
   },
   "outputs": [],
   "source": [
    "print(classification_report(y_test, y_pred))"
   ]
  },
  {
   "cell_type": "markdown",
   "metadata": {
    "collapsed": true
   },
   "source": [
    "Flower features can determine which pollinators or group of pollinators will be attracted. Moreover, the character and the location of the reward influence the species which are attracted. Our Fritillaria study indicates that foundation for the pollinators switch might be the quality and the quantity of the reward offered in the flower. However, such shift seems unlikely to generate reproductive isolation. Our analysis indicated flower color (orange), the area of the nectary (POW) and anthers length (PYL) as a key features cosing pollinator shift."
   ]
  },
  {
   "cell_type": "markdown",
   "metadata": {},
   "source": [
    "## Reflectancy"
   ]
  },
  {
   "cell_type": "markdown",
   "metadata": {},
   "source": [
    "Flowers serve as filters signalling attractants for pollinators as well as deterrents for flower antagonists. Due to differences in the number of photoreceptors types, the spectral range of sensitivity of the colour photoreceptors, and differences in the colour preference of various flower visitors, flowers can be attractive to pollinators and unattractive to illegitimate visitors, i.e. pollen thieves and nectar robbers, at the same time. Since many flower visitors, such as hummingbirds, bees, hoverflies, beetles, butterflies and moths are sensitive to ultraviolet light, these flower visitors necessarily view different aspects of the spectral reflectance of flowers as compared to UV-blind humans.(Verhoeven et al. 2018)"
   ]
  },
  {
   "cell_type": "markdown",
   "metadata": {},
   "source": [
    "![Spectral sensitivity](spectral_sensitivity.jpg)"
   ]
  },
  {
   "cell_type": "code",
   "execution_count": null,
   "metadata": {
    "collapsed": true
   },
   "outputs": [],
   "source": [
    "names = xls.sheet_names"
   ]
  },
  {
   "cell_type": "markdown",
   "metadata": {},
   "source": [
    "### Nectaries"
   ]
  },
  {
   "cell_type": "code",
   "execution_count": null,
   "metadata": {
    "collapsed": true
   },
   "outputs": [],
   "source": [
    "#searching for \"nectaries\" in sheets name\n",
    "nectaries = []\n",
    "pattern = \".+nectari\"\n",
    "nectaries = [x for x in names if re.match(pattern,x)]"
   ]
  },
  {
   "cell_type": "code",
   "execution_count": null,
   "metadata": {
    "collapsed": true
   },
   "outputs": [],
   "source": [
    "#getting indexes of \"nectaries\" sheets\n",
    "index_nec = []\n",
    "for i in range(len(nectaries)):\n",
    "    index_nec.append(names.index(nectaries[i]))   "
   ]
  },
  {
   "cell_type": "code",
   "execution_count": null,
   "metadata": {
    "collapsed": true
   },
   "outputs": [],
   "source": [
    "#nectaries sheets\n",
    "sheets_nect = []\n",
    "for i in range(len(nectaries)):\n",
    "    sheet = xls.parse(index_nec[i])\n",
    "    sheets_nect.append(sheet)"
   ]
  },
  {
   "cell_type": "code",
   "execution_count": null,
   "metadata": {
    "collapsed": false
   },
   "outputs": [],
   "source": [
    "#columns wiht reflectancy value\n",
    "columns_ref = sheets_nect[0].columns[1::2]"
   ]
  },
  {
   "cell_type": "code",
   "execution_count": null,
   "metadata": {
    "collapsed": true
   },
   "outputs": [],
   "source": [
    "#selcecting UV & visible spectrum\n",
    "for i in range(len(sheets_nect)):\n",
    "    sheets_nect[i] = sheets_nect[i][(sheets_nect[i].nm > 300) & (sheets_nect[i].nm < 700)]"
   ]
  },
  {
   "cell_type": "code",
   "execution_count": null,
   "metadata": {
    "collapsed": true
   },
   "outputs": [],
   "source": [
    "#mean of reflectancy value\n",
    "for i in range(len(sheets_nect)):\n",
    "    sheets_nect[i] = sheets_nect[i].assign(mean=sheets_nect[i][columns_ref].mean(axis=1)/1000)"
   ]
  },
  {
   "cell_type": "code",
   "execution_count": null,
   "metadata": {
    "collapsed": true
   },
   "outputs": [],
   "source": [
    "#list of analysed species\n",
    "species = [\"F. imperialis\",\"F. michailovskyi\",'F. whittallii','F. tubiformis','F. gracilis',\n",
    "           'F. eduardii','F. minima','F. thunbergii','F. eastwoodiae', \"F. liliaceae\", \n",
    "           \"F. liliaceae\", \"F. kurdica\",'F. pyrenaica', 'F. pontica', 'F. thunbergii',\n",
    "           'F. uva vulpis', 'F. affinis','F. montana',  'F. aryiana', 'F. dasyphylla', \n",
    "           'F. verticillata','F. serpenticola', 'F. mutabilis', 'F. raddeana', 'F. graeca', \n",
    "           'F. caucasica', 'F. gibbosa', 'F. armena','F. stenanthera','F. ussuriensis',\n",
    "           'F. kotschyana','F. meleagris', \"F. michailovskyi\", 'F. latakesis', 'F. gentneri',\n",
    "          'F. recurva', 'F. sewerzowii']"
   ]
  },
  {
   "cell_type": "code",
   "execution_count": null,
   "metadata": {
    "collapsed": true
   },
   "outputs": [],
   "source": [
    "#changing labels for species name\n",
    "nect_sp=[]\n",
    "for i in range(len(nectaries)):\n",
    "    nect_sp.append(nectaries[i].replace('Sp'+str(i+1), species[i]))"
   ]
  },
  {
   "cell_type": "code",
   "execution_count": null,
   "metadata": {
    "collapsed": true
   },
   "outputs": [],
   "source": [
    "nect_species = []\n",
    "for i in range(len(nect_sp)):\n",
    "    nect_species.append(nect_sp[i].replace(\" nectaries\", \"\"))"
   ]
  },
  {
   "cell_type": "code",
   "execution_count": null,
   "metadata": {
    "collapsed": true
   },
   "outputs": [],
   "source": [
    "col_nect = (\"#000000\", \"#ff1493\", \"#187e03\", \"#a8224a\", \"#58559c\", \"#ffb653\", \"#0d8dd7\", \n",
    "            \"#eaec32\", \"#ff0000\", \"#3701fe\", \"#fff138\", \"#767676\")"
   ]
  },
  {
   "cell_type": "code",
   "execution_count": null,
   "metadata": {
    "collapsed": false
   },
   "outputs": [],
   "source": [
    "import matplotlib as mpl\n",
    "N = 37\n",
    "l_styles = ['-','--','-.',':']\n",
    "m_styles = ['','.','o','^','*']\n",
    "colormap = mpl.cm.Dark2.colors   # Qualitative colormap\n",
    "for i,(marker,linestyle,color) in zip(range(N),itertools.product(m_styles,l_styles, col_nect)):\n",
    "    plt.plot(sheets_nect[i][\"nm\"],sheets_nect[i][\"mean\"], \n",
    "             #color=mpl.colors.to_hex(col_nect[i]), \n",
    "             color = color, \n",
    "             markersize=1,\n",
    "             linestyle=linestyle, marker=marker, label=nect_species[i])\n",
    "    plt.ylim(0,70)\n",
    "    #plt.title(\"Nectaries reflectancy\", fontsize=16)\n",
    "plt.xlabel(\"Wavelength [nm]\")\n",
    "plt.ylabel(\"Reflectancy\")\n",
    "#plt.figsize=(10,10)\n",
    "plt.legend(bbox_to_anchor=(1.1, 1), loc=2, borderaxespad=0.,ncol=2)\n",
    "#plt.savefig('Nectaries.jpg', bbox_inches=\"tight\", dpi=1000)\n",
    "plt.show()"
   ]
  },
  {
   "cell_type": "markdown",
   "metadata": {},
   "source": [
    "### Petal outside"
   ]
  },
  {
   "cell_type": "code",
   "execution_count": null,
   "metadata": {
    "collapsed": true
   },
   "outputs": [],
   "source": [
    "outside = []\n",
    "pattern = \".+ou.+\"\n",
    "outside = [x for x in names if re.match(pattern,x)]"
   ]
  },
  {
   "cell_type": "code",
   "execution_count": null,
   "metadata": {
    "collapsed": true
   },
   "outputs": [],
   "source": [
    "indexes_outside = []\n",
    "for i in range(len(outside)):\n",
    "    indexes_outside.append(names.index(outside[i]))\n",
    "\n",
    "sheets_outside = []\n",
    "for i in range(len(outside)):\n",
    "    sheet = xls.parse(indexes_outside[i])\n",
    "    sheets_outside.append(sheet)"
   ]
  },
  {
   "cell_type": "code",
   "execution_count": null,
   "metadata": {
    "collapsed": true
   },
   "outputs": [],
   "source": [
    "#returns UV & visible spectrum\n",
    "for i in range(len(sheets_outside)):\n",
    "    sheets_outside[i] = sheets_outside[i][(sheets_outside[i].nm > 300) & (sheets_outside[i].nm < 700)]"
   ]
  },
  {
   "cell_type": "code",
   "execution_count": null,
   "metadata": {
    "collapsed": true
   },
   "outputs": [],
   "source": [
    "#returns mean of wavelengths (relative)\n",
    "for i in range(len(sheets_outside)):\n",
    "    sheets_outside[i] = sheets_outside[i].assign(mean=sheets_outside[i][columns_ref].mean(axis=1)/1000)"
   ]
  },
  {
   "cell_type": "code",
   "execution_count": null,
   "metadata": {
    "collapsed": false
   },
   "outputs": [],
   "source": [
    "numbers = []\n",
    "for i in range(1,38):\n",
    "    numbers.append(\"Sp\"+str(i))\n",
    "nms = list(zip(numbers, species))\n",
    "outside_species = []\n",
    "for i in range(11):\n",
    "    outside_species.append(reduce(lambda a, kv: a.replace(*kv), nms, outside[i])) "
   ]
  },
  {
   "cell_type": "code",
   "execution_count": null,
   "metadata": {
    "collapsed": true
   },
   "outputs": [],
   "source": [
    "for i in range(11, len(outside)):\n",
    "    outside_species.append(reduce(lambda a, kv: a.replace(*kv), nms[9:], outside[i])) "
   ]
  },
  {
   "cell_type": "code",
   "execution_count": null,
   "metadata": {
    "collapsed": false
   },
   "outputs": [],
   "source": [
    "N = 45\n",
    "l_styles = ['-','--','-.',':']\n",
    "m_styles = ['','.','o','^','*']\n",
    "colormap = mpl.cm.Dark2.colors   # Qualitative colormap\n",
    "for i,(marker,linestyle,color) in zip(range(N),itertools.product(m_styles,l_styles, col_nect)):\n",
    "    plt.plot(sheets_outside[i][\"nm\"],sheets_outside[i][\"mean\"], \n",
    "             #color=mpl.colors.to_hex(col_nect[i]), \n",
    "             color = color, \n",
    "             markersize=1,\n",
    "             linestyle=linestyle, \n",
    "             marker=marker, label=outside_species[i])\n",
    "plt.title(\"Tepals reflectancy\", fontsize=16)\n",
    "plt.xlabel(\"Wavelength [nm]\")\n",
    "plt.ylabel(\"Reflectancy\")\n",
    "#plt.figsize=(20,20)\n",
    "plt.legend(bbox_to_anchor=(1.1, 1), loc=2, borderaxespad=0.,ncol=2)\n",
    "#plt.savefig('Outside.jpg', bbox_inches=\"tight\", dpi=1000)\n",
    "plt.show()"
   ]
  },
  {
   "cell_type": "code",
   "execution_count": null,
   "metadata": {
    "collapsed": true
   },
   "outputs": [],
   "source": [
    "#grouping species by color\n",
    "green = ['F. whittallii', 'F. pontica', 'F. thunbergii', 'F. verticillata']\n",
    "orange = [\"F. imperialis\",'F. eduardii']\n",
    "pink = ['F. aryiana', 'F. gibbosa','F. stenanthera']\n",
    "purple = [\"F. michailovskyi\",'F. tubiformis','F. gracilis', \"F. kurdica\",'F. pyrenaica', \n",
    "           'F. uva vulpis', 'F. affinis','F. montana', 'F. mutabilis', 'F. graeca', \n",
    "           'F. caucasica', 'F. armena','F. ussuriensis','F. kotschyana','F. meleagris', \n",
    "          \"F. michailovskyi\", 'F. latakesis', 'F. sewerzowii']\n",
    "red = ['F. eastwoodiae', 'F. gentneri', 'F. recurva']\n",
    "white = [\"F. liliaceae\"]\n",
    "yellow = ['F. minima','F. thunbergii','F. dasyphylla', 'F. serpenticola', 'F. raddeana']\n",
    "flower_colors = [\"Green\", \"Orange\", \"Pink\", \"Red\", \"White\", \"Yellow\"]\n",
    "flower = [green, orange, pink, red, white, yellow]\n",
    "col_ref = ['#228B22', \"#e5247e\", \"#00447C\", 'y', '#991188',\"#ffe732\", 'k', '#46c4fd']"
   ]
  },
  {
   "cell_type": "markdown",
   "metadata": {},
   "source": [
    "### Petals reflectancy by colour of flower"
   ]
  },
  {
   "cell_type": "code",
   "execution_count": null,
   "metadata": {
    "collapsed": false
   },
   "outputs": [],
   "source": [
    "for z in range(len(flower)):\n",
    "    #indexes of specific color flower\n",
    "    matching = [i for i, x in enumerate(outside_species) for keyword in flower[z] if keyword in x]\n",
    "    plt.figure()\n",
    "    for i in range(len(matching)):  \n",
    "        plt.plot(sheets_outside[matching[i]][\"nm\"], sheets_outside[matching[i]][\"mean\"], \n",
    "                c = col_ref[i],\n",
    "                label = outside_species[matching[i]]),\n",
    "        plt.legend(),\n",
    "        plt.ylim(0,70)\n",
    "    plt.xlabel(\"Wavelength [nm]\")\n",
    "    plt.ylabel(\"Reflectancy\")\n",
    "    plt.title(flower_colors[z])\n",
    "    #saving plot with proper name\n",
    "    #plt.savefig('{}.jpg'.format(flower_colors[z]))\n",
    "plt.show()"
   ]
  },
  {
   "cell_type": "code",
   "execution_count": null,
   "metadata": {
    "collapsed": false
   },
   "outputs": [],
   "source": [
    "matching_purple = [i for i, x in enumerate(outside_species) for keyword in purple if keyword in x]\n",
    "N=27\n",
    "l_styles = ['-','--','-.',':']\n",
    "m_styles = ['','.','o','^','*']\n",
    "colormap = mpl.cm.Dark2.colors   # Qualitative colormap\n",
    "for i,(marker,linestyle,color) in zip(range(N),itertools.product(m_styles,l_styles, col_nect)):\n",
    "    plt.plot(sheets_outside[matching_purple[i]][\"nm\"],sheets_outside[matching_purple[i]][\"mean\"], \n",
    "             #color=mpl.colors.to_hex(col_nect[i]), \n",
    "             color = color, \n",
    "             markersize=1,\n",
    "             linestyle=linestyle, marker=marker, label=outside_species[matching_purple[i]])\n",
    "    plt.ylim(0,70)\n",
    "    plt.title(\"Purple\")\n",
    "    plt.xlabel(\"Wavelength [nm]\")\n",
    "    plt.ylabel(\"Reflectancy\")\n",
    "#plt.figsize=(10,10)\n",
    "\n",
    "plt.legend(bbox_to_anchor=(1.2, 1), loc=2, borderaxespad=0.,ncol=2)\n",
    "plt.savefig('purple.jpg', bbox_inches=\"tight\", dpi=1000)\n",
    "plt.show()"
   ]
  },
  {
   "cell_type": "markdown",
   "metadata": {},
   "source": [
    "### Petal inside"
   ]
  },
  {
   "cell_type": "code",
   "execution_count": null,
   "metadata": {
    "collapsed": true
   },
   "outputs": [],
   "source": [
    "inside = []\n",
    "pattern = \".+in.+\"\n",
    "inside = [x for x in names if re.match(pattern,x)]"
   ]
  },
  {
   "cell_type": "code",
   "execution_count": null,
   "metadata": {
    "collapsed": true
   },
   "outputs": [],
   "source": [
    "#getting inside sheets\n",
    "indexes_inside = []\n",
    "for i in range(len(inside)):\n",
    "    indexes_inside.append(names.index(inside[i]))\n",
    "\n",
    "sheets_inside = []\n",
    "for i in range(len(inside)):\n",
    "    sheet = xls.parse(indexes_inside[i])\n",
    "    sheets_inside.append(sheet)"
   ]
  },
  {
   "cell_type": "code",
   "execution_count": null,
   "metadata": {
    "collapsed": true
   },
   "outputs": [],
   "source": [
    "#UV & visible spectrum\n",
    "for i in range(len(sheets_inside)):\n",
    "    sheets_inside[i] = sheets_inside[i][(sheets_inside[i].nm > 300) & (sheets_inside[i].nm < 700)]"
   ]
  },
  {
   "cell_type": "code",
   "execution_count": null,
   "metadata": {
    "collapsed": true
   },
   "outputs": [],
   "source": [
    "#returns mean of wavelengths\n",
    "for i in range(len(sheets_inside)):\n",
    "    sheets_inside[i] = sheets_inside[i].assign(mean=sheets_inside[i][columns_ref].mean(axis=1)/1000)"
   ]
  },
  {
   "cell_type": "code",
   "execution_count": null,
   "metadata": {
    "collapsed": false
   },
   "outputs": [],
   "source": [
    "inside_species = []\n",
    "for i in range(11):\n",
    "    inside_species.append(reduce(lambda a, kv: a.replace(*kv), nms, inside[i]))"
   ]
  },
  {
   "cell_type": "code",
   "execution_count": null,
   "metadata": {
    "collapsed": true
   },
   "outputs": [],
   "source": [
    "for i in range(11, len(outside)):\n",
    "    inside_species.append(reduce(lambda a, kv: a.replace(*kv), nms[9:], outside[i]))"
   ]
  },
  {
   "cell_type": "code",
   "execution_count": null,
   "metadata": {
    "collapsed": false
   },
   "outputs": [],
   "source": [
    "N = 45\n",
    "l_styles = ['-','--','-.',':']\n",
    "m_styles = ['','.','o','^','*']\n",
    "colormap = mpl.cm.Dark2.colors   # Qualitative colormap\n",
    "for i,(marker,linestyle,color) in zip(range(N),itertools.product(m_styles,l_styles, col_nect)):\n",
    "    plt.plot(sheets_inside[i][\"nm\"],sheets_inside[i][\"mean\"], \n",
    "             #color=matplotlib.colors.to_hex(col[i]), \n",
    "             color = color, markersize=1,\n",
    "             linestyle=linestyle, marker=marker, label=inside_species[i])\n",
    "#plt.figsize=(10,10)\n",
    "plt.title(\"Tepals inside reflectancy\", fontsize=16)\n",
    "plt.xlabel(\"Wavelength [nm]\")\n",
    "plt.ylabel(\"Reflectancy\")\n",
    "plt.legend(bbox_to_anchor=(1.05, 1), loc=2, borderaxespad=0.,ncol=3)\n",
    "#plt.savefig('Inside.jpg', bbox_inches=\"tight\", dpi=1000)\n",
    "plt.show()"
   ]
  },
  {
   "cell_type": "markdown",
   "metadata": {
    "collapsed": true
   },
   "source": [
    "The wax layer on the petals surface coses lack of reflectance in UV. Red colour of the bird-pollinated species is not invisible for insect pollinators(cryptic). Red flowers (F. genteri) are visible for insect pollinators (red coloration activates other then green receptor in insects eyes)."
   ]
  },
  {
   "cell_type": "markdown",
   "metadata": {
    "collapsed": true
   },
   "source": [
    "In all cases the reflectance values were similar among most of the studied species. This indicate that the colour as a floral character seems to be conservative, which means that the pollinators preferences play a minor role. However, floral colour proved to be one of the most important characters deciding about occurrence of the pollinator shift. "
   ]
  },
  {
   "cell_type": "markdown",
   "metadata": {},
   "source": [
    "## Nectar properties"
   ]
  },
  {
   "cell_type": "code",
   "execution_count": null,
   "metadata": {
    "collapsed": false
   },
   "outputs": [],
   "source": [
    "col = {'BEE':'#228B22', 'PAS':'#ffe732', 'FLY':\"#e5247e\", 'HUM':'#46c4fd'}\n",
    "df[\"colors\"] = df.Pollinator.apply(lambda x: col[x])"
   ]
  },
  {
   "cell_type": "code",
   "execution_count": null,
   "metadata": {
    "collapsed": false
   },
   "outputs": [],
   "source": [
    "labels =[]\n",
    "sns.set_style(\"white\")\n",
    "for key, value in col.items():\n",
    "    labels.append(key)\n",
    "    plt.scatter(x = df.V[df.Pollinator == key], y = df.KON[df.Pollinator == key],\n",
    "            s = np.array(df.MASA[df.Pollinator == key]) * 10000, \n",
    "            c = df.colors[df.Pollinator == key], alpha=0.7, edgecolors='black')\n",
    "\n",
    "#plt.yscale('log')\n",
    "plt.xscale('log') \n",
    "plt.xlabel('Nectar volume (log scale)')\n",
    "plt.ylabel('Nectar concentration')\n",
    "plt.title('Nectar volume vs nectar concentration', fontsize=18)\n",
    "plt.xlim(0,350)\n",
    "\n",
    "#plt.xticks([1000,10000,100000], ['1k','10k','100k'])\n",
    "plt.text(120, 24, 'F.imperialis')\n",
    "plt.text(70, 4, 'F.eduardi')\n",
    "lgnd = plt.legend(labels, title='Color by pollinator')\n",
    "for i in range(len(col)):\n",
    "    lgnd.legendHandles[i]._sizes = [60]\n",
    "\n",
    "plt.text(67,55, \"Size by mass\")\n",
    "plt.scatter(110, 51, s=100, c = 'white', edgecolors='k')\n",
    "plt.text(140, 49.8,  r'$0.1 \\mu g$')\n",
    "# Show the plot\n",
    "plt.show()"
   ]
  },
  {
   "cell_type": "code",
   "execution_count": null,
   "metadata": {
    "collapsed": false,
    "scrolled": true
   },
   "outputs": [],
   "source": [
    "import plotly as py\n",
    "import plotly.graph_objs as go\n",
    "import ipywidgets as widgets \n",
    "import numpy as np\n",
    "from scipy import special\n",
    "py.offline.init_notebook_mode(connected = True)\n",
    "data = df\n",
    "#df = df.sort_values(['pollinator'])\n",
    "slope = 2.666051223553066e-05\n",
    "hover_text = []\n",
    "bubble_size = []\n",
    "\n",
    "for index, row in df.iterrows():\n",
    "    hover_text.append(('Species: {Gatunek}<br>'+\n",
    "                      'Mass: {MASA}<br>'\n",
    "                      ).format(Gatunek=row['Gatunek'],\n",
    "                                            MASA=round(row['MASA'],3),\n",
    "                                            ))\n",
    "    bubble_size.append(row['MASA']*1000)\n",
    "\n",
    "df['text'] = hover_text\n",
    "df['size'] = bubble_size\n",
    "sizeref = 2.*max(df['size'])/(100**2)\n",
    "\n",
    "trace0 = go.Scatter(\n",
    "    x=df['V'][df['Pollinator'] == 'BEE'],\n",
    "    y=df['KON'][df['Pollinator'] == 'BEE'],\n",
    "    mode='markers',\n",
    "    name='BEE',\n",
    "    text=df['text'][df['Pollinator'] == 'BEE'],\n",
    "    marker=dict(\n",
    "        symbol='circle',\n",
    "        sizemode='area',\n",
    "        sizeref=sizeref,\n",
    "        size=df['size'][df['Pollinator'] == 'BEE'],\n",
    "        color = '#228B22',\n",
    "        line=dict(\n",
    "            width=2\n",
    "        ),\n",
    "    )\n",
    ")\n",
    "trace1 = go.Scatter(\n",
    "    x=df['V'][df['Pollinator'] == 'PAS'],\n",
    "    y=df['KON'][df['Pollinator'] == 'PAS'],\n",
    "    mode='markers',\n",
    "    name='PAS',\n",
    "    text=df['text'][df['Pollinator'] == 'PAS'],\n",
    "    marker=dict(\n",
    "        symbol='circle',\n",
    "        sizemode='area',\n",
    "        sizeref=sizeref,\n",
    "        size=df['size'][df['Pollinator'] == 'PAS'],\n",
    "        color = '#ffe732',\n",
    "        line=dict(\n",
    "            width=2\n",
    "        ),\n",
    "    )\n",
    ")\n",
    "trace2 = go.Scatter(\n",
    "    x=df['V'][df['Pollinator'] == 'FLY'],\n",
    "    y=df['KON'][df['Pollinator'] == 'FLY'],\n",
    "    mode='markers',\n",
    "    name='FLY',\n",
    "    text=df['text'][df['Pollinator'] == 'FLY'],\n",
    "    \n",
    "    marker=dict(\n",
    "        symbol='circle',\n",
    "        sizemode='area',\n",
    "        sizeref=sizeref,\n",
    "        size=df['size'][df['Pollinator'] == 'FLY'],\n",
    "        color = '#e5247e',\n",
    "        line=dict(\n",
    "            width=2\n",
    "        ),\n",
    "    )\n",
    ")\n",
    "trace3 = go.Scatter(\n",
    "      x=df['V'][df['Pollinator'] == 'HUM'],\n",
    "    y=df['KON'][df['Pollinator'] == 'HUM'],\n",
    "    mode='markers',\n",
    "    name='HUM',\n",
    "    text=df['text'][df['Pollinator'] == 'HUM'],\n",
    "    marker=dict(\n",
    "        symbol='circle',\n",
    "        sizemode='area',\n",
    "        sizeref=sizeref,\n",
    "        size=df['size'][df['Pollinator'] == 'HUM'],\n",
    "        color='#46c4fd',\n",
    "        line=dict(\n",
    "            width=2\n",
    "        ),\n",
    "    )\n",
    ")\n",
    "\n",
    "data = [trace0, trace1, trace2, trace3]\n",
    "layout = go.Layout(\n",
    "    title='Nectar volume vs nectar concentration',\n",
    "    xaxis=dict(\n",
    "        title='Nectar volume (log scale)',\n",
    "        gridcolor='rgb(255, 255, 255)',\n",
    "        #range=[2.003297660701705, 5.191505530708712],\n",
    "        type='log',\n",
    "        zerolinewidth=1,\n",
    "        hoverformat = '.2f',\n",
    "        ticklen=5,\n",
    "        gridwidth=2,\n",
    "    ),\n",
    "    yaxis=dict(\n",
    "        title='Nectar concentration',\n",
    "        gridcolor='rgb(255, 255, 255)',\n",
    "        #range=[36.12621671352166, 91.72921793264332],\n",
    "        zerolinewidth=1,\n",
    "        ticklen=5,\n",
    "        hoverformat = '.2f',\n",
    "        gridwidth=2,\n",
    "    ),\n",
    "    paper_bgcolor='rgb(243, 243, 243)',\n",
    "    plot_bgcolor='rgb(243, 243, 243)',\n",
    ")\n",
    "\n",
    "fig = dict(data=data, layout=layout)\n",
    "py.offline.iplot(fig)"
   ]
  },
  {
   "cell_type": "code",
   "execution_count": null,
   "metadata": {
    "collapsed": true
   },
   "outputs": [],
   "source": [
    "col = {'Fritillaria':'#228B22', 'Rhinopetalum':'red', 'Liliorhiza':\"#e5247e\", \n",
    "       'Petilium':'#46c4fd', 'Other': \"#00447C\", 'Theresia': '#991188','Korolkowia': \"#ffe732\", \"Japonica\":'k'}"
   ]
  },
  {
   "cell_type": "code",
   "execution_count": null,
   "metadata": {
    "collapsed": true
   },
   "outputs": [],
   "source": [
    "df[\"colors\"] = df.Subspecies.apply(lambda x: col[x])"
   ]
  },
  {
   "cell_type": "code",
   "execution_count": null,
   "metadata": {
    "collapsed": false
   },
   "outputs": [],
   "source": [
    "labels =[]\n",
    "for key, value in col.items():\n",
    "    labels.append(key)\n",
    "    plt.scatter(x = df.V[df.Subspecies == key], y = df.KON[df.Subspecies == key],\n",
    "            s = np.array(df.MASA[df.Subspecies == key]) * 10000, \n",
    "            c = df.colors[df.Subspecies == key], alpha=0.7, edgecolors='black')\n",
    "\n",
    "#plt.yscale('log')\n",
    "plt.xscale('log') \n",
    "plt.xlabel('Nectar volume (log scale)')\n",
    "plt.ylabel('Nectar concentration')\n",
    "plt.title('Nectar volume vs nectar concentration', fontsize=16)\n",
    "plt.xlim(0,450)\n",
    "#plt.xticks([1000,10000,100000], ['1k','10k','100k'])\n",
    "plt.text(120, 24, 'F.imperialis')\n",
    "plt.text(70, 4, 'F.eduardi')\n",
    "lgnd = plt.legend(labels, title='Color by subspecies', loc=\"lower left\")\n",
    "for i in range(len(col)):\n",
    "    lgnd.legendHandles[i]._sizes = [60]\n",
    "\n",
    "plt.text(0.23,75, \"Size by mass\")\n",
    "plt.scatter(0.32, 70, s=100, c = 'white', edgecolors='k')\n",
    "plt.text(0.4, 69,  r'$0.1 \\mu g$')\n",
    "# Show the plot\n",
    "plt.show()"
   ]
  },
  {
   "cell_type": "code",
   "execution_count": null,
   "metadata": {
    "collapsed": true
   },
   "outputs": [],
   "source": [
    "#total concentration of AA's in nectar\n",
    "amino[\"Total\"] = amino.iloc[:,3:33].sum(axis = 1)"
   ]
  },
  {
   "cell_type": "code",
   "execution_count": null,
   "metadata": {
    "collapsed": true
   },
   "outputs": [],
   "source": [
    "#mean concentration of AA's, nectar volume and nectar concentration\n",
    "amino_mean = amino.groupby('Gatunek').mean().reset_index()"
   ]
  },
  {
   "cell_type": "code",
   "execution_count": null,
   "metadata": {
    "collapsed": true
   },
   "outputs": [],
   "source": [
    "amino_mean[\"Pollinator\"] = amino_mean[\"Gatunek\"].apply(pollinator)"
   ]
  },
  {
   "cell_type": "code",
   "execution_count": null,
   "metadata": {
    "collapsed": true
   },
   "outputs": [],
   "source": [
    "col = {'BEE':'#228B22', 'PAS':'#ffe732', 'FLY':\"#e5247e\", 'HUM':'#46c4fd'}\n",
    "amino_mean[\"colors\"] = amino_mean.Pollinator.apply(lambda x: col[x])"
   ]
  },
  {
   "cell_type": "code",
   "execution_count": null,
   "metadata": {
    "collapsed": false
   },
   "outputs": [],
   "source": [
    "labels =[]\n",
    "sns.set_style(\"white\")\n",
    "for key, value in col.items():\n",
    "    labels.append(key)\n",
    "    plt.scatter(x = amino_mean.v[amino_mean.Pollinator == key], \n",
    "                y = amino_mean.Total[amino_mean.Pollinator == key],\n",
    "                s = 80,\n",
    "                c = amino_mean.colors[amino_mean.Pollinator == key], alpha=0.7, edgecolors='black')\n",
    "\n",
    "plt.yscale('log')\n",
    "plt.xscale('log') \n",
    "plt.xlabel('Mean nectar volume (log scale)')\n",
    "plt.ylabel('Total concentration of aminoacids (log scale)')\n",
    "plt.title('Nectar volume vs total concentration of aminoacids', fontsize=16)\n",
    "\n",
    "plt.text(100, 15000, 'F.imperialis')\n",
    "plt.text(55, 50000, 'F.eduardii')\n",
    "#lgnd = plt.legend(labels, title='Color by pollinator')\n",
    "#for i in range(len(col)):\n",
    "#    lgnd.legendHandles[i]._sizes = [60]\n",
    "plt.legend(labels, title = \"Pollinator\", loc = 'upper left')\n",
    "# Show the plot\n",
    "plt.show()"
   ]
  },
  {
   "cell_type": "code",
   "execution_count": null,
   "metadata": {
    "collapsed": false,
    "scrolled": true
   },
   "outputs": [],
   "source": [
    "#Exploratory analysis of aminoacids in nectar by pollinator\n",
    "df2 = amino.drop([\"Gatunek\", \"ORIGIN\", \"dominujący cukier\"], axis=1)\n",
    "#reshaping df\n",
    "df2 = pd.melt(df2, id_vars=['pollinator'])\n",
    "df2.info()"
   ]
  },
  {
   "cell_type": "code",
   "execution_count": null,
   "metadata": {
    "collapsed": true
   },
   "outputs": [],
   "source": [
    "#selecting essential aa's except GLN\n",
    "essential = df2[(df2.variable == \"ASP\")| (df2.variable == \"GLU\") | (df2.variable == \"SER\") |\n",
    "         (df2.variable == \"PRO\") | (df2.variable == \"GLY\")| (df2.variable == \"ALA\") | \n",
    "         (df2.variable == \"VAL\")]"
   ]
  },
  {
   "cell_type": "code",
   "execution_count": null,
   "metadata": {
    "collapsed": false
   },
   "outputs": [],
   "source": [
    "#boxplots grouped by pollinator\n",
    "plt.figure(figsize=(15,8))\n",
    "sns.set_style(\"white\")\n",
    "ax = sns.boxplot(x=\"variable\", y=\"value\", hue=\"pollinator\", data=essential, linewidth=1, width=1,\n",
    "                 palette=[\"#228B22\", \"#e5247e\", \"#ffe732\", \"#00447C\",\"#991188\"])\n",
    "plt.xlabel(\"Aminoacid\")\n",
    "plt.ylabel(\"Value\")\n",
    "plt.legend(title=\"Pollinator\")\n",
    "plt.title(\"Essential AAs by pollinator\", fontsize=20)\n",
    "#ax.set_facecolor('white')\n",
    "ax.yaxis.label.set_color('k')\n",
    "ax.xaxis.label.set_color('k')\n",
    "ax.set_ylim(0,3000)\n",
    "plt.show()"
   ]
  },
  {
   "cell_type": "code",
   "execution_count": null,
   "metadata": {
    "collapsed": false
   },
   "outputs": [],
   "source": [
    "df2.variable.unique()"
   ]
  },
  {
   "cell_type": "code",
   "execution_count": null,
   "metadata": {
    "collapsed": false
   },
   "outputs": [],
   "source": [
    "#boxplots grouped by pollinator\n",
    "sns.set_style(\"white\")\n",
    "plt.figure(figsize=(15,8))\n",
    "ax = sns.boxplot(x=\"variable\", y=\"value\", hue=\"pollinator\", \n",
    "                 data=df2[(df2.variable!=\"GLN\") & (df2.variable !=\"Total\") &\n",
    "                         (df2.variable != 'v') & (df2.variable != '%')], \n",
    "                 linewidth=1, width=1,\n",
    "                 palette=[\"#228B22\", \"#e5247e\", \"#ffe732\", \"#00447C\",\"#991188\"])\n",
    "plt.xlabel(\"Aminoacids\")\n",
    "plt.ylabel(\"Value\")\n",
    "plt.legend(title=\"Pollinator\")\n",
    "plt.title(\"Aminoacids by pollinator\", fontsize = 20)\n",
    "plt.xticks(rotation=45)\n",
    "ax.set_facecolor('white')\n",
    "ax.yaxis.label.set_color('k')\n",
    "ax.xaxis.label.set_color('k')\n",
    "ax.set_ylim(0,3000)\n",
    "plt.show()"
   ]
  },
  {
   "cell_type": "code",
   "execution_count": null,
   "metadata": {
    "collapsed": false
   },
   "outputs": [],
   "source": [
    "sns.boxplot(data=df2[df2.variable == \"GLN\"], x='pollinator', y='value', \n",
    "           palette=[\"#228B22\", \"#e5247e\", \"#ffe732\", \"#00447C\",\"#991188\"])\n",
    "plt.xlabel(\"Pollinator\")\n",
    "plt.ylabel(\"Value\")\n",
    "plt.title(\"GLN concentration by pollinator\", fontsize = 18)\n",
    "plt.show()"
   ]
  },
  {
   "cell_type": "code",
   "execution_count": null,
   "metadata": {
    "collapsed": false
   },
   "outputs": [],
   "source": [
    "sns.boxplot(data=df2[df2.variable == \"Total\"], x='pollinator', y='value', \n",
    "           palette=[\"#228B22\", \"#e5247e\", \"#ffe732\", \"#00447C\",\"#991188\"])\n",
    "plt.xlabel(\"Pollinator\")\n",
    "plt.ylabel(\"Value\")\n",
    "plt.title(\"Total concentration of AAs by pollinator\", fontsize=18)\n",
    "plt.show()"
   ]
  },
  {
   "cell_type": "code",
   "execution_count": null,
   "metadata": {
    "collapsed": true
   },
   "outputs": [],
   "source": [
    "#prepapring data\n",
    "X = amino.drop([\"pollinator\", \"Gatunek\", \"Total\", \"v\", \"%\", \"ORIGIN\", \"dominujący cukier\" ], axis=1)\n",
    "y = amino.pollinator\n",
    "index = X.columns\n",
    "X = StandardScaler().fit_transform(X)"
   ]
  },
  {
   "cell_type": "code",
   "execution_count": null,
   "metadata": {
    "collapsed": false
   },
   "outputs": [],
   "source": [
    "models = [LogisticRegression(), SVC(), DecisionTreeClassifier(), RandomForestClassifier(),\n",
    "         AdaBoostClassifier(), xgb.XGBClassifier(),\n",
    "          BaggingClassifier(DecisionTreeClassifier(), bootstrap=False)]\n",
    "\n",
    "for m in models:\n",
    "    \n",
    "    print(\"%s %.1f%%\" % (m.__class__.__name__, cross_val_score(m,X,y,cv=3).mean()*100))"
   ]
  },
  {
   "cell_type": "code",
   "execution_count": null,
   "metadata": {
    "collapsed": false
   },
   "outputs": [],
   "source": [
    "model = xgb.XGBClassifier()\n",
    "print(cross_val_score(model,X,y,cv=3).mean())\n",
    "pd.Series(model.fit(X,y).feature_importances_, index = index).sort_values(ascending=False)\n",
    "# Sort feature importances in descending order\n",
    "importances = model.feature_importances_\n",
    "indices = np.argsort(importances)[::-1]\n",
    "\n",
    "# Rearrange feature names so they match the sorted feature importances\n",
    "names = [index[i] for i in indices]\n",
    "\n",
    "# Create plot\n",
    "plt.figure()\n",
    "\n",
    "# Create plot title\n",
    "plt.title(\"Feature Importance\")\n",
    "\n",
    "# Add bars\n",
    "plt.bar(range(X.shape[1]), importances[indices])\n",
    "\n",
    "# Add feature names as x-axis labels\n",
    "plt.xticks(range(X.shape[1]), names, rotation=90)\n",
    "\n",
    "# Show plot\n",
    "plt.show()"
   ]
  },
  {
   "cell_type": "code",
   "execution_count": null,
   "metadata": {
    "collapsed": false
   },
   "outputs": [],
   "source": [
    "plot_tree(model)\n",
    "#plt.savefig(\"tree.png\", dpi=800)\n",
    "plt.show()"
   ]
  },
  {
   "cell_type": "code",
   "execution_count": null,
   "metadata": {
    "collapsed": false
   },
   "outputs": [],
   "source": [
    "y.value_counts()"
   ]
  },
  {
   "cell_type": "code",
   "execution_count": null,
   "metadata": {
    "collapsed": false
   },
   "outputs": [],
   "source": [
    "y_pred = cross_val_predict(model, X, y, cv=3)\n",
    "conf_mat = confusion_matrix(y, y_pred)\n",
    "print(classification_report(y, y_pred))\n",
    "labels=['BEE', 'FLY', 'HUM', 'LEP','PAS']"
   ]
  },
  {
   "cell_type": "code",
   "execution_count": null,
   "metadata": {
    "collapsed": true
   },
   "outputs": [],
   "source": []
  },
  {
   "cell_type": "code",
   "execution_count": null,
   "metadata": {
    "collapsed": false
   },
   "outputs": [],
   "source": [
    "plt.figure()\n",
    "plot_confusion_matrix(conf_mat, classes=labels,\n",
    "                      title='Confusion matrix')\n",
    "plt.show()"
   ]
  },
  {
   "cell_type": "code",
   "execution_count": null,
   "metadata": {
    "collapsed": false
   },
   "outputs": [],
   "source": [
    "amino.dropna(inplace=True)\n",
    "X_ext = amino.drop([\"Gatunek\", \"ORIGIN\", \"pollinator\"], axis=1)\n",
    "X_ext = pd.get_dummies(X_ext,drop_first=True)\n",
    "index_ext = X_ext.columns\n",
    "y_ext = amino[\"pollinator\"]\n",
    "models = [LogisticRegression(), SVC(), DecisionTreeClassifier(), RandomForestClassifier(),\n",
    "         AdaBoostClassifier(), xgb.XGBClassifier(),\n",
    "          BaggingClassifier(DecisionTreeClassifier(), bootstrap=False)]\n",
    "\n",
    "for m in models:\n",
    "    \n",
    "    print(\"%s %.1f%%\" % (m.__class__.__name__, cross_val_score(m,X_ext,y_ext,cv=3).mean()*100))\n"
   ]
  },
  {
   "cell_type": "code",
   "execution_count": null,
   "metadata": {
    "collapsed": false
   },
   "outputs": [],
   "source": [
    "model_ext = xgb.XGBClassifier(n_estimators=100)\n",
    "print(cross_val_score(model_ext,X_ext,y_ext,cv=3).mean())\n",
    "model_ext.fit(X_ext,y_ext)\n",
    "importances_ext = model_ext.feature_importances_\n",
    "indices_ext = np.argsort(importances_ext)[::-1]\n",
    "\n",
    "# Rearrange feature names so they match the sorted feature importances\n",
    "names_ext = [index_ext[i] for i in indices_ext]\n",
    "\n",
    "# Create plot\n",
    "plt.figure()\n",
    "\n",
    "# Create plot title\n",
    "plt.title(\"Feature Importance\")\n",
    "\n",
    "# Add bars\n",
    "plt.bar(range(X.shape[1]), importances[indices])\n",
    "\n",
    "# Add feature names as x-axis labels\n",
    "plt.xticks(range(X_ext.shape[1]), names_ext, rotation=90)\n",
    "\n",
    "# Show plot\n",
    "plt.show()"
   ]
  },
  {
   "cell_type": "code",
   "execution_count": null,
   "metadata": {
    "collapsed": false
   },
   "outputs": [],
   "source": [
    "y_pred_ext = cross_val_predict(model, X_ext, y_ext, cv=3)\n",
    "conf_mat_ext = confusion_matrix(y_ext, y_pred_ext)\n",
    "print(classification_report(y_ext, y_pred_ext))"
   ]
  },
  {
   "cell_type": "code",
   "execution_count": null,
   "metadata": {
    "collapsed": false
   },
   "outputs": [],
   "source": [
    "plt.figure()\n",
    "plot_confusion_matrix(conf_mat_ext, classes=['BEE', 'FLY', 'HUM','LEP', 'PAS'],\n",
    "                      title='Confusion matrix')\n",
    "plt.show()"
   ]
  },
  {
   "cell_type": "code",
   "execution_count": null,
   "metadata": {
    "collapsed": false
   },
   "outputs": [],
   "source": [
    "nectar = nectar[[\"Gatunek\",\"V\", \"KON\", \"MASA\"]]"
   ]
  },
  {
   "cell_type": "code",
   "execution_count": null,
   "metadata": {
    "collapsed": false
   },
   "outputs": [],
   "source": [
    "nectar.info()"
   ]
  },
  {
   "cell_type": "code",
   "execution_count": null,
   "metadata": {
    "collapsed": true
   },
   "outputs": [],
   "source": [
    "nectar.loc[nectar.MASA.isnull(), 'MASA'] = nectar.groupby('Gatunek').MASA.transform('mean')"
   ]
  },
  {
   "cell_type": "code",
   "execution_count": null,
   "metadata": {
    "collapsed": true
   },
   "outputs": [],
   "source": [
    "nectar.loc[nectar.V.isnull(), 'V'] = nectar.groupby('Gatunek').V.transform('mean')\n",
    "nectar.loc[nectar.KON.isnull(), 'KON'] = nectar.groupby('Gatunek').KON.transform('mean')"
   ]
  },
  {
   "cell_type": "code",
   "execution_count": null,
   "metadata": {
    "collapsed": false
   },
   "outputs": [],
   "source": [
    "nectar = nectar.dropna()"
   ]
  },
  {
   "cell_type": "code",
   "execution_count": null,
   "metadata": {
    "collapsed": true
   },
   "outputs": [],
   "source": [
    "nectar['Pollinator'] = nectar[\"Gatunek\"].apply(pollinator)"
   ]
  },
  {
   "cell_type": "code",
   "execution_count": null,
   "metadata": {
    "collapsed": false
   },
   "outputs": [],
   "source": [
    "nectar.Pollinator.value_counts()"
   ]
  },
  {
   "cell_type": "code",
   "execution_count": null,
   "metadata": {
    "collapsed": true
   },
   "outputs": [],
   "source": [
    "#area = data.groupby(['Gatunek']).agg({'V': 'mean','POW': 'mean'}).reset_index()"
   ]
  },
  {
   "cell_type": "code",
   "execution_count": null,
   "metadata": {
    "collapsed": true
   },
   "outputs": [],
   "source": [
    "#prepapring data\n",
    "X = nectar.drop([\"Pollinator\", \"Gatunek\"], axis=1)\n",
    "y = nectar.Pollinator\n",
    "index_nec = X.columns\n",
    "X = StandardScaler().fit_transform(X)"
   ]
  },
  {
   "cell_type": "code",
   "execution_count": null,
   "metadata": {
    "collapsed": true
   },
   "outputs": [],
   "source": [
    "le = LabelEncoder()\n",
    "le.fit(y)\n",
    "y_e = le.transform(y)"
   ]
  },
  {
   "cell_type": "code",
   "execution_count": null,
   "metadata": {
    "collapsed": true
   },
   "outputs": [],
   "source": [
    "X_train, X_test, y_train, y_test = train_test_split(X, y_e, test_size=0.25, random_state=42)"
   ]
  },
  {
   "cell_type": "code",
   "execution_count": null,
   "metadata": {
    "collapsed": false
   },
   "outputs": [],
   "source": [
    "models = [LogisticRegression(),\n",
    "          DecisionTreeClassifier(),\n",
    "          SVC(probability=True),  \n",
    "          RandomForestClassifier(), \n",
    "          AdaBoostClassifier(),\n",
    "         xgb.XGBClassifier()]\n",
    "\n",
    "for model in models:\n",
    "\n",
    "    model.fit(X_train, y_train)\n",
    "    y_pred = model.predict(X_test)\n",
    "    predictions = np.round(y_pred)\n",
    "\n",
    "    accuracy = accuracy_score(y_test, predictions)\n",
    "    print(\"%s accuracy: %.2f%%\" % (model.__class__.__name__,accuracy * 100.0))"
   ]
  },
  {
   "cell_type": "code",
   "execution_count": null,
   "metadata": {
    "collapsed": true
   },
   "outputs": [],
   "source": [
    "model_nec = RandomForestClassifier()\n",
    "model_nec.fit(X_train, y_train)\n",
    "y_pred = model.predict(X_test)\n",
    "conf_mat_nec = confusion_matrix(y_test, y_pred)"
   ]
  },
  {
   "cell_type": "code",
   "execution_count": null,
   "metadata": {
    "collapsed": false
   },
   "outputs": [],
   "source": [
    "# Plot non-normalized confusion matrix\n",
    "plt.figure()\n",
    "plot_confusion_matrix(conf_mat_nec, classes=[\"BEE\",\"HUM\",\"FLY\", \"PAS\"],\n",
    "                      title='Confusion matrix')\n",
    "plt.show()"
   ]
  },
  {
   "cell_type": "code",
   "execution_count": null,
   "metadata": {
    "collapsed": false
   },
   "outputs": [],
   "source": [
    "importances = model_nec.feature_importances_\n",
    "indices = np.argsort(importances)[::-1]\n",
    "\n",
    "# Rearrange feature names so they match the sorted feature importances\n",
    "names = [index_nec[i] for i in indices]\n",
    "\n",
    "# Create plot\n",
    "plt.figure()\n",
    "\n",
    "# Create plot title\n",
    "plt.title(\"Feature Importance\")\n",
    "\n",
    "# Add bars\n",
    "plt.bar(range(X.shape[1]), importances[indices])\n",
    "\n",
    "# Add feature names as x-axis labels\n",
    "plt.xticks(range(X.shape[1]), names, rotation=90)\n",
    "\n",
    "# Show plot\n",
    "plt.show()"
   ]
  },
  {
   "cell_type": "markdown",
   "metadata": {
    "collapsed": true
   },
   "source": [
    "AAs concertation and composition in Fritillaria might be influenced by several factors. While the phylogeny plays a role, as several closely related species have similar AAs composition and concertation, the prevailing evidence is that AA composition and concentration can be variable even within a single species, as well as between closely related taxa.\n",
    "Similarly to subgenus Petilium, differences in AAs concentration and composition in the nectar of closely related species in subgenus Liliorhiza was found. Fritillaria affinis, F. eastwoodiae, F. liliacea produced nectar with higher AAs concentration. Furthermore, a higher amount of bee-preferred proline was present in presumably insect-pollinated species of this subgenus, which also indicates a strong influence of pollinators. \n",
    "Changes in AAs concentration and composition might play an important role in attracting new floral visitors in case of a pollinator shift. Analysis revealed high concentration of AAs in passerine bird-pollinated species, and very low AAs concentration in hummingbird-pollinated species. This tendencies were not reflected in closely related species from the same subgenus. \n",
    "Such low concentration of AAs in hummingbird-pollinated flowers may also have a repellent effect, aiding avoidance of competition with bees favouring higher AAs concentrations (Baker and Baker 1982; Nicolson 2007;Heil 2011), whereas the shortage of AAs in birds’ diet could be overcome via additional food sources, e.g. fruits (Nicolson 2007). \n",
    "Both the AA's concentration and amount of nectar produced (V, MASA) influence strongly on the pollinator type."
   ]
  },
  {
   "cell_type": "markdown",
   "metadata": {
    "collapsed": true
   },
   "source": [
    "## References\n",
    "Verhoeven Ch., Ren ZX, Lunau K. (2018) FALSE-COLOUR PHOTOGRAPHY: A NOVEL DIGITAL APPROACH TO VISUALIZE THE BEE VIEW OF FLOWERS Journal of Pollination Ecology, 23(12), 2018, pp 102-118"
   ]
  },
  {
   "cell_type": "code",
   "execution_count": null,
   "metadata": {
    "collapsed": true
   },
   "outputs": [],
   "source": []
  }
 ],
 "metadata": {
  "kernelspec": {
   "display_name": "Python 3",
   "language": "python",
   "name": "python3"
  },
  "language_info": {
   "codemirror_mode": {
    "name": "ipython",
    "version": 3
   },
   "file_extension": ".py",
   "mimetype": "text/x-python",
   "name": "python",
   "nbconvert_exporter": "python",
   "pygments_lexer": "ipython3",
   "version": "3.6.6"
  }
 },
 "nbformat": 4,
 "nbformat_minor": 2
}
