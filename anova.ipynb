{
 "cells": [
  {
   "cell_type": "code",
   "execution_count": 1,
   "metadata": {},
   "outputs": [],
   "source": [
    "#import libraries\n",
    "import pandas as pd\n",
    "import matplotlib.pyplot as plt\n",
    "import numpy as np\n",
    "import seaborn as sns\n",
    "from sklearn import metrics\n",
    "from sklearn.preprocessing import StandardScaler, LabelEncoder\n",
    "import xgboost as xgb\n",
    "from sklearn.model_selection import train_test_split\n",
    "from sklearn.metrics import roc_auc_score, accuracy_score, confusion_matrix, classification_report\n",
    "import itertools\n",
    "from scipy import stats"
   ]
  },
  {
   "cell_type": "code",
   "execution_count": null,
   "metadata": {},
   "outputs": [],
   "source": [
    "from statsmodels.stats.diagnostic import lillifors"
   ]
  },
  {
   "cell_type": "code",
   "execution_count": null,
   "metadata": {},
   "outputs": [],
   "source": [
    "data = pd.read_excel(\"/Users/FeatureForest/Documents/Spektra list gatunków Fritillaria.xlsx\", sheet_name='DANE KWIATÓW', delimiter=\";\", decimal=\",\")"
   ]
  },
  {
   "cell_type": "code",
   "execution_count": null,
   "metadata": {},
   "outputs": [],
   "source": [
    "data.head()"
   ]
  },
  {
   "cell_type": "code",
   "execution_count": null,
   "metadata": {},
   "outputs": [],
   "source": [
    "#retruns pollinator\n",
    "def pollinator(name):\n",
    "    if((name == 'F. eduardii') | (name == 'F. imperialis')):\n",
    "        return \"PAS\"\n",
    "    elif ((name == \"F. recurva\") | (name == \"F. gentneri\")):\n",
    "        return \"HUM\"\n",
    "    else:\n",
    "        return \"INS\""
   ]
  },
  {
   "cell_type": "code",
   "execution_count": null,
   "metadata": {},
   "outputs": [],
   "source": []
  },
  {
   "cell_type": "code",
   "execution_count": null,
   "metadata": {},
   "outputs": [],
   "source": [
    "data.head()"
   ]
  },
  {
   "cell_type": "code",
   "execution_count": null,
   "metadata": {},
   "outputs": [],
   "source": [
    "data.info()"
   ]
  },
  {
   "cell_type": "code",
   "execution_count": null,
   "metadata": {},
   "outputs": [],
   "source": [
    "data.Gatunek.unique()"
   ]
  },
  {
   "cell_type": "code",
   "execution_count": null,
   "metadata": {},
   "outputs": [],
   "source": [
    "#data[\"płatek\"] = data.płatek.astype(float)\n"
   ]
  },
  {
   "cell_type": "code",
   "execution_count": null,
   "metadata": {},
   "outputs": [],
   "source": [
    "data.groupby(['Gatunek']).agg({'płatek': 'count'\n",
    "                                }).reset_index()"
   ]
  },
  {
   "cell_type": "code",
   "execution_count": null,
   "metadata": {},
   "outputs": [],
   "source": []
  },
  {
   "cell_type": "code",
   "execution_count": null,
   "metadata": {},
   "outputs": [],
   "source": [
    "df1 = data.groupby(['Gatunek']).agg({'Średnica': 'mean', \n",
    "                                     'płatek': 'mean'\n",
    "                                }).reset_index()\n"
   ]
  },
  {
   "cell_type": "code",
   "execution_count": null,
   "metadata": {},
   "outputs": [],
   "source": [
    "df1.dropna(inplace=True)"
   ]
  },
  {
   "cell_type": "code",
   "execution_count": null,
   "metadata": {},
   "outputs": [],
   "source": [
    "df1['Pollinator'] = df1['Gatunek'].apply(pollinator)"
   ]
  },
  {
   "cell_type": "code",
   "execution_count": null,
   "metadata": {},
   "outputs": [],
   "source": [
    "df1"
   ]
  },
  {
   "cell_type": "code",
   "execution_count": null,
   "metadata": {},
   "outputs": [],
   "source": [
    "df1.info()"
   ]
  },
  {
   "cell_type": "code",
   "execution_count": null,
   "metadata": {},
   "outputs": [],
   "source": [
    "ins_srednica = df1.Średnica[df1.Pollinator == \"INS\"]\n",
    "pas_srednica = df1.Średnica[df1.Pollinator == \"PAS\"]\n",
    "hum_srednica = df1.Średnica[df1.Pollinator == \"HUM\"]"
   ]
  },
  {
   "cell_type": "markdown",
   "metadata": {},
   "source": [
    "### Testing normality srednica"
   ]
  },
  {
   "cell_type": "code",
   "execution_count": null,
   "metadata": {},
   "outputs": [],
   "source": [
    "pVals = pd.Series()\n",
    "# The scipy normaltest is based on D-Agostino and Pearsons test that\n",
    "# combines skew and kurtosis to produce an omnibus test of normality.\n",
    "_, pVals['Omnibus']    = stats.normaltest(ins_srednica)\n",
    "\n",
    "# Shapiro-Wilk test\n",
    "_, pVals['Shapiro-Wilk']    = stats.shapiro(ins_srednica)\n",
    "\n",
    "# Or you can check for normality with Lilliefors-test\n",
    "_, pVals['Lilliefors']    = lillifors(ins_srednica)\n",
    "\n",
    "# Alternatively with original Kolmogorov-Smirnov test\n",
    "_, pVals['Kolmogorov-Smirnov']    = stats.kstest((ins_srednica-np.mean(ins_srednica))/np.std(ins_srednica,ddof=1), 'norm')\n",
    "\n",
    "print('p-values for all {0} data points: ----------------'.format(len(ins_srednica)))\n",
    "print(pVals)\n",
    "\n",
    "if pVals['Omnibus'] > 0.05:\n",
    "    print('Data are normally distributed')"
   ]
  },
  {
   "cell_type": "code",
   "execution_count": null,
   "metadata": {},
   "outputs": [],
   "source": [
    "import numpy as np\n",
    "import matplotlib.pyplot as plt\n",
    "from scipy import stats\n",
    "import pandas as pd\n",
    "from statsmodels.formula.api import ols\n",
    "from statsmodels.stats.anova import anova_lm\n",
    "from statsmodels.stats.multicomp import (pairwise_tukeyhsd, MultiComparison)\n",
    "from statsmodels.stats.libqsturng import psturng"
   ]
  },
  {
   "cell_type": "code",
   "execution_count": null,
   "metadata": {},
   "outputs": [],
   "source": [
    "df1.boxplot('Średnica', by='Pollinator')"
   ]
  },
  {
   "cell_type": "code",
   "execution_count": null,
   "metadata": {},
   "outputs": [],
   "source": [
    "# First, check if the variances are equal, with the \"Levene\"-test\n",
    "(W,p) = stats.levene(ins_srednica, pas_srednica, hum_srednica)\n",
    "if p<0.05:\n",
    "    print(('Warning: the p-value of the Levene test is <0.05: p={0}'.format(p)))\n",
    "else:\n",
    "    \n",
    "    print('OK', p)"
   ]
  },
  {
   "cell_type": "code",
   "execution_count": null,
   "metadata": {},
   "outputs": [],
   "source": [
    "f, p = stats.f_oneway(ins_srednica,\n",
    "                      hum_srednica,\n",
    "                      pas_srednica)\n",
    " \n",
    "print ('One-way ANOVA')\n",
    "print ('=============')\n",
    " \n",
    "print ('F value:', f)\n",
    "print ('P value:', p, '\\n')"
   ]
  },
  {
   "cell_type": "code",
   "execution_count": null,
   "metadata": {},
   "outputs": [],
   "source": [
    "#Then, do the multiple testing\n",
    "multiComp = MultiComparison(df1['Średnica'], df1['Pollinator'])"
   ]
  },
  {
   "cell_type": "code",
   "execution_count": null,
   "metadata": {},
   "outputs": [],
   "source": [
    "print((multiComp.tukeyhsd().summary()))"
   ]
  },
  {
   "cell_type": "code",
   "execution_count": null,
   "metadata": {},
   "outputs": [],
   "source": [
    "ins_płatek = df1.płatek[df1.Pollinator == \"INS\"]\n",
    "pas_płatek = df1.płatek[df1.Pollinator == \"PAS\"]\n",
    "hum_płatek = df1.płatek[df1.Pollinator == \"HUM\"]"
   ]
  },
  {
   "cell_type": "code",
   "execution_count": null,
   "metadata": {},
   "outputs": [],
   "source": [
    "# First, check if the variances are equal, with the \"Levene\"-test\n",
    "(W,p) = stats.levene(ins_płatek, pas_płatek, hum_płatek)\n",
    "if p<0.05:\n",
    "    print(('Warning: the p-value of the Levene test is <0.05: p={0}'.format(p)))\n",
    "else:\n",
    "    \n",
    "    print('OK', p)"
   ]
  },
  {
   "cell_type": "code",
   "execution_count": null,
   "metadata": {},
   "outputs": [],
   "source": [
    "f, p = stats.f_oneway(ins_płatek,\n",
    "                      hum_płatek,\n",
    "                      pas_płatek)\n",
    " \n",
    "print ('One-way ANOVA')\n",
    "print ('=============')\n",
    " \n",
    "print ('F value:', f)\n",
    "print ('P value:', p, '\\n')"
   ]
  },
  {
   "cell_type": "code",
   "execution_count": null,
   "metadata": {},
   "outputs": [],
   "source": [
    "#Then, do the multiple testing\n",
    "multiComp = MultiComparison(df1['płatek'], df1['Pollinator'])"
   ]
  },
  {
   "cell_type": "code",
   "execution_count": null,
   "metadata": {},
   "outputs": [],
   "source": [
    "print((multiComp.tukeyhsd().summary()))"
   ]
  },
  {
   "cell_type": "code",
   "execution_count": null,
   "metadata": {},
   "outputs": [],
   "source": [
    "df1[df1.Pollinator=='PAS']"
   ]
  },
  {
   "cell_type": "code",
   "execution_count": null,
   "metadata": {},
   "outputs": [],
   "source": [
    "#Create a boxplot\n",
    "df1.boxplot('płatek', by='Pollinator', figsize=(12, 8))"
   ]
  },
  {
   "cell_type": "code",
   "execution_count": null,
   "metadata": {},
   "outputs": [],
   "source": [
    "grub = pd.read_excel(\"/Users/FeatureForest/Documents/Spektra list gatunków Fritillaria.xlsx\", sheet_name='grubość płatka', delimiter=\";\", decimal=\",\")"
   ]
  },
  {
   "cell_type": "code",
   "execution_count": null,
   "metadata": {},
   "outputs": [],
   "source": [
    "grub.drop(grub.columns[1:23], axis=1, inplace=True)"
   ]
  },
  {
   "cell_type": "code",
   "execution_count": null,
   "metadata": {},
   "outputs": [],
   "source": [
    "grub.info()"
   ]
  },
  {
   "cell_type": "code",
   "execution_count": null,
   "metadata": {},
   "outputs": [],
   "source": [
    "grub.rename(index=str, columns={\"μm\": \"grub\", \"Unnamed: 25\": \"N\"}, inplace=True)"
   ]
  },
  {
   "cell_type": "code",
   "execution_count": null,
   "metadata": {},
   "outputs": [],
   "source": [
    "grub.reset_index(inplace=True)"
   ]
  },
  {
   "cell_type": "code",
   "execution_count": null,
   "metadata": {},
   "outputs": [],
   "source": [
    "grub.drop(grub.columns[0], axis=1, inplace=True)"
   ]
  },
  {
   "cell_type": "code",
   "execution_count": null,
   "metadata": {},
   "outputs": [],
   "source": [
    "grub.head()"
   ]
  },
  {
   "cell_type": "code",
   "execution_count": null,
   "metadata": {},
   "outputs": [],
   "source": [
    "xls = pd.ExcelFile('/Users/FeatureForest/Documents/Fritillaria Warsaw.xlsx')"
   ]
  },
  {
   "cell_type": "code",
   "execution_count": null,
   "metadata": {},
   "outputs": [],
   "source": [
    "names = xls.sheet_names"
   ]
  },
  {
   "cell_type": "code",
   "execution_count": null,
   "metadata": {},
   "outputs": [],
   "source": [
    "#list of analysed species\n",
    "species = [\"F. imperialis\",\"F. michailovskyi\",'F. whittallii','F. tubiformis','F. gracilis',\n",
    "           'F. eduardii','F. minima','F. thunbergii','F. eastwoodiae', \"F. liliaceae\", \n",
    "           \"F. liliaceae\", \"F. kurdica\",'F. pyrenaica', 'F. pontica', 'F. thunbergii',\n",
    "           'F. uva vulpis', 'F. affinis','F. montana',  'F. aryiana', 'F. dasyphylla', \n",
    "           'F. verticillata','F. serpenticola', 'F. mutabilis', 'F. raddeana', 'F. graeca', \n",
    "           'F. caucasica', 'F. gibbosa', 'F. armena','F. stenanthera','F. ussuriensis',\n",
    "           'F. kotschyana','F. meleagris', \"F. michailovskyi\", 'F. latakesis', 'F. gentneri',\n",
    "          'F. recurva', 'F. sewerzowii']"
   ]
  },
  {
   "cell_type": "code",
   "execution_count": null,
   "metadata": {},
   "outputs": [],
   "source": [
    "import re"
   ]
  },
  {
   "cell_type": "code",
   "execution_count": null,
   "metadata": {},
   "outputs": [],
   "source": [
    "outside = []\n",
    "pattern = \".+ou.+\"\n",
    "outside = [x for x in names if re.match(pattern,x)]"
   ]
  },
  {
   "cell_type": "code",
   "execution_count": null,
   "metadata": {},
   "outputs": [],
   "source": [
    "#removing reflectance in other than red\n",
    "indexes = [1,3,15,17,20,35,39,40]\n",
    "for index in sorted(indexes, reverse=True):\n",
    "    del outside[index]"
   ]
  },
  {
   "cell_type": "code",
   "execution_count": null,
   "metadata": {},
   "outputs": [],
   "source": [
    "#outside"
   ]
  },
  {
   "cell_type": "code",
   "execution_count": null,
   "metadata": {},
   "outputs": [],
   "source": [
    "indexes_outside = []\n",
    "for i in range(len(outside)):\n",
    "    indexes_outside.append(names.index(outside[i]))\n",
    "\n",
    "sheets_outside = []\n",
    "for i in range(len(outside)):\n",
    "    sheet = xls.parse(indexes_outside[i])\n",
    "    sheets_outside.append(sheet)"
   ]
  },
  {
   "cell_type": "code",
   "execution_count": null,
   "metadata": {},
   "outputs": [],
   "source": [
    "#returns UV & visible spectrum\n",
    "for i in range(len(sheets_outside)):\n",
    "    sheets_outside[i] = sheets_outside[i][(sheets_outside[i].nm > 300) & (sheets_outside[i].nm < 700)]"
   ]
  },
  {
   "cell_type": "code",
   "execution_count": null,
   "metadata": {},
   "outputs": [],
   "source": [
    "#columns wiht reflectancy value\n",
    "columns_ref = sheets_outside[0].columns[1::2]"
   ]
  },
  {
   "cell_type": "code",
   "execution_count": null,
   "metadata": {},
   "outputs": [],
   "source": [
    "#returns mean of wavelengths (relative)\n",
    "for i in range(len(sheets_outside)):\n",
    "    sheets_outside[i] = sheets_outside[i].assign(mean=sheets_outside[i][columns_ref].mean(axis=1)/1000)"
   ]
  },
  {
   "cell_type": "code",
   "execution_count": null,
   "metadata": {},
   "outputs": [],
   "source": [
    "from functools import reduce"
   ]
  },
  {
   "cell_type": "code",
   "execution_count": null,
   "metadata": {},
   "outputs": [],
   "source": [
    "numbers = []\n",
    "for i in range(1,38):\n",
    "    numbers.append(\"Sp\"+str(i))\n",
    "nms = list(zip(numbers, species))\n",
    "outside_species = []\n",
    "for i in range(9):\n",
    "    outside_species.append(reduce(lambda a, kv: a.replace(*kv), nms, outside[i])) "
   ]
  },
  {
   "cell_type": "code",
   "execution_count": null,
   "metadata": {},
   "outputs": [],
   "source": [
    "for i in range(9, len(outside)):\n",
    "    outside_species.append(reduce(lambda a, kv: a.replace(*kv), nms[9:], outside[i])) "
   ]
  },
  {
   "cell_type": "code",
   "execution_count": null,
   "metadata": {},
   "outputs": [],
   "source": [
    "#sheets_outside[0]"
   ]
  },
  {
   "cell_type": "code",
   "execution_count": null,
   "metadata": {},
   "outputs": [],
   "source": [
    "#(outside_species)"
   ]
  },
  {
   "cell_type": "code",
   "execution_count": null,
   "metadata": {},
   "outputs": [],
   "source": [
    "len(species)"
   ]
  },
  {
   "cell_type": "code",
   "execution_count": null,
   "metadata": {},
   "outputs": [],
   "source": [
    "srednia = []\n",
    "for i in range(len(sheets_outside)):\n",
    "    srednia.append(sheets_outside[i]['mean'].mean())"
   ]
  },
  {
   "cell_type": "code",
   "execution_count": null,
   "metadata": {},
   "outputs": [],
   "source": [
    "len(srednia)"
   ]
  },
  {
   "cell_type": "code",
   "execution_count": null,
   "metadata": {},
   "outputs": [],
   "source": [
    "#srednia"
   ]
  },
  {
   "cell_type": "code",
   "execution_count": null,
   "metadata": {},
   "outputs": [],
   "source": [
    "reflektancja = pd.DataFrame(\n",
    "    {'Gatunek': species,\n",
    "     'srednia': srednia\n",
    "    })"
   ]
  },
  {
   "cell_type": "code",
   "execution_count": null,
   "metadata": {
    "scrolled": true
   },
   "outputs": [],
   "source": [
    "#reflektancja"
   ]
  },
  {
   "cell_type": "code",
   "execution_count": null,
   "metadata": {},
   "outputs": [],
   "source": [
    "grub"
   ]
  },
  {
   "cell_type": "code",
   "execution_count": null,
   "metadata": {},
   "outputs": [],
   "source": [
    "df = pd.merge(reflektancja, grub, how='inner', left_on='Gatunek', right_on='sp')"
   ]
  },
  {
   "cell_type": "code",
   "execution_count": null,
   "metadata": {},
   "outputs": [],
   "source": [
    "df"
   ]
  },
  {
   "cell_type": "code",
   "execution_count": null,
   "metadata": {},
   "outputs": [],
   "source": [
    "df['srednia'].corr(df['grub'])"
   ]
  },
  {
   "cell_type": "code",
   "execution_count": null,
   "metadata": {},
   "outputs": [],
   "source": [
    "#retruns pollinator\n",
    "def pollinator(name):\n",
    "    if((name == 'F. eduardii') | (name == 'F. imperialis')):\n",
    "        return \"PAS\"\n",
    "    elif ((name == \"F. recurva\") | (name == \"F. gentneri\")):\n",
    "        return \"HUM\"\n",
    "    else:\n",
    "        return \"INS\""
   ]
  },
  {
   "cell_type": "code",
   "execution_count": null,
   "metadata": {},
   "outputs": [],
   "source": [
    "df['Pollinator'] = df['Gatunek'].apply(pollinator)"
   ]
  },
  {
   "cell_type": "code",
   "execution_count": null,
   "metadata": {
    "scrolled": true
   },
   "outputs": [],
   "source": [
    "df"
   ]
  },
  {
   "cell_type": "code",
   "execution_count": null,
   "metadata": {},
   "outputs": [],
   "source": [
    "ins = df[df.Pollinator == \"INS\"]"
   ]
  },
  {
   "cell_type": "code",
   "execution_count": null,
   "metadata": {},
   "outputs": [],
   "source": [
    "ins['srednia'].corr(ins['grub'])"
   ]
  },
  {
   "cell_type": "code",
   "execution_count": null,
   "metadata": {},
   "outputs": [],
   "source": [
    "hum = df[df.Pollinator == \"HUM\"]"
   ]
  },
  {
   "cell_type": "code",
   "execution_count": null,
   "metadata": {},
   "outputs": [],
   "source": [
    "hum['srednia'].corr(hum['grub'])"
   ]
  },
  {
   "cell_type": "code",
   "execution_count": null,
   "metadata": {},
   "outputs": [],
   "source": [
    "pas = df[df.Pollinator == \"PAS\"]\n",
    "pas['srednia'].corr(pas['grub'])"
   ]
  },
  {
   "cell_type": "code",
   "execution_count": null,
   "metadata": {},
   "outputs": [],
   "source": [
    "df = pd.merge(df1, grub, how='inner', left_on='Gatunek', right_on='sp')"
   ]
  },
  {
   "cell_type": "code",
   "execution_count": null,
   "metadata": {},
   "outputs": [],
   "source": [
    "df1.Gatunek.unique()"
   ]
  },
  {
   "cell_type": "code",
   "execution_count": null,
   "metadata": {},
   "outputs": [],
   "source": [
    "grub.sp.unique()"
   ]
  },
  {
   "cell_type": "code",
   "execution_count": null,
   "metadata": {},
   "outputs": [],
   "source": [
    "df"
   ]
  },
  {
   "cell_type": "code",
   "execution_count": null,
   "metadata": {},
   "outputs": [],
   "source": [
    "col = {'INS':'#FFE125', 'PAS':'#007800', 'HUM':'#bf0000'}\n",
    "df[\"colors\"] = df.Pollinator.apply(lambda x: col[x])"
   ]
  },
  {
   "cell_type": "code",
   "execution_count": null,
   "metadata": {},
   "outputs": [],
   "source": [
    "labels =[]\n",
    "sns.set_style(\"white\")\n",
    "for key, value in col.items():\n",
    "    labels.append(key)\n",
    "    plt.scatter(x = df.Średnica[df.Pollinator == key], y = df.płatek[df.Pollinator == key],\n",
    "            s = np.array(df.grub[df.Pollinator == key])/2, \n",
    "            c = df.colors[df.Pollinator == key], alpha=0.7, edgecolors='black')\n",
    "\n",
    "#plt.yscale('log')\n",
    "plt.xscale('log') \n",
    "plt.xlabel('Petal diameter (log scale)')\n",
    "plt.ylabel('Petal length')\n",
    "plt.title('Petal length vs petals diameter', fontsize=18)\n",
    "#plt.xlim(0,350)\n",
    "\n",
    "#plt.xticks([1000,10000,100000], ['1k','10k','100k'])\n",
    "#plt.text(120, 24, 'F.imperialis')\n",
    "#plt.text(70, 4, 'F.eduardi')\n",
    "lgnd = plt.legend(labels, title='Color by pollinator')\n",
    "for i in range(len(col)):\n",
    "    lgnd.legendHandles[i]._sizes = [60]\n",
    "\n",
    "plt.text(11.8,40, \"Size by density\")\n",
    "plt.scatter(14, 37, s=100, c = 'white', edgecolors='k')\n",
    "plt.text(15.2, 36,  r'$50 \\mu g$')\n",
    "# Show the plot\n",
    "plt.show()"
   ]
  },
  {
   "cell_type": "code",
   "execution_count": null,
   "metadata": {},
   "outputs": [],
   "source": []
  }
 ],
 "metadata": {
  "kernelspec": {
   "display_name": "Python 3",
   "language": "python",
   "name": "python3"
  },
  "language_info": {
   "codemirror_mode": {
    "name": "ipython",
    "version": 3
   },
   "file_extension": ".py",
   "mimetype": "text/x-python",
   "name": "python",
   "nbconvert_exporter": "python",
   "pygments_lexer": "ipython3",
   "version": "3.7.0"
  }
 },
 "nbformat": 4,
 "nbformat_minor": 2
}
