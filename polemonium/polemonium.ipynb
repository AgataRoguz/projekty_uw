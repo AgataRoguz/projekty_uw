{
 "cells": [
  {
   "cell_type": "code",
   "execution_count": 1,
   "metadata": {
    "collapsed": true
   },
   "outputs": [],
   "source": [
    "#import necessary libraries\n",
    "import pandas as pd\n",
    "import matplotlib.pyplot as plt\n",
    "import numpy as np"
   ]
  },
  {
   "cell_type": "code",
   "execution_count": 2,
   "metadata": {
    "collapsed": true
   },
   "outputs": [],
   "source": [
    "#read data\n",
    "data = pd.read_excel('polemonium dane.xlsx')"
   ]
  },
  {
   "cell_type": "code",
   "execution_count": 3,
   "metadata": {
    "collapsed": false,
    "scrolled": true
   },
   "outputs": [
    {
     "data": {
      "text/html": [
       "<div>\n",
       "<style scoped>\n",
       "    .dataframe tbody tr th:only-of-type {\n",
       "        vertical-align: middle;\n",
       "    }\n",
       "\n",
       "    .dataframe tbody tr th {\n",
       "        vertical-align: top;\n",
       "    }\n",
       "\n",
       "    .dataframe thead th {\n",
       "        text-align: right;\n",
       "    }\n",
       "</style>\n",
       "<table border=\"1\" class=\"dataframe\">\n",
       "  <thead>\n",
       "    <tr style=\"text-align: right;\">\n",
       "      <th></th>\n",
       "      <th>pop</th>\n",
       "      <th>plant no</th>\n",
       "      <th>fl. Tube leng.</th>\n",
       "      <th>corolla diam.</th>\n",
       "      <th>tube diam.</th>\n",
       "      <th>stamen length</th>\n",
       "      <th>pistil length</th>\n",
       "      <th>stamen-pistil distance</th>\n",
       "      <th>stamen-pistil distance absolute val.</th>\n",
       "      <th>no flowers</th>\n",
       "      <th>pop size 2018</th>\n",
       "    </tr>\n",
       "  </thead>\n",
       "  <tbody>\n",
       "    <tr>\n",
       "      <th>0</th>\n",
       "      <td>CZL</td>\n",
       "      <td>1</td>\n",
       "      <td>4.79</td>\n",
       "      <td>20.23</td>\n",
       "      <td>6.58</td>\n",
       "      <td>13.42</td>\n",
       "      <td>12.47</td>\n",
       "      <td>-0.95</td>\n",
       "      <td>0.95</td>\n",
       "      <td>97.0</td>\n",
       "      <td>6.4</td>\n",
       "    </tr>\n",
       "    <tr>\n",
       "      <th>1</th>\n",
       "      <td>CZL</td>\n",
       "      <td>2</td>\n",
       "      <td>3.95</td>\n",
       "      <td>21.36</td>\n",
       "      <td>6.27</td>\n",
       "      <td>12.61</td>\n",
       "      <td>13.30</td>\n",
       "      <td>0.69</td>\n",
       "      <td>0.69</td>\n",
       "      <td>244.0</td>\n",
       "      <td>6.4</td>\n",
       "    </tr>\n",
       "    <tr>\n",
       "      <th>2</th>\n",
       "      <td>CZL</td>\n",
       "      <td>3</td>\n",
       "      <td>3.70</td>\n",
       "      <td>19.20</td>\n",
       "      <td>5.10</td>\n",
       "      <td>10.60</td>\n",
       "      <td>11.41</td>\n",
       "      <td>0.81</td>\n",
       "      <td>0.81</td>\n",
       "      <td>69.0</td>\n",
       "      <td>6.4</td>\n",
       "    </tr>\n",
       "    <tr>\n",
       "      <th>3</th>\n",
       "      <td>CZL</td>\n",
       "      <td>4</td>\n",
       "      <td>3.63</td>\n",
       "      <td>18.28</td>\n",
       "      <td>4.86</td>\n",
       "      <td>9.85</td>\n",
       "      <td>12.81</td>\n",
       "      <td>2.96</td>\n",
       "      <td>2.96</td>\n",
       "      <td>68.0</td>\n",
       "      <td>6.4</td>\n",
       "    </tr>\n",
       "    <tr>\n",
       "      <th>4</th>\n",
       "      <td>CZL</td>\n",
       "      <td>5</td>\n",
       "      <td>4.68</td>\n",
       "      <td>19.79</td>\n",
       "      <td>5.12</td>\n",
       "      <td>11.06</td>\n",
       "      <td>12.22</td>\n",
       "      <td>1.16</td>\n",
       "      <td>1.16</td>\n",
       "      <td>87.0</td>\n",
       "      <td>6.4</td>\n",
       "    </tr>\n",
       "  </tbody>\n",
       "</table>\n",
       "</div>"
      ],
      "text/plain": [
       "   pop  plant no  fl. Tube leng.  corolla diam.  tube diam.  stamen length  \\\n",
       "0  CZL         1            4.79          20.23        6.58          13.42   \n",
       "1  CZL         2            3.95          21.36        6.27          12.61   \n",
       "2  CZL         3            3.70          19.20        5.10          10.60   \n",
       "3  CZL         4            3.63          18.28        4.86           9.85   \n",
       "4  CZL         5            4.68          19.79        5.12          11.06   \n",
       "\n",
       "   pistil length  stamen-pistil distance  \\\n",
       "0          12.47                   -0.95   \n",
       "1          13.30                    0.69   \n",
       "2          11.41                    0.81   \n",
       "3          12.81                    2.96   \n",
       "4          12.22                    1.16   \n",
       "\n",
       "   stamen-pistil distance absolute val.  no flowers  pop size 2018  \n",
       "0                                  0.95        97.0            6.4  \n",
       "1                                  0.69       244.0            6.4  \n",
       "2                                  0.81        69.0            6.4  \n",
       "3                                  2.96        68.0            6.4  \n",
       "4                                  1.16        87.0            6.4  "
      ]
     },
     "execution_count": 3,
     "metadata": {},
     "output_type": "execute_result"
    }
   ],
   "source": [
    "data.head()"
   ]
  },
  {
   "cell_type": "code",
   "execution_count": 4,
   "metadata": {
    "collapsed": false,
    "scrolled": true
   },
   "outputs": [],
   "source": [
    "#seclectcing pop names\n",
    "populacje = data['pop'].unique()"
   ]
  },
  {
   "cell_type": "code",
   "execution_count": 5,
   "metadata": {
    "collapsed": false
   },
   "outputs": [],
   "source": [
    "#counting mean and std by population\n",
    "df = data[['pop', 'fl. Tube leng.', 'corolla diam.', 'tube diam.',\"stamen length\", \n",
    "           'pistil length']].groupby(['pop']).agg(['mean', 'std']).reset_index()"
   ]
  },
  {
   "cell_type": "code",
   "execution_count": 6,
   "metadata": {
    "collapsed": false,
    "scrolled": true
   },
   "outputs": [
    {
     "data": {
      "text/html": [
       "<div>\n",
       "<style scoped>\n",
       "    .dataframe tbody tr th:only-of-type {\n",
       "        vertical-align: middle;\n",
       "    }\n",
       "\n",
       "    .dataframe tbody tr th {\n",
       "        vertical-align: top;\n",
       "    }\n",
       "\n",
       "    .dataframe thead tr th {\n",
       "        text-align: left;\n",
       "    }\n",
       "</style>\n",
       "<table border=\"1\" class=\"dataframe\">\n",
       "  <thead>\n",
       "    <tr>\n",
       "      <th></th>\n",
       "      <th>pop</th>\n",
       "      <th colspan=\"2\" halign=\"left\">fl. Tube leng.</th>\n",
       "      <th colspan=\"2\" halign=\"left\">corolla diam.</th>\n",
       "      <th colspan=\"2\" halign=\"left\">tube diam.</th>\n",
       "      <th colspan=\"2\" halign=\"left\">stamen length</th>\n",
       "      <th colspan=\"2\" halign=\"left\">pistil length</th>\n",
       "    </tr>\n",
       "    <tr>\n",
       "      <th></th>\n",
       "      <th></th>\n",
       "      <th>mean</th>\n",
       "      <th>std</th>\n",
       "      <th>mean</th>\n",
       "      <th>std</th>\n",
       "      <th>mean</th>\n",
       "      <th>std</th>\n",
       "      <th>mean</th>\n",
       "      <th>std</th>\n",
       "      <th>mean</th>\n",
       "      <th>std</th>\n",
       "    </tr>\n",
       "  </thead>\n",
       "  <tbody>\n",
       "    <tr>\n",
       "      <th>0</th>\n",
       "      <td>BBR</td>\n",
       "      <td>4.746667</td>\n",
       "      <td>0.441059</td>\n",
       "      <td>16.206667</td>\n",
       "      <td>2.063306</td>\n",
       "      <td>4.550000</td>\n",
       "      <td>0.226053</td>\n",
       "      <td>8.430000</td>\n",
       "      <td>1.411701</td>\n",
       "      <td>7.866667</td>\n",
       "      <td>0.621638</td>\n",
       "    </tr>\n",
       "    <tr>\n",
       "      <th>1</th>\n",
       "      <td>BIA</td>\n",
       "      <td>4.174483</td>\n",
       "      <td>0.466389</td>\n",
       "      <td>20.618276</td>\n",
       "      <td>2.460042</td>\n",
       "      <td>4.993448</td>\n",
       "      <td>0.670550</td>\n",
       "      <td>9.292414</td>\n",
       "      <td>1.463935</td>\n",
       "      <td>10.888621</td>\n",
       "      <td>1.348753</td>\n",
       "    </tr>\n",
       "    <tr>\n",
       "      <th>2</th>\n",
       "      <td>BOB</td>\n",
       "      <td>4.361667</td>\n",
       "      <td>0.458709</td>\n",
       "      <td>18.898000</td>\n",
       "      <td>1.080426</td>\n",
       "      <td>5.178000</td>\n",
       "      <td>0.551377</td>\n",
       "      <td>8.647000</td>\n",
       "      <td>0.554891</td>\n",
       "      <td>10.401333</td>\n",
       "      <td>1.281671</td>\n",
       "    </tr>\n",
       "    <tr>\n",
       "      <th>3</th>\n",
       "      <td>CZL</td>\n",
       "      <td>4.612000</td>\n",
       "      <td>0.688368</td>\n",
       "      <td>18.925667</td>\n",
       "      <td>1.861265</td>\n",
       "      <td>5.395667</td>\n",
       "      <td>0.544336</td>\n",
       "      <td>11.386333</td>\n",
       "      <td>1.430065</td>\n",
       "      <td>11.830667</td>\n",
       "      <td>1.730366</td>\n",
       "    </tr>\n",
       "    <tr>\n",
       "      <th>4</th>\n",
       "      <td>DRO</td>\n",
       "      <td>4.162000</td>\n",
       "      <td>0.367643</td>\n",
       "      <td>19.845333</td>\n",
       "      <td>1.360243</td>\n",
       "      <td>5.039000</td>\n",
       "      <td>0.330771</td>\n",
       "      <td>9.442667</td>\n",
       "      <td>0.956286</td>\n",
       "      <td>10.812000</td>\n",
       "      <td>0.792305</td>\n",
       "    </tr>\n",
       "  </tbody>\n",
       "</table>\n",
       "</div>"
      ],
      "text/plain": [
       "   pop fl. Tube leng.           corolla diam.           tube diam.            \\\n",
       "                 mean       std          mean       std       mean       std   \n",
       "0  BBR       4.746667  0.441059     16.206667  2.063306   4.550000  0.226053   \n",
       "1  BIA       4.174483  0.466389     20.618276  2.460042   4.993448  0.670550   \n",
       "2  BOB       4.361667  0.458709     18.898000  1.080426   5.178000  0.551377   \n",
       "3  CZL       4.612000  0.688368     18.925667  1.861265   5.395667  0.544336   \n",
       "4  DRO       4.162000  0.367643     19.845333  1.360243   5.039000  0.330771   \n",
       "\n",
       "  stamen length           pistil length            \n",
       "           mean       std          mean       std  \n",
       "0      8.430000  1.411701      7.866667  0.621638  \n",
       "1      9.292414  1.463935     10.888621  1.348753  \n",
       "2      8.647000  0.554891     10.401333  1.281671  \n",
       "3     11.386333  1.430065     11.830667  1.730366  \n",
       "4      9.442667  0.956286     10.812000  0.792305  "
      ]
     },
     "execution_count": 6,
     "metadata": {},
     "output_type": "execute_result"
    }
   ],
   "source": [
    "df.head()"
   ]
  },
  {
   "cell_type": "code",
   "execution_count": 7,
   "metadata": {
    "collapsed": false
   },
   "outputs": [],
   "source": [
    "df = df.set_index('pop')"
   ]
  },
  {
   "cell_type": "code",
   "execution_count": 8,
   "metadata": {
    "collapsed": false
   },
   "outputs": [],
   "source": [
    "df = df.reindex(['CZL', 'MAŁ', 'BBR', 'DRO', 'ORZ', 'BIA', 'SIE', 'KLE', 'ŻED',\n",
    "       'KOP', 'ROS', 'BOB', 'WPN', 'KCZ', 'SPN'])"
   ]
  },
  {
   "cell_type": "code",
   "execution_count": 9,
   "metadata": {
    "collapsed": false,
    "scrolled": true
   },
   "outputs": [
    {
     "data": {
      "text/html": [
       "<div>\n",
       "<style scoped>\n",
       "    .dataframe tbody tr th:only-of-type {\n",
       "        vertical-align: middle;\n",
       "    }\n",
       "\n",
       "    .dataframe tbody tr th {\n",
       "        vertical-align: top;\n",
       "    }\n",
       "\n",
       "    .dataframe thead tr th {\n",
       "        text-align: left;\n",
       "    }\n",
       "\n",
       "    .dataframe thead tr:last-of-type th {\n",
       "        text-align: right;\n",
       "    }\n",
       "</style>\n",
       "<table border=\"1\" class=\"dataframe\">\n",
       "  <thead>\n",
       "    <tr>\n",
       "      <th></th>\n",
       "      <th colspan=\"2\" halign=\"left\">fl. Tube leng.</th>\n",
       "      <th colspan=\"2\" halign=\"left\">corolla diam.</th>\n",
       "      <th colspan=\"2\" halign=\"left\">tube diam.</th>\n",
       "      <th colspan=\"2\" halign=\"left\">stamen length</th>\n",
       "      <th colspan=\"2\" halign=\"left\">pistil length</th>\n",
       "    </tr>\n",
       "    <tr>\n",
       "      <th></th>\n",
       "      <th>mean</th>\n",
       "      <th>std</th>\n",
       "      <th>mean</th>\n",
       "      <th>std</th>\n",
       "      <th>mean</th>\n",
       "      <th>std</th>\n",
       "      <th>mean</th>\n",
       "      <th>std</th>\n",
       "      <th>mean</th>\n",
       "      <th>std</th>\n",
       "    </tr>\n",
       "    <tr>\n",
       "      <th>pop</th>\n",
       "      <th></th>\n",
       "      <th></th>\n",
       "      <th></th>\n",
       "      <th></th>\n",
       "      <th></th>\n",
       "      <th></th>\n",
       "      <th></th>\n",
       "      <th></th>\n",
       "      <th></th>\n",
       "      <th></th>\n",
       "    </tr>\n",
       "  </thead>\n",
       "  <tbody>\n",
       "    <tr>\n",
       "      <th>CZL</th>\n",
       "      <td>4.612000</td>\n",
       "      <td>0.688368</td>\n",
       "      <td>18.925667</td>\n",
       "      <td>1.861265</td>\n",
       "      <td>5.395667</td>\n",
       "      <td>0.544336</td>\n",
       "      <td>11.386333</td>\n",
       "      <td>1.430065</td>\n",
       "      <td>11.830667</td>\n",
       "      <td>1.730366</td>\n",
       "    </tr>\n",
       "    <tr>\n",
       "      <th>MAŁ</th>\n",
       "      <td>4.186333</td>\n",
       "      <td>0.458803</td>\n",
       "      <td>18.822000</td>\n",
       "      <td>1.208874</td>\n",
       "      <td>5.052333</td>\n",
       "      <td>0.559400</td>\n",
       "      <td>10.917333</td>\n",
       "      <td>1.012351</td>\n",
       "      <td>12.128333</td>\n",
       "      <td>1.105909</td>\n",
       "    </tr>\n",
       "    <tr>\n",
       "      <th>BBR</th>\n",
       "      <td>4.746667</td>\n",
       "      <td>0.441059</td>\n",
       "      <td>16.206667</td>\n",
       "      <td>2.063306</td>\n",
       "      <td>4.550000</td>\n",
       "      <td>0.226053</td>\n",
       "      <td>8.430000</td>\n",
       "      <td>1.411701</td>\n",
       "      <td>7.866667</td>\n",
       "      <td>0.621638</td>\n",
       "    </tr>\n",
       "    <tr>\n",
       "      <th>DRO</th>\n",
       "      <td>4.162000</td>\n",
       "      <td>0.367643</td>\n",
       "      <td>19.845333</td>\n",
       "      <td>1.360243</td>\n",
       "      <td>5.039000</td>\n",
       "      <td>0.330771</td>\n",
       "      <td>9.442667</td>\n",
       "      <td>0.956286</td>\n",
       "      <td>10.812000</td>\n",
       "      <td>0.792305</td>\n",
       "    </tr>\n",
       "    <tr>\n",
       "      <th>ORZ</th>\n",
       "      <td>3.658333</td>\n",
       "      <td>0.261337</td>\n",
       "      <td>16.730667</td>\n",
       "      <td>1.384702</td>\n",
       "      <td>4.835667</td>\n",
       "      <td>0.470104</td>\n",
       "      <td>7.907000</td>\n",
       "      <td>0.931103</td>\n",
       "      <td>9.904667</td>\n",
       "      <td>0.815419</td>\n",
       "    </tr>\n",
       "  </tbody>\n",
       "</table>\n",
       "</div>"
      ],
      "text/plain": [
       "    fl. Tube leng.           corolla diam.           tube diam.            \\\n",
       "              mean       std          mean       std       mean       std   \n",
       "pop                                                                         \n",
       "CZL       4.612000  0.688368     18.925667  1.861265   5.395667  0.544336   \n",
       "MAŁ       4.186333  0.458803     18.822000  1.208874   5.052333  0.559400   \n",
       "BBR       4.746667  0.441059     16.206667  2.063306   4.550000  0.226053   \n",
       "DRO       4.162000  0.367643     19.845333  1.360243   5.039000  0.330771   \n",
       "ORZ       3.658333  0.261337     16.730667  1.384702   4.835667  0.470104   \n",
       "\n",
       "    stamen length           pistil length            \n",
       "             mean       std          mean       std  \n",
       "pop                                                  \n",
       "CZL     11.386333  1.430065     11.830667  1.730366  \n",
       "MAŁ     10.917333  1.012351     12.128333  1.105909  \n",
       "BBR      8.430000  1.411701      7.866667  0.621638  \n",
       "DRO      9.442667  0.956286     10.812000  0.792305  \n",
       "ORZ      7.907000  0.931103      9.904667  0.815419  "
      ]
     },
     "execution_count": 9,
     "metadata": {},
     "output_type": "execute_result"
    }
   ],
   "source": [
    "df.head()"
   ]
  },
  {
   "cell_type": "code",
   "execution_count": 10,
   "metadata": {
    "collapsed": false
   },
   "outputs": [],
   "source": [
    "#counting coeficient of variance CV = std/mean\n",
    "df['fl. Tube leng.','CV'] = df['fl. Tube leng.']['std'] /df['fl. Tube leng.']['mean']"
   ]
  },
  {
   "cell_type": "code",
   "execution_count": 11,
   "metadata": {
    "collapsed": false
   },
   "outputs": [],
   "source": [
    "df['corolla diam.','CV'] = df['corolla diam.']['std'] /df['corolla diam.']['mean']"
   ]
  },
  {
   "cell_type": "code",
   "execution_count": 12,
   "metadata": {
    "collapsed": false
   },
   "outputs": [
    {
     "data": {
      "text/html": [
       "<div>\n",
       "<style scoped>\n",
       "    .dataframe tbody tr th:only-of-type {\n",
       "        vertical-align: middle;\n",
       "    }\n",
       "\n",
       "    .dataframe tbody tr th {\n",
       "        vertical-align: top;\n",
       "    }\n",
       "\n",
       "    .dataframe thead tr th {\n",
       "        text-align: left;\n",
       "    }\n",
       "\n",
       "    .dataframe thead tr:last-of-type th {\n",
       "        text-align: right;\n",
       "    }\n",
       "</style>\n",
       "<table border=\"1\" class=\"dataframe\">\n",
       "  <thead>\n",
       "    <tr>\n",
       "      <th></th>\n",
       "      <th colspan=\"2\" halign=\"left\">fl. Tube leng.</th>\n",
       "      <th colspan=\"2\" halign=\"left\">corolla diam.</th>\n",
       "      <th colspan=\"2\" halign=\"left\">tube diam.</th>\n",
       "      <th colspan=\"2\" halign=\"left\">stamen length</th>\n",
       "      <th colspan=\"2\" halign=\"left\">pistil length</th>\n",
       "      <th>fl. Tube leng.</th>\n",
       "      <th>corolla diam.</th>\n",
       "    </tr>\n",
       "    <tr>\n",
       "      <th></th>\n",
       "      <th>mean</th>\n",
       "      <th>std</th>\n",
       "      <th>mean</th>\n",
       "      <th>std</th>\n",
       "      <th>mean</th>\n",
       "      <th>std</th>\n",
       "      <th>mean</th>\n",
       "      <th>std</th>\n",
       "      <th>mean</th>\n",
       "      <th>std</th>\n",
       "      <th>CV</th>\n",
       "      <th>CV</th>\n",
       "    </tr>\n",
       "    <tr>\n",
       "      <th>pop</th>\n",
       "      <th></th>\n",
       "      <th></th>\n",
       "      <th></th>\n",
       "      <th></th>\n",
       "      <th></th>\n",
       "      <th></th>\n",
       "      <th></th>\n",
       "      <th></th>\n",
       "      <th></th>\n",
       "      <th></th>\n",
       "      <th></th>\n",
       "      <th></th>\n",
       "    </tr>\n",
       "  </thead>\n",
       "  <tbody>\n",
       "    <tr>\n",
       "      <th>CZL</th>\n",
       "      <td>4.612000</td>\n",
       "      <td>0.688368</td>\n",
       "      <td>18.925667</td>\n",
       "      <td>1.861265</td>\n",
       "      <td>5.395667</td>\n",
       "      <td>0.544336</td>\n",
       "      <td>11.386333</td>\n",
       "      <td>1.430065</td>\n",
       "      <td>11.830667</td>\n",
       "      <td>1.730366</td>\n",
       "      <td>0.149256</td>\n",
       "      <td>0.098346</td>\n",
       "    </tr>\n",
       "    <tr>\n",
       "      <th>MAŁ</th>\n",
       "      <td>4.186333</td>\n",
       "      <td>0.458803</td>\n",
       "      <td>18.822000</td>\n",
       "      <td>1.208874</td>\n",
       "      <td>5.052333</td>\n",
       "      <td>0.559400</td>\n",
       "      <td>10.917333</td>\n",
       "      <td>1.012351</td>\n",
       "      <td>12.128333</td>\n",
       "      <td>1.105909</td>\n",
       "      <td>0.109595</td>\n",
       "      <td>0.064227</td>\n",
       "    </tr>\n",
       "    <tr>\n",
       "      <th>BBR</th>\n",
       "      <td>4.746667</td>\n",
       "      <td>0.441059</td>\n",
       "      <td>16.206667</td>\n",
       "      <td>2.063306</td>\n",
       "      <td>4.550000</td>\n",
       "      <td>0.226053</td>\n",
       "      <td>8.430000</td>\n",
       "      <td>1.411701</td>\n",
       "      <td>7.866667</td>\n",
       "      <td>0.621638</td>\n",
       "      <td>0.092920</td>\n",
       "      <td>0.127312</td>\n",
       "    </tr>\n",
       "    <tr>\n",
       "      <th>DRO</th>\n",
       "      <td>4.162000</td>\n",
       "      <td>0.367643</td>\n",
       "      <td>19.845333</td>\n",
       "      <td>1.360243</td>\n",
       "      <td>5.039000</td>\n",
       "      <td>0.330771</td>\n",
       "      <td>9.442667</td>\n",
       "      <td>0.956286</td>\n",
       "      <td>10.812000</td>\n",
       "      <td>0.792305</td>\n",
       "      <td>0.088333</td>\n",
       "      <td>0.068542</td>\n",
       "    </tr>\n",
       "    <tr>\n",
       "      <th>ORZ</th>\n",
       "      <td>3.658333</td>\n",
       "      <td>0.261337</td>\n",
       "      <td>16.730667</td>\n",
       "      <td>1.384702</td>\n",
       "      <td>4.835667</td>\n",
       "      <td>0.470104</td>\n",
       "      <td>7.907000</td>\n",
       "      <td>0.931103</td>\n",
       "      <td>9.904667</td>\n",
       "      <td>0.815419</td>\n",
       "      <td>0.071436</td>\n",
       "      <td>0.082764</td>\n",
       "    </tr>\n",
       "  </tbody>\n",
       "</table>\n",
       "</div>"
      ],
      "text/plain": [
       "    fl. Tube leng.           corolla diam.           tube diam.            \\\n",
       "              mean       std          mean       std       mean       std   \n",
       "pop                                                                         \n",
       "CZL       4.612000  0.688368     18.925667  1.861265   5.395667  0.544336   \n",
       "MAŁ       4.186333  0.458803     18.822000  1.208874   5.052333  0.559400   \n",
       "BBR       4.746667  0.441059     16.206667  2.063306   4.550000  0.226053   \n",
       "DRO       4.162000  0.367643     19.845333  1.360243   5.039000  0.330771   \n",
       "ORZ       3.658333  0.261337     16.730667  1.384702   4.835667  0.470104   \n",
       "\n",
       "    stamen length           pistil length           fl. Tube leng.  \\\n",
       "             mean       std          mean       std             CV   \n",
       "pop                                                                  \n",
       "CZL     11.386333  1.430065     11.830667  1.730366       0.149256   \n",
       "MAŁ     10.917333  1.012351     12.128333  1.105909       0.109595   \n",
       "BBR      8.430000  1.411701      7.866667  0.621638       0.092920   \n",
       "DRO      9.442667  0.956286     10.812000  0.792305       0.088333   \n",
       "ORZ      7.907000  0.931103      9.904667  0.815419       0.071436   \n",
       "\n",
       "    corolla diam.  \n",
       "               CV  \n",
       "pop                \n",
       "CZL      0.098346  \n",
       "MAŁ      0.064227  \n",
       "BBR      0.127312  \n",
       "DRO      0.068542  \n",
       "ORZ      0.082764  "
      ]
     },
     "execution_count": 12,
     "metadata": {},
     "output_type": "execute_result"
    }
   ],
   "source": [
    "df.head()"
   ]
  },
  {
   "cell_type": "code",
   "execution_count": 13,
   "metadata": {
    "collapsed": true
   },
   "outputs": [],
   "source": [
    "df['tube diam.','CV'] = df['tube diam.']['std'] /df['tube diam.']['mean']"
   ]
  },
  {
   "cell_type": "code",
   "execution_count": 14,
   "metadata": {
    "collapsed": true
   },
   "outputs": [],
   "source": [
    "df['stamen length','CV'] = df['stamen length']['std'] /df['stamen length']['mean']"
   ]
  },
  {
   "cell_type": "code",
   "execution_count": 15,
   "metadata": {
    "collapsed": false
   },
   "outputs": [],
   "source": [
    "df['pistil length','CV'] = df['pistil length']['std'] /df['pistil length']['mean']"
   ]
  },
  {
   "cell_type": "code",
   "execution_count": 16,
   "metadata": {
    "collapsed": false
   },
   "outputs": [
    {
     "data": {
      "text/html": [
       "<div>\n",
       "<style scoped>\n",
       "    .dataframe tbody tr th:only-of-type {\n",
       "        vertical-align: middle;\n",
       "    }\n",
       "\n",
       "    .dataframe tbody tr th {\n",
       "        vertical-align: top;\n",
       "    }\n",
       "\n",
       "    .dataframe thead tr th {\n",
       "        text-align: left;\n",
       "    }\n",
       "\n",
       "    .dataframe thead tr:last-of-type th {\n",
       "        text-align: right;\n",
       "    }\n",
       "</style>\n",
       "<table border=\"1\" class=\"dataframe\">\n",
       "  <thead>\n",
       "    <tr>\n",
       "      <th></th>\n",
       "      <th colspan=\"2\" halign=\"left\">fl. Tube leng.</th>\n",
       "      <th colspan=\"2\" halign=\"left\">corolla diam.</th>\n",
       "      <th colspan=\"2\" halign=\"left\">tube diam.</th>\n",
       "      <th colspan=\"2\" halign=\"left\">stamen length</th>\n",
       "      <th colspan=\"2\" halign=\"left\">pistil length</th>\n",
       "      <th>fl. Tube leng.</th>\n",
       "      <th>corolla diam.</th>\n",
       "      <th>tube diam.</th>\n",
       "      <th>stamen length</th>\n",
       "      <th>pistil length</th>\n",
       "    </tr>\n",
       "    <tr>\n",
       "      <th></th>\n",
       "      <th>mean</th>\n",
       "      <th>std</th>\n",
       "      <th>mean</th>\n",
       "      <th>std</th>\n",
       "      <th>mean</th>\n",
       "      <th>std</th>\n",
       "      <th>mean</th>\n",
       "      <th>std</th>\n",
       "      <th>mean</th>\n",
       "      <th>std</th>\n",
       "      <th>CV</th>\n",
       "      <th>CV</th>\n",
       "      <th>CV</th>\n",
       "      <th>CV</th>\n",
       "      <th>CV</th>\n",
       "    </tr>\n",
       "    <tr>\n",
       "      <th>pop</th>\n",
       "      <th></th>\n",
       "      <th></th>\n",
       "      <th></th>\n",
       "      <th></th>\n",
       "      <th></th>\n",
       "      <th></th>\n",
       "      <th></th>\n",
       "      <th></th>\n",
       "      <th></th>\n",
       "      <th></th>\n",
       "      <th></th>\n",
       "      <th></th>\n",
       "      <th></th>\n",
       "      <th></th>\n",
       "      <th></th>\n",
       "    </tr>\n",
       "  </thead>\n",
       "  <tbody>\n",
       "    <tr>\n",
       "      <th>CZL</th>\n",
       "      <td>4.612000</td>\n",
       "      <td>0.688368</td>\n",
       "      <td>18.925667</td>\n",
       "      <td>1.861265</td>\n",
       "      <td>5.395667</td>\n",
       "      <td>0.544336</td>\n",
       "      <td>11.386333</td>\n",
       "      <td>1.430065</td>\n",
       "      <td>11.830667</td>\n",
       "      <td>1.730366</td>\n",
       "      <td>0.149256</td>\n",
       "      <td>0.098346</td>\n",
       "      <td>0.100884</td>\n",
       "      <td>0.125595</td>\n",
       "      <td>0.146261</td>\n",
       "    </tr>\n",
       "    <tr>\n",
       "      <th>MAŁ</th>\n",
       "      <td>4.186333</td>\n",
       "      <td>0.458803</td>\n",
       "      <td>18.822000</td>\n",
       "      <td>1.208874</td>\n",
       "      <td>5.052333</td>\n",
       "      <td>0.559400</td>\n",
       "      <td>10.917333</td>\n",
       "      <td>1.012351</td>\n",
       "      <td>12.128333</td>\n",
       "      <td>1.105909</td>\n",
       "      <td>0.109595</td>\n",
       "      <td>0.064227</td>\n",
       "      <td>0.110721</td>\n",
       "      <td>0.092729</td>\n",
       "      <td>0.091184</td>\n",
       "    </tr>\n",
       "    <tr>\n",
       "      <th>BBR</th>\n",
       "      <td>4.746667</td>\n",
       "      <td>0.441059</td>\n",
       "      <td>16.206667</td>\n",
       "      <td>2.063306</td>\n",
       "      <td>4.550000</td>\n",
       "      <td>0.226053</td>\n",
       "      <td>8.430000</td>\n",
       "      <td>1.411701</td>\n",
       "      <td>7.866667</td>\n",
       "      <td>0.621638</td>\n",
       "      <td>0.092920</td>\n",
       "      <td>0.127312</td>\n",
       "      <td>0.049682</td>\n",
       "      <td>0.167462</td>\n",
       "      <td>0.079022</td>\n",
       "    </tr>\n",
       "    <tr>\n",
       "      <th>DRO</th>\n",
       "      <td>4.162000</td>\n",
       "      <td>0.367643</td>\n",
       "      <td>19.845333</td>\n",
       "      <td>1.360243</td>\n",
       "      <td>5.039000</td>\n",
       "      <td>0.330771</td>\n",
       "      <td>9.442667</td>\n",
       "      <td>0.956286</td>\n",
       "      <td>10.812000</td>\n",
       "      <td>0.792305</td>\n",
       "      <td>0.088333</td>\n",
       "      <td>0.068542</td>\n",
       "      <td>0.065642</td>\n",
       "      <td>0.101273</td>\n",
       "      <td>0.073280</td>\n",
       "    </tr>\n",
       "    <tr>\n",
       "      <th>ORZ</th>\n",
       "      <td>3.658333</td>\n",
       "      <td>0.261337</td>\n",
       "      <td>16.730667</td>\n",
       "      <td>1.384702</td>\n",
       "      <td>4.835667</td>\n",
       "      <td>0.470104</td>\n",
       "      <td>7.907000</td>\n",
       "      <td>0.931103</td>\n",
       "      <td>9.904667</td>\n",
       "      <td>0.815419</td>\n",
       "      <td>0.071436</td>\n",
       "      <td>0.082764</td>\n",
       "      <td>0.097216</td>\n",
       "      <td>0.117757</td>\n",
       "      <td>0.082327</td>\n",
       "    </tr>\n",
       "  </tbody>\n",
       "</table>\n",
       "</div>"
      ],
      "text/plain": [
       "    fl. Tube leng.           corolla diam.           tube diam.            \\\n",
       "              mean       std          mean       std       mean       std   \n",
       "pop                                                                         \n",
       "CZL       4.612000  0.688368     18.925667  1.861265   5.395667  0.544336   \n",
       "MAŁ       4.186333  0.458803     18.822000  1.208874   5.052333  0.559400   \n",
       "BBR       4.746667  0.441059     16.206667  2.063306   4.550000  0.226053   \n",
       "DRO       4.162000  0.367643     19.845333  1.360243   5.039000  0.330771   \n",
       "ORZ       3.658333  0.261337     16.730667  1.384702   4.835667  0.470104   \n",
       "\n",
       "    stamen length           pistil length           fl. Tube leng.  \\\n",
       "             mean       std          mean       std             CV   \n",
       "pop                                                                  \n",
       "CZL     11.386333  1.430065     11.830667  1.730366       0.149256   \n",
       "MAŁ     10.917333  1.012351     12.128333  1.105909       0.109595   \n",
       "BBR      8.430000  1.411701      7.866667  0.621638       0.092920   \n",
       "DRO      9.442667  0.956286     10.812000  0.792305       0.088333   \n",
       "ORZ      7.907000  0.931103      9.904667  0.815419       0.071436   \n",
       "\n",
       "    corolla diam. tube diam. stamen length pistil length  \n",
       "               CV         CV            CV            CV  \n",
       "pop                                                       \n",
       "CZL      0.098346   0.100884      0.125595      0.146261  \n",
       "MAŁ      0.064227   0.110721      0.092729      0.091184  \n",
       "BBR      0.127312   0.049682      0.167462      0.079022  \n",
       "DRO      0.068542   0.065642      0.101273      0.073280  \n",
       "ORZ      0.082764   0.097216      0.117757      0.082327  "
      ]
     },
     "execution_count": 16,
     "metadata": {},
     "output_type": "execute_result"
    }
   ],
   "source": [
    "df.head()"
   ]
  },
  {
   "cell_type": "code",
   "execution_count": 17,
   "metadata": {
    "collapsed": true
   },
   "outputs": [],
   "source": [
    "#selectng CV columns\n",
    "CV = df.iloc[:,10:]"
   ]
  },
  {
   "cell_type": "code",
   "execution_count": 18,
   "metadata": {
    "collapsed": false
   },
   "outputs": [
    {
     "data": {
      "text/html": [
       "<div>\n",
       "<style scoped>\n",
       "    .dataframe tbody tr th:only-of-type {\n",
       "        vertical-align: middle;\n",
       "    }\n",
       "\n",
       "    .dataframe tbody tr th {\n",
       "        vertical-align: top;\n",
       "    }\n",
       "\n",
       "    .dataframe thead tr th {\n",
       "        text-align: left;\n",
       "    }\n",
       "\n",
       "    .dataframe thead tr:last-of-type th {\n",
       "        text-align: right;\n",
       "    }\n",
       "</style>\n",
       "<table border=\"1\" class=\"dataframe\">\n",
       "  <thead>\n",
       "    <tr>\n",
       "      <th></th>\n",
       "      <th>fl. Tube leng.</th>\n",
       "      <th>corolla diam.</th>\n",
       "      <th>tube diam.</th>\n",
       "      <th>stamen length</th>\n",
       "      <th>pistil length</th>\n",
       "    </tr>\n",
       "    <tr>\n",
       "      <th></th>\n",
       "      <th>CV</th>\n",
       "      <th>CV</th>\n",
       "      <th>CV</th>\n",
       "      <th>CV</th>\n",
       "      <th>CV</th>\n",
       "    </tr>\n",
       "    <tr>\n",
       "      <th>pop</th>\n",
       "      <th></th>\n",
       "      <th></th>\n",
       "      <th></th>\n",
       "      <th></th>\n",
       "      <th></th>\n",
       "    </tr>\n",
       "  </thead>\n",
       "  <tbody>\n",
       "    <tr>\n",
       "      <th>CZL</th>\n",
       "      <td>0.149256</td>\n",
       "      <td>0.098346</td>\n",
       "      <td>0.100884</td>\n",
       "      <td>0.125595</td>\n",
       "      <td>0.146261</td>\n",
       "    </tr>\n",
       "    <tr>\n",
       "      <th>MAŁ</th>\n",
       "      <td>0.109595</td>\n",
       "      <td>0.064227</td>\n",
       "      <td>0.110721</td>\n",
       "      <td>0.092729</td>\n",
       "      <td>0.091184</td>\n",
       "    </tr>\n",
       "    <tr>\n",
       "      <th>BBR</th>\n",
       "      <td>0.092920</td>\n",
       "      <td>0.127312</td>\n",
       "      <td>0.049682</td>\n",
       "      <td>0.167462</td>\n",
       "      <td>0.079022</td>\n",
       "    </tr>\n",
       "    <tr>\n",
       "      <th>DRO</th>\n",
       "      <td>0.088333</td>\n",
       "      <td>0.068542</td>\n",
       "      <td>0.065642</td>\n",
       "      <td>0.101273</td>\n",
       "      <td>0.073280</td>\n",
       "    </tr>\n",
       "    <tr>\n",
       "      <th>ORZ</th>\n",
       "      <td>0.071436</td>\n",
       "      <td>0.082764</td>\n",
       "      <td>0.097216</td>\n",
       "      <td>0.117757</td>\n",
       "      <td>0.082327</td>\n",
       "    </tr>\n",
       "  </tbody>\n",
       "</table>\n",
       "</div>"
      ],
      "text/plain": [
       "    fl. Tube leng. corolla diam. tube diam. stamen length pistil length\n",
       "                CV            CV         CV            CV            CV\n",
       "pop                                                                    \n",
       "CZL       0.149256      0.098346   0.100884      0.125595      0.146261\n",
       "MAŁ       0.109595      0.064227   0.110721      0.092729      0.091184\n",
       "BBR       0.092920      0.127312   0.049682      0.167462      0.079022\n",
       "DRO       0.088333      0.068542   0.065642      0.101273      0.073280\n",
       "ORZ       0.071436      0.082764   0.097216      0.117757      0.082327"
      ]
     },
     "execution_count": 18,
     "metadata": {},
     "output_type": "execute_result"
    }
   ],
   "source": [
    "CV.head()"
   ]
  },
  {
   "cell_type": "code",
   "execution_count": 19,
   "metadata": {
    "collapsed": true
   },
   "outputs": [],
   "source": [
    "#removing row with \"CV\"\n",
    "CV.columns = CV.columns.droplevel(1)"
   ]
  },
  {
   "cell_type": "code",
   "execution_count": 20,
   "metadata": {
    "collapsed": false
   },
   "outputs": [
    {
     "data": {
      "text/html": [
       "<div>\n",
       "<style scoped>\n",
       "    .dataframe tbody tr th:only-of-type {\n",
       "        vertical-align: middle;\n",
       "    }\n",
       "\n",
       "    .dataframe tbody tr th {\n",
       "        vertical-align: top;\n",
       "    }\n",
       "\n",
       "    .dataframe thead th {\n",
       "        text-align: right;\n",
       "    }\n",
       "</style>\n",
       "<table border=\"1\" class=\"dataframe\">\n",
       "  <thead>\n",
       "    <tr style=\"text-align: right;\">\n",
       "      <th></th>\n",
       "      <th>fl. Tube leng.</th>\n",
       "      <th>corolla diam.</th>\n",
       "      <th>tube diam.</th>\n",
       "      <th>stamen length</th>\n",
       "      <th>pistil length</th>\n",
       "    </tr>\n",
       "    <tr>\n",
       "      <th>pop</th>\n",
       "      <th></th>\n",
       "      <th></th>\n",
       "      <th></th>\n",
       "      <th></th>\n",
       "      <th></th>\n",
       "    </tr>\n",
       "  </thead>\n",
       "  <tbody>\n",
       "    <tr>\n",
       "      <th>CZL</th>\n",
       "      <td>0.149256</td>\n",
       "      <td>0.098346</td>\n",
       "      <td>0.100884</td>\n",
       "      <td>0.125595</td>\n",
       "      <td>0.146261</td>\n",
       "    </tr>\n",
       "    <tr>\n",
       "      <th>MAŁ</th>\n",
       "      <td>0.109595</td>\n",
       "      <td>0.064227</td>\n",
       "      <td>0.110721</td>\n",
       "      <td>0.092729</td>\n",
       "      <td>0.091184</td>\n",
       "    </tr>\n",
       "    <tr>\n",
       "      <th>BBR</th>\n",
       "      <td>0.092920</td>\n",
       "      <td>0.127312</td>\n",
       "      <td>0.049682</td>\n",
       "      <td>0.167462</td>\n",
       "      <td>0.079022</td>\n",
       "    </tr>\n",
       "    <tr>\n",
       "      <th>DRO</th>\n",
       "      <td>0.088333</td>\n",
       "      <td>0.068542</td>\n",
       "      <td>0.065642</td>\n",
       "      <td>0.101273</td>\n",
       "      <td>0.073280</td>\n",
       "    </tr>\n",
       "    <tr>\n",
       "      <th>ORZ</th>\n",
       "      <td>0.071436</td>\n",
       "      <td>0.082764</td>\n",
       "      <td>0.097216</td>\n",
       "      <td>0.117757</td>\n",
       "      <td>0.082327</td>\n",
       "    </tr>\n",
       "    <tr>\n",
       "      <th>BIA</th>\n",
       "      <td>0.111724</td>\n",
       "      <td>0.119314</td>\n",
       "      <td>0.134286</td>\n",
       "      <td>0.157541</td>\n",
       "      <td>0.123868</td>\n",
       "    </tr>\n",
       "    <tr>\n",
       "      <th>SIE</th>\n",
       "      <td>0.140941</td>\n",
       "      <td>0.075694</td>\n",
       "      <td>0.063482</td>\n",
       "      <td>0.092453</td>\n",
       "      <td>0.087061</td>\n",
       "    </tr>\n",
       "    <tr>\n",
       "      <th>KLE</th>\n",
       "      <td>0.101147</td>\n",
       "      <td>0.064558</td>\n",
       "      <td>0.116486</td>\n",
       "      <td>0.118402</td>\n",
       "      <td>0.109698</td>\n",
       "    </tr>\n",
       "    <tr>\n",
       "      <th>ŻED</th>\n",
       "      <td>0.113185</td>\n",
       "      <td>0.074405</td>\n",
       "      <td>0.131648</td>\n",
       "      <td>0.106351</td>\n",
       "      <td>0.126405</td>\n",
       "    </tr>\n",
       "    <tr>\n",
       "      <th>KOP</th>\n",
       "      <td>0.110264</td>\n",
       "      <td>0.060574</td>\n",
       "      <td>0.106479</td>\n",
       "      <td>0.077821</td>\n",
       "      <td>0.079490</td>\n",
       "    </tr>\n",
       "    <tr>\n",
       "      <th>ROS</th>\n",
       "      <td>0.100357</td>\n",
       "      <td>0.108319</td>\n",
       "      <td>0.099909</td>\n",
       "      <td>0.098098</td>\n",
       "      <td>0.078917</td>\n",
       "    </tr>\n",
       "    <tr>\n",
       "      <th>BOB</th>\n",
       "      <td>0.105168</td>\n",
       "      <td>0.057171</td>\n",
       "      <td>0.106485</td>\n",
       "      <td>0.064172</td>\n",
       "      <td>0.123222</td>\n",
       "    </tr>\n",
       "    <tr>\n",
       "      <th>WPN</th>\n",
       "      <td>0.085702</td>\n",
       "      <td>0.064510</td>\n",
       "      <td>0.107911</td>\n",
       "      <td>0.089058</td>\n",
       "      <td>0.084985</td>\n",
       "    </tr>\n",
       "    <tr>\n",
       "      <th>KCZ</th>\n",
       "      <td>0.098409</td>\n",
       "      <td>0.075087</td>\n",
       "      <td>0.092884</td>\n",
       "      <td>0.109629</td>\n",
       "      <td>0.086075</td>\n",
       "    </tr>\n",
       "    <tr>\n",
       "      <th>SPN</th>\n",
       "      <td>0.106072</td>\n",
       "      <td>0.129373</td>\n",
       "      <td>0.137124</td>\n",
       "      <td>0.172016</td>\n",
       "      <td>0.226996</td>\n",
       "    </tr>\n",
       "  </tbody>\n",
       "</table>\n",
       "</div>"
      ],
      "text/plain": [
       "     fl. Tube leng.  corolla diam.  tube diam.  stamen length  pistil length\n",
       "pop                                                                         \n",
       "CZL        0.149256       0.098346    0.100884       0.125595       0.146261\n",
       "MAŁ        0.109595       0.064227    0.110721       0.092729       0.091184\n",
       "BBR        0.092920       0.127312    0.049682       0.167462       0.079022\n",
       "DRO        0.088333       0.068542    0.065642       0.101273       0.073280\n",
       "ORZ        0.071436       0.082764    0.097216       0.117757       0.082327\n",
       "BIA        0.111724       0.119314    0.134286       0.157541       0.123868\n",
       "SIE        0.140941       0.075694    0.063482       0.092453       0.087061\n",
       "KLE        0.101147       0.064558    0.116486       0.118402       0.109698\n",
       "ŻED        0.113185       0.074405    0.131648       0.106351       0.126405\n",
       "KOP        0.110264       0.060574    0.106479       0.077821       0.079490\n",
       "ROS        0.100357       0.108319    0.099909       0.098098       0.078917\n",
       "BOB        0.105168       0.057171    0.106485       0.064172       0.123222\n",
       "WPN        0.085702       0.064510    0.107911       0.089058       0.084985\n",
       "KCZ        0.098409       0.075087    0.092884       0.109629       0.086075\n",
       "SPN        0.106072       0.129373    0.137124       0.172016       0.226996"
      ]
     },
     "execution_count": 20,
     "metadata": {},
     "output_type": "execute_result"
    }
   ],
   "source": [
    "CV"
   ]
  },
  {
   "cell_type": "code",
   "execution_count": 21,
   "metadata": {
    "collapsed": false
   },
   "outputs": [
    {
     "data": {
      "image/png": "[encoded data removed]",
      "text/plain": [
       "<matplotlib.figure.Figure at 0x7faea039ce80>"
      ]
     },
     "metadata": {},
     "output_type": "display_data"
    }
   ],
   "source": [
    "CV.plot(kind='bar', figsize=(10,10))\n",
    "plt.title(\"Coeficient of variance\")\n",
    "plt.xticks(rotation=45)\n",
    "plt.savefig(\"cv.jpg\")\n",
    "plt.show()"
   ]
  },
  {
   "cell_type": "code",
   "execution_count": 22,
   "metadata": {
    "collapsed": false
   },
   "outputs": [
    {
     "data": {
      "text/html": [
       "<div>\n",
       "<style scoped>\n",
       "    .dataframe tbody tr th:only-of-type {\n",
       "        vertical-align: middle;\n",
       "    }\n",
       "\n",
       "    .dataframe tbody tr th {\n",
       "        vertical-align: top;\n",
       "    }\n",
       "\n",
       "    .dataframe thead th {\n",
       "        text-align: right;\n",
       "    }\n",
       "</style>\n",
       "<table border=\"1\" class=\"dataframe\">\n",
       "  <thead>\n",
       "    <tr style=\"text-align: right;\">\n",
       "      <th></th>\n",
       "      <th>pop</th>\n",
       "      <th>plant no</th>\n",
       "      <th>fl. Tube leng.</th>\n",
       "      <th>corolla diam.</th>\n",
       "      <th>tube diam.</th>\n",
       "      <th>stamen length</th>\n",
       "      <th>pistil length</th>\n",
       "      <th>stamen-pistil distance</th>\n",
       "      <th>stamen-pistil distance absolute val.</th>\n",
       "      <th>no flowers</th>\n",
       "      <th>pop size 2018</th>\n",
       "    </tr>\n",
       "  </thead>\n",
       "  <tbody>\n",
       "    <tr>\n",
       "      <th>0</th>\n",
       "      <td>CZL</td>\n",
       "      <td>1</td>\n",
       "      <td>4.79</td>\n",
       "      <td>20.23</td>\n",
       "      <td>6.58</td>\n",
       "      <td>13.42</td>\n",
       "      <td>12.47</td>\n",
       "      <td>-0.95</td>\n",
       "      <td>0.95</td>\n",
       "      <td>97.0</td>\n",
       "      <td>6.4</td>\n",
       "    </tr>\n",
       "    <tr>\n",
       "      <th>1</th>\n",
       "      <td>CZL</td>\n",
       "      <td>2</td>\n",
       "      <td>3.95</td>\n",
       "      <td>21.36</td>\n",
       "      <td>6.27</td>\n",
       "      <td>12.61</td>\n",
       "      <td>13.30</td>\n",
       "      <td>0.69</td>\n",
       "      <td>0.69</td>\n",
       "      <td>244.0</td>\n",
       "      <td>6.4</td>\n",
       "    </tr>\n",
       "    <tr>\n",
       "      <th>2</th>\n",
       "      <td>CZL</td>\n",
       "      <td>3</td>\n",
       "      <td>3.70</td>\n",
       "      <td>19.20</td>\n",
       "      <td>5.10</td>\n",
       "      <td>10.60</td>\n",
       "      <td>11.41</td>\n",
       "      <td>0.81</td>\n",
       "      <td>0.81</td>\n",
       "      <td>69.0</td>\n",
       "      <td>6.4</td>\n",
       "    </tr>\n",
       "    <tr>\n",
       "      <th>3</th>\n",
       "      <td>CZL</td>\n",
       "      <td>4</td>\n",
       "      <td>3.63</td>\n",
       "      <td>18.28</td>\n",
       "      <td>4.86</td>\n",
       "      <td>9.85</td>\n",
       "      <td>12.81</td>\n",
       "      <td>2.96</td>\n",
       "      <td>2.96</td>\n",
       "      <td>68.0</td>\n",
       "      <td>6.4</td>\n",
       "    </tr>\n",
       "    <tr>\n",
       "      <th>4</th>\n",
       "      <td>CZL</td>\n",
       "      <td>5</td>\n",
       "      <td>4.68</td>\n",
       "      <td>19.79</td>\n",
       "      <td>5.12</td>\n",
       "      <td>11.06</td>\n",
       "      <td>12.22</td>\n",
       "      <td>1.16</td>\n",
       "      <td>1.16</td>\n",
       "      <td>87.0</td>\n",
       "      <td>6.4</td>\n",
       "    </tr>\n",
       "  </tbody>\n",
       "</table>\n",
       "</div>"
      ],
      "text/plain": [
       "   pop  plant no  fl. Tube leng.  corolla diam.  tube diam.  stamen length  \\\n",
       "0  CZL         1            4.79          20.23        6.58          13.42   \n",
       "1  CZL         2            3.95          21.36        6.27          12.61   \n",
       "2  CZL         3            3.70          19.20        5.10          10.60   \n",
       "3  CZL         4            3.63          18.28        4.86           9.85   \n",
       "4  CZL         5            4.68          19.79        5.12          11.06   \n",
       "\n",
       "   pistil length  stamen-pistil distance  \\\n",
       "0          12.47                   -0.95   \n",
       "1          13.30                    0.69   \n",
       "2          11.41                    0.81   \n",
       "3          12.81                    2.96   \n",
       "4          12.22                    1.16   \n",
       "\n",
       "   stamen-pistil distance absolute val.  no flowers  pop size 2018  \n",
       "0                                  0.95        97.0            6.4  \n",
       "1                                  0.69       244.0            6.4  \n",
       "2                                  0.81        69.0            6.4  \n",
       "3                                  2.96        68.0            6.4  \n",
       "4                                  1.16        87.0            6.4  "
      ]
     },
     "execution_count": 22,
     "metadata": {},
     "output_type": "execute_result"
    }
   ],
   "source": [
    "data.head()"
   ]
  },
  {
   "cell_type": "code",
   "execution_count": 23,
   "metadata": {
    "collapsed": false
   },
   "outputs": [],
   "source": [
    "X = data[data['pop'] == 'CZL'].iloc[:,2:7]"
   ]
  },
  {
   "cell_type": "code",
   "execution_count": 24,
   "metadata": {
    "collapsed": true
   },
   "outputs": [],
   "source": [
    "#import necessary library\n",
    "from sklearn.decomposition import PCA"
   ]
  },
  {
   "cell_type": "code",
   "execution_count": 25,
   "metadata": {
    "collapsed": true
   },
   "outputs": [],
   "source": [
    "#initialize pca\n",
    "pca = PCA()"
   ]
  },
  {
   "cell_type": "code",
   "execution_count": 26,
   "metadata": {
    "collapsed": true
   },
   "outputs": [],
   "source": [
    "#sacling the data\n",
    "from sklearn.preprocessing import StandardScaler\n",
    "X_std = StandardScaler().fit_transform(X)"
   ]
  },
  {
   "cell_type": "code",
   "execution_count": 27,
   "metadata": {
    "collapsed": false
   },
   "outputs": [
    {
     "name": "stdout",
     "output_type": "stream",
     "text": [
      "Covariance matrix \n",
      "[[ 1.03448276  0.14697812  0.08330584  0.13930182  0.34940403]\n",
      " [ 0.14697812  1.03448276  0.55696101  0.61524741  0.51192143]\n",
      " [ 0.08330584  0.55696101  1.03448276  0.49845361  0.25008105]\n",
      " [ 0.13930182  0.61524741  0.49845361  1.03448276  0.4374067 ]\n",
      " [ 0.34940403  0.51192143  0.25008105  0.4374067   1.03448276]]\n"
     ]
    }
   ],
   "source": [
    "#eigen values using linear algebra\n",
    "import numpy as np\n",
    "mean_vec = np.mean(X_std, axis=0)\n",
    "cov_mat = (X_std - mean_vec).T.dot((X_std - mean_vec)) / (X_std.shape[0]-1)\n",
    "print('Covariance matrix \\n%s' %cov_mat)"
   ]
  },
  {
   "cell_type": "code",
   "execution_count": 28,
   "metadata": {
    "collapsed": false
   },
   "outputs": [
    {
     "name": "stdout",
     "output_type": "stream",
     "text": [
      "Eigenvectors \n",
      "[[-0.22438934 -0.81003369 -0.50626477  0.14811611 -0.12350084]\n",
      " [-0.53793978  0.16652182  0.12311341 -0.15278962 -0.80273887]\n",
      " [-0.4464119   0.37431605 -0.60687647 -0.40298245  0.36043029]\n",
      " [-0.50941416  0.184806    0.10394058  0.79754449  0.24385058]\n",
      " [-0.44886953 -0.37662999  0.59113143 -0.39527824  0.38856756]]\n",
      "\n",
      "Eigenvalues \n",
      "[ 2.56776966  1.09644863  0.66202658  0.47384195  0.37232697]\n"
     ]
    }
   ],
   "source": [
    "cov_mat = np.cov(X_std.T)\n",
    "\n",
    "eig_vals, eig_vecs = np.linalg.eig(cov_mat)\n",
    "\n",
    "print('Eigenvectors \\n%s' %eig_vecs)\n",
    "print('\\nEigenvalues \\n%s' %eig_vals)"
   ]
  },
  {
   "cell_type": "code",
   "execution_count": 29,
   "metadata": {
    "collapsed": true
   },
   "outputs": [],
   "source": [
    "pca.fit_transform(X_std)\n",
    "eigenvalues = pca.explained_variance_"
   ]
  },
  {
   "cell_type": "code",
   "execution_count": 30,
   "metadata": {
    "collapsed": false
   },
   "outputs": [
    {
     "data": {
      "text/plain": [
       "array([ 2.48217734,  1.05990035,  0.63995903,  0.45804722,  0.35991607])"
      ]
     },
     "execution_count": 30,
     "metadata": {},
     "output_type": "execute_result"
    }
   ],
   "source": [
    "eigenvalues"
   ]
  },
  {
   "cell_type": "code",
   "execution_count": 31,
   "metadata": {
    "collapsed": false
   },
   "outputs": [
    {
     "data": {
      "text/plain": [
       "0.60669749337122902"
      ]
     },
     "execution_count": 31,
     "metadata": {},
     "output_type": "execute_result"
    }
   ],
   "source": [
    "np.var(eigenvalues)"
   ]
  },
  {
   "cell_type": "code",
   "execution_count": 32,
   "metadata": {
    "collapsed": true
   },
   "outputs": [],
   "source": [
    "data.dropna(inplace=True)"
   ]
  },
  {
   "cell_type": "code",
   "execution_count": 33,
   "metadata": {
    "collapsed": false
   },
   "outputs": [],
   "source": [
    "#counting eigen values of correlation matrix by population\n",
    "eig_val =[]\n",
    "for i in range(len(populacje)):\n",
    "    #selecting data\n",
    "    X = data[data['pop'] == populacje[i]].iloc[:,2:7]\n",
    "    #standarize data\n",
    "    X_std = StandardScaler().fit_transform(X)\n",
    "    #apply pca to the data\n",
    "    pca.fit_transform(X_std)\n",
    "    #get eigenvalues\n",
    "    eigenvalues = pca.explained_variance_\n",
    "    #create list of eigenvalues for each pop\n",
    "    eig_val.append(eigenvalues)"
   ]
  },
  {
   "cell_type": "code",
   "execution_count": 34,
   "metadata": {
    "collapsed": false
   },
   "outputs": [
    {
     "data": {
      "text/plain": [
       "array([ 2.48217734,  1.05990035,  0.63995903,  0.45804722,  0.35991607])"
      ]
     },
     "execution_count": 34,
     "metadata": {},
     "output_type": "execute_result"
    }
   ],
   "source": [
    "eig_val[0]"
   ]
  },
  {
   "cell_type": "code",
   "execution_count": 35,
   "metadata": {
    "collapsed": true
   },
   "outputs": [],
   "source": [
    "#counting variance of eigen values\n",
    "wariancja = []\n",
    "for i in range(len(eig_val)):\n",
    "    wariancja.append(np.var(eig_val[i])*100)"
   ]
  },
  {
   "cell_type": "code",
   "execution_count": 36,
   "metadata": {
    "collapsed": false
   },
   "outputs": [
    {
     "data": {
      "text/plain": [
       "60.669749337122902"
      ]
     },
     "execution_count": 36,
     "metadata": {},
     "output_type": "execute_result"
    }
   ],
   "source": [
    "wariancja[0]"
   ]
  },
  {
   "cell_type": "code",
   "execution_count": 40,
   "metadata": {
    "collapsed": false,
    "scrolled": true
   },
   "outputs": [
    {
     "data": {
      "image/png": "[encoded data removed]",
      "text/plain": [
       "<matplotlib.figure.Figure at 0x7fae8dbfeac8>"
      ]
     },
     "metadata": {},
     "output_type": "display_data"
    }
   ],
   "source": [
    "xs = np.arange(len(populacje)) \n",
    "plt.bar(xs, wariancja ,align='center')\n",
    "plt.xticks(xs, populacje)\n",
    "plt.xticks(rotation=45)\n",
    "plt.ylabel('Integration index value')\n",
    "#plt.savefig(\"Index.jpg\")\n",
    "plt.show()"
   ]
  },
  {
   "cell_type": "code",
   "execution_count": null,
   "metadata": {
    "collapsed": true
   },
   "outputs": [],
   "source": []
  }
 ],
 "metadata": {
  "kernelspec": {
   "display_name": "Python 3",
   "language": "python",
   "name": "python3"
  },
  "language_info": {
   "codemirror_mode": {
    "name": "ipython",
    "version": 3
   },
   "file_extension": ".py",
   "mimetype": "text/x-python",
   "name": "python",
   "nbconvert_exporter": "python",
   "pygments_lexer": "ipython3",
   "version": "3.6.6"
  }
 },
 "nbformat": 4,
 "nbformat_minor": 2
}
