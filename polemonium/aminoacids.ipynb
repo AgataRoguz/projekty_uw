{
 "cells": [
  {
   "cell_type": "code",
   "execution_count": 1,
   "metadata": {
    "collapsed": true
   },
   "outputs": [],
   "source": [
    "# import libraries\n",
    "import pandas as pd\n",
    "import re\n",
    "import matplotlib.pyplot as plt\n",
    "import numpy as np\n",
    "import seaborn as sns"
   ]
  },
  {
   "cell_type": "code",
   "execution_count": 2,
   "metadata": {
    "collapsed": true
   },
   "outputs": [],
   "source": [
    "amino = pd.read_csv(\"AA & sugars Polemonium.csv\")"
   ]
  },
  {
   "cell_type": "code",
   "execution_count": 3,
   "metadata": {
    "collapsed": false
   },
   "outputs": [
    {
     "data": {
      "text/html": [
       "<div>\n",
       "<style scoped>\n",
       "    .dataframe tbody tr th:only-of-type {\n",
       "        vertical-align: middle;\n",
       "    }\n",
       "\n",
       "    .dataframe tbody tr th {\n",
       "        vertical-align: top;\n",
       "    }\n",
       "\n",
       "    .dataframe thead th {\n",
       "        text-align: right;\n",
       "    }\n",
       "</style>\n",
       "<table border=\"1\" class=\"dataframe\">\n",
       "  <thead>\n",
       "    <tr style=\"text-align: right;\">\n",
       "      <th></th>\n",
       "      <th>pop</th>\n",
       "      <th>LOC</th>\n",
       "      <th>ln_pop_size_2018</th>\n",
       "      <th>freq_of_visit</th>\n",
       "      <th>seed_prod</th>\n",
       "      <th>phase</th>\n",
       "      <th>fru ug/ul</th>\n",
       "      <th>glu ug/ul</th>\n",
       "      <th>sac ug/ul</th>\n",
       "      <th>AAs sum [pmol/uL]</th>\n",
       "      <th>...</th>\n",
       "      <th>NVA %</th>\n",
       "      <th>TRP %</th>\n",
       "      <th>PHE %</th>\n",
       "      <th>ILE %</th>\n",
       "      <th>ORN %</th>\n",
       "      <th>LEU %</th>\n",
       "      <th>LYS %</th>\n",
       "      <th>HYP %</th>\n",
       "      <th>SAR %</th>\n",
       "      <th>PRO %</th>\n",
       "    </tr>\n",
       "  </thead>\n",
       "  <tbody>\n",
       "    <tr>\n",
       "      <th>0</th>\n",
       "      <td>BIA</td>\n",
       "      <td>NE</td>\n",
       "      <td>4.61</td>\n",
       "      <td>13.4</td>\n",
       "      <td>12.3</td>\n",
       "      <td>M</td>\n",
       "      <td>70.098400</td>\n",
       "      <td>19.66292</td>\n",
       "      <td>63.411520</td>\n",
       "      <td>1751.187429</td>\n",
       "      <td>...</td>\n",
       "      <td>0.79</td>\n",
       "      <td>0.5</td>\n",
       "      <td>5.71</td>\n",
       "      <td>2.00</td>\n",
       "      <td>2.91</td>\n",
       "      <td>1.33</td>\n",
       "      <td>3.74</td>\n",
       "      <td>NaN</td>\n",
       "      <td>1.29</td>\n",
       "      <td>4.60</td>\n",
       "    </tr>\n",
       "    <tr>\n",
       "      <th>1</th>\n",
       "      <td>BIA</td>\n",
       "      <td>NE</td>\n",
       "      <td>4.61</td>\n",
       "      <td>13.4</td>\n",
       "      <td>12.3</td>\n",
       "      <td>F</td>\n",
       "      <td>138.228000</td>\n",
       "      <td>68.32804</td>\n",
       "      <td>1.913312</td>\n",
       "      <td>195.012100</td>\n",
       "      <td>...</td>\n",
       "      <td>NaN</td>\n",
       "      <td>NaN</td>\n",
       "      <td>3.92</td>\n",
       "      <td>2.01</td>\n",
       "      <td>3.63</td>\n",
       "      <td>3.40</td>\n",
       "      <td>10.67</td>\n",
       "      <td>NaN</td>\n",
       "      <td>NaN</td>\n",
       "      <td>NaN</td>\n",
       "    </tr>\n",
       "    <tr>\n",
       "      <th>2</th>\n",
       "      <td>BOB</td>\n",
       "      <td>N</td>\n",
       "      <td>3.69</td>\n",
       "      <td>1.0</td>\n",
       "      <td>12.6</td>\n",
       "      <td>M</td>\n",
       "      <td>33.781800</td>\n",
       "      <td>9.70473</td>\n",
       "      <td>6.147660</td>\n",
       "      <td>469.099865</td>\n",
       "      <td>...</td>\n",
       "      <td>NaN</td>\n",
       "      <td>NaN</td>\n",
       "      <td>2.91</td>\n",
       "      <td>2.29</td>\n",
       "      <td>2.73</td>\n",
       "      <td>1.06</td>\n",
       "      <td>NaN</td>\n",
       "      <td>NaN</td>\n",
       "      <td>5.00</td>\n",
       "      <td>14.34</td>\n",
       "    </tr>\n",
       "    <tr>\n",
       "      <th>3</th>\n",
       "      <td>BOB</td>\n",
       "      <td>N</td>\n",
       "      <td>3.69</td>\n",
       "      <td>1.0</td>\n",
       "      <td>12.6</td>\n",
       "      <td>F</td>\n",
       "      <td>124.218000</td>\n",
       "      <td>49.34385</td>\n",
       "      <td>10.057260</td>\n",
       "      <td>148.956264</td>\n",
       "      <td>...</td>\n",
       "      <td>NaN</td>\n",
       "      <td>NaN</td>\n",
       "      <td>3.50</td>\n",
       "      <td>2.45</td>\n",
       "      <td>NaN</td>\n",
       "      <td>3.40</td>\n",
       "      <td>1.45</td>\n",
       "      <td>NaN</td>\n",
       "      <td>NaN</td>\n",
       "      <td>NaN</td>\n",
       "    </tr>\n",
       "    <tr>\n",
       "      <th>4</th>\n",
       "      <td>CZL</td>\n",
       "      <td>S</td>\n",
       "      <td>6.21</td>\n",
       "      <td>5.4</td>\n",
       "      <td>12.0</td>\n",
       "      <td>M</td>\n",
       "      <td>40.299948</td>\n",
       "      <td>20.44272</td>\n",
       "      <td>88.108992</td>\n",
       "      <td>144.522395</td>\n",
       "      <td>...</td>\n",
       "      <td>NaN</td>\n",
       "      <td>NaN</td>\n",
       "      <td>9.37</td>\n",
       "      <td>2.69</td>\n",
       "      <td>NaN</td>\n",
       "      <td>8.26</td>\n",
       "      <td>NaN</td>\n",
       "      <td>NaN</td>\n",
       "      <td>NaN</td>\n",
       "      <td>2.40</td>\n",
       "    </tr>\n",
       "  </tbody>\n",
       "</table>\n",
       "<p>5 rows × 40 columns</p>\n",
       "</div>"
      ],
      "text/plain": [
       "   pop LOC  ln_pop_size_2018  freq_of_visit  seed_prod phase   fru ug/ul  \\\n",
       "0  BIA  NE              4.61           13.4       12.3     M   70.098400   \n",
       "1  BIA  NE              4.61           13.4       12.3     F  138.228000   \n",
       "2  BOB   N              3.69            1.0       12.6     M   33.781800   \n",
       "3  BOB   N              3.69            1.0       12.6     F  124.218000   \n",
       "4  CZL   S              6.21            5.4       12.0     M   40.299948   \n",
       "\n",
       "   glu ug/ul  sac ug/ul  AAs sum [pmol/uL]  ...    NVA %  TRP %  PHE %  ILE %  \\\n",
       "0   19.66292  63.411520        1751.187429  ...     0.79    0.5   5.71   2.00   \n",
       "1   68.32804   1.913312         195.012100  ...      NaN    NaN   3.92   2.01   \n",
       "2    9.70473   6.147660         469.099865  ...      NaN    NaN   2.91   2.29   \n",
       "3   49.34385  10.057260         148.956264  ...      NaN    NaN   3.50   2.45   \n",
       "4   20.44272  88.108992         144.522395  ...      NaN    NaN   9.37   2.69   \n",
       "\n",
       "   ORN %  LEU %  LYS %  HYP %  SAR %  PRO %  \n",
       "0   2.91   1.33   3.74    NaN   1.29   4.60  \n",
       "1   3.63   3.40  10.67    NaN    NaN    NaN  \n",
       "2   2.73   1.06    NaN    NaN   5.00  14.34  \n",
       "3    NaN   3.40   1.45    NaN    NaN    NaN  \n",
       "4    NaN   8.26    NaN    NaN    NaN   2.40  \n",
       "\n",
       "[5 rows x 40 columns]"
      ]
     },
     "execution_count": 3,
     "metadata": {},
     "output_type": "execute_result"
    }
   ],
   "source": [
    "amino.head()"
   ]
  },
  {
   "cell_type": "code",
   "execution_count": 4,
   "metadata": {
    "collapsed": true
   },
   "outputs": [
    {
     "name": "stdout",
     "output_type": "stream",
     "text": [
      "<class 'pandas.core.frame.DataFrame'>\n",
      "RangeIndex: 28 entries, 0 to 27\n",
      "Data columns (total 40 columns):\n",
      "pop                  28 non-null object\n",
      "LOC                  28 non-null object\n",
      "ln_pop_size_2018     28 non-null float64\n",
      "freq_of_visit        28 non-null float64\n",
      "seed_prod            28 non-null float64\n",
      "phase                28 non-null object\n",
      "fru ug/ul            28 non-null float64\n",
      "glu ug/ul            28 non-null float64\n",
      "sac ug/ul            28 non-null float64\n",
      "AAs sum [pmol/uL]    28 non-null float64\n",
      "ASP %                28 non-null float64\n",
      "GLU %                28 non-null float64\n",
      "ASN %                26 non-null float64\n",
      "SER %                28 non-null float64\n",
      "GLN %                28 non-null float64\n",
      "HIS %                17 non-null float64\n",
      "GLY %                24 non-null float64\n",
      "THR %                28 non-null float64\n",
      "CIT %                25 non-null float64\n",
      "ARG %                28 non-null float64\n",
      "BALA %               28 non-null float64\n",
      "ALA %                19 non-null float64\n",
      "TAU %                9 non-null float64\n",
      "GABA %               1 non-null float64\n",
      "BABA %               27 non-null float64\n",
      "TYR %                28 non-null float64\n",
      "AABA %               5 non-null float64\n",
      "CYS %                27 non-null float64\n",
      "VAL %                14 non-null float64\n",
      "MET %                14 non-null float64\n",
      "NVA %                7 non-null float64\n",
      "TRP %                3 non-null float64\n",
      "PHE %                28 non-null float64\n",
      "ILE %                27 non-null float64\n",
      "ORN %                20 non-null float64\n",
      "LEU %                20 non-null float64\n",
      "LYS %                19 non-null float64\n",
      "HYP %                0 non-null float64\n",
      "SAR %                3 non-null float64\n",
      "PRO %                6 non-null float64\n",
      "dtypes: float64(37), object(3)\n",
      "memory usage: 8.8+ KB\n"
     ]
    }
   ],
   "source": [
    "amino.info()"
   ]
  },
  {
   "cell_type": "code",
   "execution_count": 5,
   "metadata": {
    "collapsed": false
   },
   "outputs": [],
   "source": [
    "amino.fillna(0, inplace=True)"
   ]
  },
  {
   "cell_type": "code",
   "execution_count": 12,
   "metadata": {
    "collapsed": true
   },
   "outputs": [],
   "source": [
    "col = {'NE':'#228B22', 'N':'#46c4fd', 'S':\"#e5247e\"}#, 'HUM':''}\n",
    "amino[\"colors\"] = amino.LOC.apply(lambda x: col[x])"
   ]
  },
  {
   "cell_type": "code",
   "execution_count": 18,
   "metadata": {
    "collapsed": false
   },
   "outputs": [
    {
     "data": {
      "image/png": "[encoded data removed]",
      "text/plain": [
       "<matplotlib.figure.Figure at 0x7fda93987198>"
      ]
     },
     "metadata": {},
     "output_type": "display_data"
    }
   ],
   "source": [
    "labels =[]\n",
    "sns.set_style(\"white\")\n",
    "for key, value in col.items():\n",
    "    labels.append(key)\n",
    "    plt.scatter(x = amino.freq_of_visit[amino.LOC == key], y = amino.seed_prod[amino.LOC == key],\n",
    "            s = np.array(amino.ln_pop_size_2018[amino.LOC == key])*100, \n",
    "            c = amino.colors[amino.LOC == key], alpha=0.7, edgecolors='black')\n",
    "\n",
    "#plt.yscale('log')\n",
    "#plt.xscale('log') \n",
    "plt.xlabel('Freq of visit')\n",
    "plt.ylabel('Seed production')\n",
    "plt.title('Freq of visit vs seed production', fontsize=18)\n",
    "#plt.xlim(0,350)\n",
    "\n",
    "#plt.xticks([1000,10000,100000], ['1k','10k','100k'])\n",
    "#plt.text(120, 24, 'F.imperialis')\n",
    "#plt.text(70, 4, 'F.eduardi')\n",
    "lgnd = plt.legend(labels, title='Color by localization')\n",
    "for i in range(len(col)):\n",
    "    lgnd.legendHandles[i]._sizes = [60]\n",
    "\n",
    "plt.text(10,15, \"Size by  ln pop size\")\n",
    "#plt.scatter(110, 51, s=100, c = 'white', edgecolors='k')\n",
    "#plt.text(140, 49.8,  r'$0.1 \\mu g$')\n",
    "# Show the plot\n",
    "plt.show()"
   ]
  },
  {
   "cell_type": "code",
   "execution_count": null,
   "metadata": {
    "collapsed": true
   },
   "outputs": [],
   "source": []
  }
 ],
 "metadata": {
  "kernelspec": {
   "display_name": "Python 3",
   "language": "python",
   "name": "python3"
  },
  "language_info": {
   "codemirror_mode": {
    "name": "ipython",
    "version": 3
   },
   "file_extension": ".py",
   "mimetype": "text/x-python",
   "name": "python",
   "nbconvert_exporter": "python",
   "pygments_lexer": "ipython3",
   "version": "3.6.6"
  }
 },
 "nbformat": 4,
 "nbformat_minor": 2
}
