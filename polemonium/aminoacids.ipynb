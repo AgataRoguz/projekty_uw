{
 "cells": [
  {
   "cell_type": "code",
   "execution_count": 1,
   "metadata": {
    "collapsed": true
   },
   "outputs": [],
   "source": [
    "# import libraries\n",
    "import pandas as pd\n",
    "import re\n",
    "import matplotlib.pyplot as plt\n",
    "import numpy as np\n",
    "import seaborn as sns"
   ]
  },
  {
   "cell_type": "code",
   "execution_count": 2,
   "metadata": {
    "collapsed": true
   },
   "outputs": [],
   "source": [
    "amino = pd.read_csv(\"AA & sugars Polemonium.csv\")"
   ]
  },
  {
   "cell_type": "code",
   "execution_count": 3,
   "metadata": {
    "collapsed": true
   },
   "outputs": [],
   "source": [
    "soil = pd.read_csv(\"soil-Tabela 1.csv\", sep=\";\")"
   ]
  },
  {
   "cell_type": "code",
   "execution_count": 4,
   "metadata": {
    "collapsed": false
   },
   "outputs": [],
   "source": [
    "soil.drop(soil.columns[[3,4]],axis=1, inplace=True)"
   ]
  },
  {
   "cell_type": "code",
   "execution_count": 5,
   "metadata": {
    "collapsed": false
   },
   "outputs": [],
   "source": [
    "biomass = pd.read_csv(\"biomass-Tabela 1.csv\", sep=\";\")"
   ]
  },
  {
   "cell_type": "code",
   "execution_count": 6,
   "metadata": {
    "collapsed": false
   },
   "outputs": [],
   "source": [
    "df3 = pd.merge(soil, biomass, on='Nr próby')"
   ]
  },
  {
   "cell_type": "code",
   "execution_count": 7,
   "metadata": {
    "collapsed": false
   },
   "outputs": [
    {
     "data": {
      "text/html": [
       "<div>\n",
       "<style scoped>\n",
       "    .dataframe tbody tr th:only-of-type {\n",
       "        vertical-align: middle;\n",
       "    }\n",
       "\n",
       "    .dataframe tbody tr th {\n",
       "        vertical-align: top;\n",
       "    }\n",
       "\n",
       "    .dataframe thead th {\n",
       "        text-align: right;\n",
       "    }\n",
       "</style>\n",
       "<table border=\"1\" class=\"dataframe\">\n",
       "  <thead>\n",
       "    <tr style=\"text-align: right;\">\n",
       "      <th></th>\n",
       "      <th>Nr próby</th>\n",
       "      <th>Fe %</th>\n",
       "      <th>Ca %</th>\n",
       "      <th>K %</th>\n",
       "      <th>TN%</th>\n",
       "      <th>TC%</th>\n",
       "      <th>TP%</th>\n",
       "    </tr>\n",
       "  </thead>\n",
       "  <tbody>\n",
       "    <tr>\n",
       "      <th>0</th>\n",
       "      <td>BBR1</td>\n",
       "      <td>1.17</td>\n",
       "      <td>2.21</td>\n",
       "      <td>0.54</td>\n",
       "      <td>2.37</td>\n",
       "      <td>43.02</td>\n",
       "      <td>0.149</td>\n",
       "    </tr>\n",
       "    <tr>\n",
       "      <th>1</th>\n",
       "      <td>BBR2</td>\n",
       "      <td>0.76</td>\n",
       "      <td>2.70</td>\n",
       "      <td>0.89</td>\n",
       "      <td>2.37</td>\n",
       "      <td>43.01</td>\n",
       "      <td>0.140</td>\n",
       "    </tr>\n",
       "    <tr>\n",
       "      <th>2</th>\n",
       "      <td>BIA1</td>\n",
       "      <td>0.82</td>\n",
       "      <td>0.16</td>\n",
       "      <td>0.98</td>\n",
       "      <td>1.93</td>\n",
       "      <td>43.13</td>\n",
       "      <td>0.238</td>\n",
       "    </tr>\n",
       "    <tr>\n",
       "      <th>3</th>\n",
       "      <td>BIA2</td>\n",
       "      <td>0.48</td>\n",
       "      <td>0.04</td>\n",
       "      <td>2.44</td>\n",
       "      <td>1.50</td>\n",
       "      <td>42.77</td>\n",
       "      <td>0.284</td>\n",
       "    </tr>\n",
       "    <tr>\n",
       "      <th>4</th>\n",
       "      <td>BOB1</td>\n",
       "      <td>1.71</td>\n",
       "      <td>0.50</td>\n",
       "      <td>1.26</td>\n",
       "      <td>1.44</td>\n",
       "      <td>42.47</td>\n",
       "      <td>0.156</td>\n",
       "    </tr>\n",
       "  </tbody>\n",
       "</table>\n",
       "</div>"
      ],
      "text/plain": [
       "  Nr próby  Fe %  Ca %   K %   TN%    TC%    TP%\n",
       "0     BBR1  1.17  2.21  0.54  2.37  43.02  0.149\n",
       "1     BBR2  0.76  2.70  0.89  2.37  43.01  0.140\n",
       "2     BIA1  0.82  0.16  0.98  1.93  43.13  0.238\n",
       "3     BIA2  0.48  0.04  2.44  1.50  42.77  0.284\n",
       "4     BOB1  1.71  0.50  1.26  1.44  42.47  0.156"
      ]
     },
     "execution_count": 7,
     "metadata": {},
     "output_type": "execute_result"
    }
   ],
   "source": [
    "df3.head()"
   ]
  },
  {
   "cell_type": "code",
   "execution_count": 8,
   "metadata": {
    "collapsed": false
   },
   "outputs": [],
   "source": [
    "df3['Nr próby'] = df3['Nr próby'].str[:-1]"
   ]
  },
  {
   "cell_type": "code",
   "execution_count": 9,
   "metadata": {
    "collapsed": false
   },
   "outputs": [],
   "source": [
    "df = pd.merge(amino, df3, how='left', left_on='pop', right_on='Nr próby')"
   ]
  },
  {
   "cell_type": "code",
   "execution_count": 10,
   "metadata": {
    "collapsed": false,
    "scrolled": true
   },
   "outputs": [
    {
     "data": {
      "text/html": [
       "<div>\n",
       "<style scoped>\n",
       "    .dataframe tbody tr th:only-of-type {\n",
       "        vertical-align: middle;\n",
       "    }\n",
       "\n",
       "    .dataframe tbody tr th {\n",
       "        vertical-align: top;\n",
       "    }\n",
       "\n",
       "    .dataframe thead th {\n",
       "        text-align: right;\n",
       "    }\n",
       "</style>\n",
       "<table border=\"1\" class=\"dataframe\">\n",
       "  <thead>\n",
       "    <tr style=\"text-align: right;\">\n",
       "      <th></th>\n",
       "      <th>pop</th>\n",
       "      <th>LOC</th>\n",
       "      <th>ln_pop_size_2018</th>\n",
       "      <th>freq_of_visit</th>\n",
       "      <th>seed_prod</th>\n",
       "      <th>phase</th>\n",
       "      <th>fru ug/ul</th>\n",
       "      <th>glu ug/ul</th>\n",
       "      <th>sac ug/ul</th>\n",
       "      <th>AAs sum [pmol/uL]</th>\n",
       "      <th>...</th>\n",
       "      <th>NVA %</th>\n",
       "      <th>TRP %</th>\n",
       "      <th>PHE %</th>\n",
       "      <th>ILE %</th>\n",
       "      <th>ORN %</th>\n",
       "      <th>LEU %</th>\n",
       "      <th>LYS %</th>\n",
       "      <th>HYP %</th>\n",
       "      <th>SAR %</th>\n",
       "      <th>PRO %</th>\n",
       "    </tr>\n",
       "  </thead>\n",
       "  <tbody>\n",
       "    <tr>\n",
       "      <th>0</th>\n",
       "      <td>BIA</td>\n",
       "      <td>NE</td>\n",
       "      <td>4.61</td>\n",
       "      <td>13.4</td>\n",
       "      <td>12.3</td>\n",
       "      <td>M</td>\n",
       "      <td>70.098400</td>\n",
       "      <td>19.66292</td>\n",
       "      <td>63.411520</td>\n",
       "      <td>1751.187429</td>\n",
       "      <td>...</td>\n",
       "      <td>0.79</td>\n",
       "      <td>0.5</td>\n",
       "      <td>5.71</td>\n",
       "      <td>2.00</td>\n",
       "      <td>2.91</td>\n",
       "      <td>1.33</td>\n",
       "      <td>3.74</td>\n",
       "      <td>NaN</td>\n",
       "      <td>1.29</td>\n",
       "      <td>4.60</td>\n",
       "    </tr>\n",
       "    <tr>\n",
       "      <th>1</th>\n",
       "      <td>BIA</td>\n",
       "      <td>NE</td>\n",
       "      <td>4.61</td>\n",
       "      <td>13.4</td>\n",
       "      <td>12.3</td>\n",
       "      <td>F</td>\n",
       "      <td>138.228000</td>\n",
       "      <td>68.32804</td>\n",
       "      <td>1.913312</td>\n",
       "      <td>195.012100</td>\n",
       "      <td>...</td>\n",
       "      <td>NaN</td>\n",
       "      <td>NaN</td>\n",
       "      <td>3.92</td>\n",
       "      <td>2.01</td>\n",
       "      <td>3.63</td>\n",
       "      <td>3.40</td>\n",
       "      <td>10.67</td>\n",
       "      <td>NaN</td>\n",
       "      <td>NaN</td>\n",
       "      <td>NaN</td>\n",
       "    </tr>\n",
       "    <tr>\n",
       "      <th>2</th>\n",
       "      <td>BOB</td>\n",
       "      <td>N</td>\n",
       "      <td>3.69</td>\n",
       "      <td>1.0</td>\n",
       "      <td>12.6</td>\n",
       "      <td>M</td>\n",
       "      <td>33.781800</td>\n",
       "      <td>9.70473</td>\n",
       "      <td>6.147660</td>\n",
       "      <td>469.099865</td>\n",
       "      <td>...</td>\n",
       "      <td>NaN</td>\n",
       "      <td>NaN</td>\n",
       "      <td>2.91</td>\n",
       "      <td>2.29</td>\n",
       "      <td>2.73</td>\n",
       "      <td>1.06</td>\n",
       "      <td>NaN</td>\n",
       "      <td>NaN</td>\n",
       "      <td>5.00</td>\n",
       "      <td>14.34</td>\n",
       "    </tr>\n",
       "    <tr>\n",
       "      <th>3</th>\n",
       "      <td>BOB</td>\n",
       "      <td>N</td>\n",
       "      <td>3.69</td>\n",
       "      <td>1.0</td>\n",
       "      <td>12.6</td>\n",
       "      <td>F</td>\n",
       "      <td>124.218000</td>\n",
       "      <td>49.34385</td>\n",
       "      <td>10.057260</td>\n",
       "      <td>148.956264</td>\n",
       "      <td>...</td>\n",
       "      <td>NaN</td>\n",
       "      <td>NaN</td>\n",
       "      <td>3.50</td>\n",
       "      <td>2.45</td>\n",
       "      <td>NaN</td>\n",
       "      <td>3.40</td>\n",
       "      <td>1.45</td>\n",
       "      <td>NaN</td>\n",
       "      <td>NaN</td>\n",
       "      <td>NaN</td>\n",
       "    </tr>\n",
       "    <tr>\n",
       "      <th>4</th>\n",
       "      <td>CZL</td>\n",
       "      <td>S</td>\n",
       "      <td>6.21</td>\n",
       "      <td>5.4</td>\n",
       "      <td>12.0</td>\n",
       "      <td>M</td>\n",
       "      <td>40.299948</td>\n",
       "      <td>20.44272</td>\n",
       "      <td>88.108992</td>\n",
       "      <td>144.522395</td>\n",
       "      <td>...</td>\n",
       "      <td>NaN</td>\n",
       "      <td>NaN</td>\n",
       "      <td>9.37</td>\n",
       "      <td>2.69</td>\n",
       "      <td>NaN</td>\n",
       "      <td>8.26</td>\n",
       "      <td>NaN</td>\n",
       "      <td>NaN</td>\n",
       "      <td>NaN</td>\n",
       "      <td>2.40</td>\n",
       "    </tr>\n",
       "  </tbody>\n",
       "</table>\n",
       "<p>5 rows × 40 columns</p>\n",
       "</div>"
      ],
      "text/plain": [
       "   pop LOC  ln_pop_size_2018  freq_of_visit  seed_prod phase   fru ug/ul  \\\n",
       "0  BIA  NE              4.61           13.4       12.3     M   70.098400   \n",
       "1  BIA  NE              4.61           13.4       12.3     F  138.228000   \n",
       "2  BOB   N              3.69            1.0       12.6     M   33.781800   \n",
       "3  BOB   N              3.69            1.0       12.6     F  124.218000   \n",
       "4  CZL   S              6.21            5.4       12.0     M   40.299948   \n",
       "\n",
       "   glu ug/ul  sac ug/ul  AAs sum [pmol/uL]  ...    NVA %  TRP %  PHE %  ILE %  \\\n",
       "0   19.66292  63.411520        1751.187429  ...     0.79    0.5   5.71   2.00   \n",
       "1   68.32804   1.913312         195.012100  ...      NaN    NaN   3.92   2.01   \n",
       "2    9.70473   6.147660         469.099865  ...      NaN    NaN   2.91   2.29   \n",
       "3   49.34385  10.057260         148.956264  ...      NaN    NaN   3.50   2.45   \n",
       "4   20.44272  88.108992         144.522395  ...      NaN    NaN   9.37   2.69   \n",
       "\n",
       "   ORN %  LEU %  LYS %  HYP %  SAR %  PRO %  \n",
       "0   2.91   1.33   3.74    NaN   1.29   4.60  \n",
       "1   3.63   3.40  10.67    NaN    NaN    NaN  \n",
       "2   2.73   1.06    NaN    NaN   5.00  14.34  \n",
       "3    NaN   3.40   1.45    NaN    NaN    NaN  \n",
       "4    NaN   8.26    NaN    NaN    NaN   2.40  \n",
       "\n",
       "[5 rows x 40 columns]"
      ]
     },
     "execution_count": 10,
     "metadata": {},
     "output_type": "execute_result"
    }
   ],
   "source": [
    "amino.head()"
   ]
  },
  {
   "cell_type": "code",
   "execution_count": 11,
   "metadata": {
    "collapsed": false
   },
   "outputs": [
    {
     "data": {
      "text/html": [
       "<div>\n",
       "<style scoped>\n",
       "    .dataframe tbody tr th:only-of-type {\n",
       "        vertical-align: middle;\n",
       "    }\n",
       "\n",
       "    .dataframe tbody tr th {\n",
       "        vertical-align: top;\n",
       "    }\n",
       "\n",
       "    .dataframe thead th {\n",
       "        text-align: right;\n",
       "    }\n",
       "</style>\n",
       "<table border=\"1\" class=\"dataframe\">\n",
       "  <thead>\n",
       "    <tr style=\"text-align: right;\">\n",
       "      <th></th>\n",
       "      <th>pop</th>\n",
       "      <th>LOC</th>\n",
       "      <th>ln_pop_size_2018</th>\n",
       "      <th>freq_of_visit</th>\n",
       "      <th>seed_prod</th>\n",
       "      <th>phase</th>\n",
       "      <th>fru ug/ul</th>\n",
       "      <th>glu ug/ul</th>\n",
       "      <th>sac ug/ul</th>\n",
       "      <th>AAs sum [pmol/uL]</th>\n",
       "      <th>...</th>\n",
       "      <th>HYP %</th>\n",
       "      <th>SAR %</th>\n",
       "      <th>PRO %</th>\n",
       "      <th>Nr próby</th>\n",
       "      <th>Fe %</th>\n",
       "      <th>Ca %</th>\n",
       "      <th>K %</th>\n",
       "      <th>TN%</th>\n",
       "      <th>TC%</th>\n",
       "      <th>TP%</th>\n",
       "    </tr>\n",
       "  </thead>\n",
       "  <tbody>\n",
       "    <tr>\n",
       "      <th>0</th>\n",
       "      <td>BIA</td>\n",
       "      <td>NE</td>\n",
       "      <td>4.61</td>\n",
       "      <td>13.4</td>\n",
       "      <td>12.3</td>\n",
       "      <td>M</td>\n",
       "      <td>70.0984</td>\n",
       "      <td>19.66292</td>\n",
       "      <td>63.411520</td>\n",
       "      <td>1751.187429</td>\n",
       "      <td>...</td>\n",
       "      <td>NaN</td>\n",
       "      <td>1.29</td>\n",
       "      <td>4.60</td>\n",
       "      <td>BIA</td>\n",
       "      <td>0.82</td>\n",
       "      <td>0.16</td>\n",
       "      <td>0.98</td>\n",
       "      <td>1.93</td>\n",
       "      <td>43.13</td>\n",
       "      <td>0.238</td>\n",
       "    </tr>\n",
       "    <tr>\n",
       "      <th>1</th>\n",
       "      <td>BIA</td>\n",
       "      <td>NE</td>\n",
       "      <td>4.61</td>\n",
       "      <td>13.4</td>\n",
       "      <td>12.3</td>\n",
       "      <td>M</td>\n",
       "      <td>70.0984</td>\n",
       "      <td>19.66292</td>\n",
       "      <td>63.411520</td>\n",
       "      <td>1751.187429</td>\n",
       "      <td>...</td>\n",
       "      <td>NaN</td>\n",
       "      <td>1.29</td>\n",
       "      <td>4.60</td>\n",
       "      <td>BIA</td>\n",
       "      <td>0.48</td>\n",
       "      <td>0.04</td>\n",
       "      <td>2.44</td>\n",
       "      <td>1.50</td>\n",
       "      <td>42.77</td>\n",
       "      <td>0.284</td>\n",
       "    </tr>\n",
       "    <tr>\n",
       "      <th>2</th>\n",
       "      <td>BIA</td>\n",
       "      <td>NE</td>\n",
       "      <td>4.61</td>\n",
       "      <td>13.4</td>\n",
       "      <td>12.3</td>\n",
       "      <td>F</td>\n",
       "      <td>138.2280</td>\n",
       "      <td>68.32804</td>\n",
       "      <td>1.913312</td>\n",
       "      <td>195.012100</td>\n",
       "      <td>...</td>\n",
       "      <td>NaN</td>\n",
       "      <td>NaN</td>\n",
       "      <td>NaN</td>\n",
       "      <td>BIA</td>\n",
       "      <td>0.82</td>\n",
       "      <td>0.16</td>\n",
       "      <td>0.98</td>\n",
       "      <td>1.93</td>\n",
       "      <td>43.13</td>\n",
       "      <td>0.238</td>\n",
       "    </tr>\n",
       "    <tr>\n",
       "      <th>3</th>\n",
       "      <td>BIA</td>\n",
       "      <td>NE</td>\n",
       "      <td>4.61</td>\n",
       "      <td>13.4</td>\n",
       "      <td>12.3</td>\n",
       "      <td>F</td>\n",
       "      <td>138.2280</td>\n",
       "      <td>68.32804</td>\n",
       "      <td>1.913312</td>\n",
       "      <td>195.012100</td>\n",
       "      <td>...</td>\n",
       "      <td>NaN</td>\n",
       "      <td>NaN</td>\n",
       "      <td>NaN</td>\n",
       "      <td>BIA</td>\n",
       "      <td>0.48</td>\n",
       "      <td>0.04</td>\n",
       "      <td>2.44</td>\n",
       "      <td>1.50</td>\n",
       "      <td>42.77</td>\n",
       "      <td>0.284</td>\n",
       "    </tr>\n",
       "    <tr>\n",
       "      <th>4</th>\n",
       "      <td>BOB</td>\n",
       "      <td>N</td>\n",
       "      <td>3.69</td>\n",
       "      <td>1.0</td>\n",
       "      <td>12.6</td>\n",
       "      <td>M</td>\n",
       "      <td>33.7818</td>\n",
       "      <td>9.70473</td>\n",
       "      <td>6.147660</td>\n",
       "      <td>469.099865</td>\n",
       "      <td>...</td>\n",
       "      <td>NaN</td>\n",
       "      <td>5.00</td>\n",
       "      <td>14.34</td>\n",
       "      <td>BOB</td>\n",
       "      <td>1.71</td>\n",
       "      <td>0.50</td>\n",
       "      <td>1.26</td>\n",
       "      <td>1.44</td>\n",
       "      <td>42.47</td>\n",
       "      <td>0.156</td>\n",
       "    </tr>\n",
       "  </tbody>\n",
       "</table>\n",
       "<p>5 rows × 47 columns</p>\n",
       "</div>"
      ],
      "text/plain": [
       "   pop LOC  ln_pop_size_2018  freq_of_visit  seed_prod phase  fru ug/ul  \\\n",
       "0  BIA  NE              4.61           13.4       12.3     M    70.0984   \n",
       "1  BIA  NE              4.61           13.4       12.3     M    70.0984   \n",
       "2  BIA  NE              4.61           13.4       12.3     F   138.2280   \n",
       "3  BIA  NE              4.61           13.4       12.3     F   138.2280   \n",
       "4  BOB   N              3.69            1.0       12.6     M    33.7818   \n",
       "\n",
       "   glu ug/ul  sac ug/ul  AAs sum [pmol/uL]  ...    HYP %  SAR %  PRO %  \\\n",
       "0   19.66292  63.411520        1751.187429  ...      NaN   1.29   4.60   \n",
       "1   19.66292  63.411520        1751.187429  ...      NaN   1.29   4.60   \n",
       "2   68.32804   1.913312         195.012100  ...      NaN    NaN    NaN   \n",
       "3   68.32804   1.913312         195.012100  ...      NaN    NaN    NaN   \n",
       "4    9.70473   6.147660         469.099865  ...      NaN   5.00  14.34   \n",
       "\n",
       "   Nr próby  Fe %  Ca %   K %   TN%    TC%    TP%  \n",
       "0       BIA  0.82  0.16  0.98  1.93  43.13  0.238  \n",
       "1       BIA  0.48  0.04  2.44  1.50  42.77  0.284  \n",
       "2       BIA  0.82  0.16  0.98  1.93  43.13  0.238  \n",
       "3       BIA  0.48  0.04  2.44  1.50  42.77  0.284  \n",
       "4       BOB  1.71  0.50  1.26  1.44  42.47  0.156  \n",
       "\n",
       "[5 rows x 47 columns]"
      ]
     },
     "execution_count": 11,
     "metadata": {},
     "output_type": "execute_result"
    }
   ],
   "source": [
    "df.head()"
   ]
  },
  {
   "cell_type": "code",
   "execution_count": 12,
   "metadata": {
    "collapsed": false
   },
   "outputs": [],
   "source": [
    "amino.rename(columns = lambda x : str(x).replace(\" %\", \"\"), inplace=True)"
   ]
  },
  {
   "cell_type": "code",
   "execution_count": 13,
   "metadata": {
    "collapsed": false
   },
   "outputs": [
    {
     "name": "stdout",
     "output_type": "stream",
     "text": [
      "<class 'pandas.core.frame.DataFrame'>\n",
      "RangeIndex: 28 entries, 0 to 27\n",
      "Data columns (total 40 columns):\n",
      "pop                  28 non-null object\n",
      "LOC                  28 non-null object\n",
      "ln_pop_size_2018     28 non-null float64\n",
      "freq_of_visit        28 non-null float64\n",
      "seed_prod            28 non-null float64\n",
      "phase                28 non-null object\n",
      "fru ug/ul            28 non-null float64\n",
      "glu ug/ul            28 non-null float64\n",
      "sac ug/ul            28 non-null float64\n",
      "AAs sum [pmol/uL]    28 non-null float64\n",
      "ASP                  28 non-null float64\n",
      "GLU                  28 non-null float64\n",
      "ASN                  26 non-null float64\n",
      "SER                  28 non-null float64\n",
      "GLN                  28 non-null float64\n",
      "HIS                  17 non-null float64\n",
      "GLY                  24 non-null float64\n",
      "THR                  28 non-null float64\n",
      "CIT                  25 non-null float64\n",
      "ARG                  28 non-null float64\n",
      "BALA                 28 non-null float64\n",
      "ALA                  19 non-null float64\n",
      "TAU                  9 non-null float64\n",
      "GABA                 1 non-null float64\n",
      "BABA                 27 non-null float64\n",
      "TYR                  28 non-null float64\n",
      "AABA                 5 non-null float64\n",
      "CYS                  27 non-null float64\n",
      "VAL                  14 non-null float64\n",
      "MET                  14 non-null float64\n",
      "NVA                  7 non-null float64\n",
      "TRP                  3 non-null float64\n",
      "PHE                  28 non-null float64\n",
      "ILE                  27 non-null float64\n",
      "ORN                  20 non-null float64\n",
      "LEU                  20 non-null float64\n",
      "LYS                  19 non-null float64\n",
      "HYP                  0 non-null float64\n",
      "SAR                  3 non-null float64\n",
      "PRO                  6 non-null float64\n",
      "dtypes: float64(37), object(3)\n",
      "memory usage: 8.8+ KB\n"
     ]
    }
   ],
   "source": [
    "amino.info()"
   ]
  },
  {
   "cell_type": "code",
   "execution_count": 14,
   "metadata": {
    "collapsed": false
   },
   "outputs": [],
   "source": [
    "amino.fillna(0, inplace=True)"
   ]
  },
  {
   "cell_type": "code",
   "execution_count": 15,
   "metadata": {
    "collapsed": true
   },
   "outputs": [],
   "source": [
    "col = {'NE':'#228B22', 'N':'#46c4fd', 'S':\"#e5247e\"}\n",
    "amino[\"colors\"] = amino.LOC.apply(lambda x: col[x])"
   ]
  },
  {
   "cell_type": "code",
   "execution_count": 16,
   "metadata": {
    "collapsed": false
   },
   "outputs": [
    {
     "name": "stderr",
     "output_type": "stream",
     "text": [
      "/home/kodolamacz/anaconda3/lib/python3.6/site-packages/numpy/core/fromnumeric.py:51: FutureWarning: 'argmax' is deprecated, use 'idxmax' instead. The behavior of 'argmax'\n",
      "will be corrected to return the positional maximum in the future.\n",
      "Use 'series.values.argmax' to get the position of the maximum now.\n",
      "  return getattr(obj, method)(*args, **kwds)\n"
     ]
    },
    {
     "data": {
      "image/png": "[encoded data removed]",
      "text/plain": [
       "<matplotlib.figure.Figure at 0x7fa63b142cf8>"
      ]
     },
     "metadata": {},
     "output_type": "display_data"
    }
   ],
   "source": [
    "labels =[]\n",
    "sns.set_style(\"white\")\n",
    "for key, value in col.items():\n",
    "    labels.append(key)\n",
    "    plt.scatter(x = amino.freq_of_visit[amino.LOC == key], y = amino.seed_prod[amino.LOC == key],\n",
    "            s = np.array(amino.ln_pop_size_2018[amino.LOC == key])*100, \n",
    "            c = amino.colors[amino.LOC == key], alpha=0.7, edgecolors='black')\n",
    "\n",
    "#plt.yscale('log')\n",
    "#plt.xscale('log') \n",
    "plt.xlabel('Freq of visit')\n",
    "plt.ylabel('Seed production')\n",
    "plt.title('Freq of visit vs seed production', fontsize=18)\n",
    "\n",
    "#Annotate max values\n",
    "plt.text(amino.freq_of_visit[np.argmax(amino.seed_prod)]+0.5, amino.seed_prod.max(), amino[\"pop\"].loc[np.argmax(amino.seed_prod)])\n",
    "plt.text(amino.freq_of_visit.max(), amino.seed_prod[amino.freq_of_visit == amino.freq_of_visit.max()][0]+0.5,\n",
    "         amino[\"pop\"].loc[amino.freq_of_visit == amino.freq_of_visit.max()][0])\n",
    "\n",
    "lgnd = plt.legend(labels, title='Color by localization')\n",
    "for i in range(len(col)):\n",
    "    lgnd.legendHandles[i]._sizes = [60]\n",
    "\n",
    "plt.text(10.35,15, \"Size by ln pop size\")\n",
    "#plt.scatter(110, 51, s=100, c = 'white', edgecolors='k')\n",
    "#plt.text(140, 49.8,  r'$0.1 \\mu g$')\n",
    "\n",
    "# Show the plot\n",
    "plt.show()"
   ]
  },
  {
   "cell_type": "code",
   "execution_count": 17,
   "metadata": {
    "collapsed": false
   },
   "outputs": [
    {
     "name": "stdout",
     "output_type": "stream",
     "text": [
      "<class 'pandas.core.frame.DataFrame'>\n",
      "RangeIndex: 1036 entries, 0 to 1035\n",
      "Data columns (total 3 columns):\n",
      "LOC         1036 non-null object\n",
      "variable    1036 non-null object\n",
      "value       1036 non-null object\n",
      "dtypes: object(3)\n",
      "memory usage: 24.4+ KB\n"
     ]
    }
   ],
   "source": [
    "#Exploratory analysis of aminoacids in nectar by pollinator\n",
    "df2 = amino.drop([\"fru ug/ul\", \"glu ug/ul\", \"sac ug/ul\"], axis=1)\n",
    "#reshaping df\n",
    "df2 = pd.melt(df2, id_vars=['LOC'])\n",
    "df2.info()"
   ]
  },
  {
   "cell_type": "code",
   "execution_count": 18,
   "metadata": {
    "collapsed": false
   },
   "outputs": [
    {
     "data": {
      "text/plain": [
       "array(['pop', 'ln_pop_size_2018', 'freq_of_visit', 'seed_prod', 'phase',\n",
       "       'AAs sum [pmol/uL]', 'ASP', 'GLU', 'ASN', 'SER', 'GLN', 'HIS',\n",
       "       'GLY', 'THR', 'CIT', 'ARG', 'BALA', 'ALA', 'TAU', 'GABA', 'BABA',\n",
       "       'TYR', 'AABA', 'CYS', 'VAL', 'MET', 'NVA', 'TRP', 'PHE', 'ILE',\n",
       "       'ORN', 'LEU', 'LYS', 'HYP', 'SAR', 'PRO', 'colors'], dtype=object)"
      ]
     },
     "execution_count": 18,
     "metadata": {},
     "output_type": "execute_result"
    }
   ],
   "source": [
    "df2.variable.unique()"
   ]
  },
  {
   "cell_type": "code",
   "execution_count": 19,
   "metadata": {
    "collapsed": true
   },
   "outputs": [],
   "source": [
    "aminokwasy = df2[df2[\"variable\"].isin(['ASP', 'GLU', 'ASN', 'SER', 'GLN', 'HIS',\n",
    "       'GLY', 'THR', 'CIT', 'ARG', 'BALA', 'ALA', 'TAU', 'GABA', 'BABA',\n",
    "       'TYR', 'AABA', 'CYS', 'VAL', 'MET', 'NVA', 'TRP', 'PHE', 'ILE',\n",
    "       'ORN', 'LEU', 'LYS', 'HYP', 'SAR', 'PRO'])]"
   ]
  },
  {
   "cell_type": "code",
   "execution_count": 20,
   "metadata": {
    "collapsed": false
   },
   "outputs": [
    {
     "name": "stderr",
     "output_type": "stream",
     "text": [
      "/home/kodolamacz/anaconda3/lib/python3.6/site-packages/ipykernel/__main__.py:1: SettingWithCopyWarning: \n",
      "A value is trying to be set on a copy of a slice from a DataFrame.\n",
      "Try using .loc[row_indexer,col_indexer] = value instead\n",
      "\n",
      "See the caveats in the documentation: http://pandas.pydata.org/pandas-docs/stable/indexing.html#indexing-view-versus-copy\n",
      "  if __name__ == '__main__':\n"
     ]
    }
   ],
   "source": [
    "aminokwasy['value'] = aminokwasy.value.astype(\"float\")"
   ]
  },
  {
   "cell_type": "code",
   "execution_count": 21,
   "metadata": {
    "collapsed": false
   },
   "outputs": [
    {
     "name": "stderr",
     "output_type": "stream",
     "text": [
      "/home/kodolamacz/anaconda3/lib/python3.6/site-packages/seaborn/categorical.py:482: FutureWarning: remove_na is deprecated and is a private function. Do not use.\n",
      "  box_data = remove_na(group_data[hue_mask])\n"
     ]
    },
    {
     "data": {
      "image/png": "[encoded data removed]",
      "text/plain": [
       "<matplotlib.figure.Figure at 0x7fa63b142400>"
      ]
     },
     "metadata": {},
     "output_type": "display_data"
    }
   ],
   "source": [
    "#boxplots grouped by pollinator\n",
    "plt.figure(figsize=(15,8))\n",
    "sns.set_style(\"white\")\n",
    "ax = sns.boxplot(x=\"variable\", y=\"value\", hue=\"LOC\", data=aminokwasy, linewidth=1, width=0.9,\n",
    "                 palette=[\"#228B22\", \"#e5247e\", \"#ffe732\", \"#00447C\",\"#991188\"])\n",
    "plt.xlabel(\"Aminoacid\")\n",
    "plt.ylabel(\"Value\")\n",
    "plt.legend(title=\"Loc\")\n",
    "plt.title(\"Essential AAs by pollinator\", fontsize=20)\n",
    "#ax.set_facecolor('white')\n",
    "ax.yaxis.label.set_color('k')\n",
    "ax.xaxis.label.set_color('k')\n",
    "#ax.set_ylim(0,3000)\n",
    "plt.show()"
   ]
  },
  {
   "cell_type": "code",
   "execution_count": 22,
   "metadata": {
    "collapsed": false
   },
   "outputs": [],
   "source": [
    "#selecting essential aa's except GLN\n",
    "essential = df2[df2[\"variable\"].isin([\"ASP\", \"GLU\", \"SER\", \"PRO\", \"GLY\",\"GLN\", \"ALA\",\"VAL\"])]"
   ]
  },
  {
   "cell_type": "code",
   "execution_count": 23,
   "metadata": {
    "collapsed": false
   },
   "outputs": [
    {
     "name": "stdout",
     "output_type": "stream",
     "text": [
      "<class 'pandas.core.frame.DataFrame'>\n",
      "Int64Index: 224 entries, 168 to 1007\n",
      "Data columns (total 3 columns):\n",
      "LOC         224 non-null object\n",
      "variable    224 non-null object\n",
      "value       224 non-null object\n",
      "dtypes: object(3)\n",
      "memory usage: 7.0+ KB\n"
     ]
    }
   ],
   "source": [
    "essential.info()\n"
   ]
  },
  {
   "cell_type": "code",
   "execution_count": 24,
   "metadata": {
    "collapsed": false
   },
   "outputs": [
    {
     "name": "stderr",
     "output_type": "stream",
     "text": [
      "/home/kodolamacz/anaconda3/lib/python3.6/site-packages/ipykernel/__main__.py:1: SettingWithCopyWarning: \n",
      "A value is trying to be set on a copy of a slice from a DataFrame.\n",
      "Try using .loc[row_indexer,col_indexer] = value instead\n",
      "\n",
      "See the caveats in the documentation: http://pandas.pydata.org/pandas-docs/stable/indexing.html#indexing-view-versus-copy\n",
      "  if __name__ == '__main__':\n"
     ]
    }
   ],
   "source": [
    "essential['value'] = essential.value.astype(\"float\")"
   ]
  },
  {
   "cell_type": "code",
   "execution_count": 25,
   "metadata": {
    "collapsed": false
   },
   "outputs": [
    {
     "name": "stdout",
     "output_type": "stream",
     "text": [
      "<class 'pandas.core.frame.DataFrame'>\n",
      "Int64Index: 224 entries, 168 to 1007\n",
      "Data columns (total 3 columns):\n",
      "LOC         224 non-null object\n",
      "variable    224 non-null object\n",
      "value       224 non-null float64\n",
      "dtypes: float64(1), object(2)\n",
      "memory usage: 7.0+ KB\n"
     ]
    }
   ],
   "source": [
    "essential.info()"
   ]
  },
  {
   "cell_type": "code",
   "execution_count": 26,
   "metadata": {
    "collapsed": false
   },
   "outputs": [
    {
     "name": "stderr",
     "output_type": "stream",
     "text": [
      "/home/kodolamacz/anaconda3/lib/python3.6/site-packages/seaborn/categorical.py:482: FutureWarning: remove_na is deprecated and is a private function. Do not use.\n",
      "  box_data = remove_na(group_data[hue_mask])\n"
     ]
    },
    {
     "data": {
      "image/png": "[encoded data removed]",
      "text/plain": [
       "<matplotlib.figure.Figure at 0x7fa63b142ac8>"
      ]
     },
     "metadata": {},
     "output_type": "display_data"
    }
   ],
   "source": [
    "#boxplots grouped by pollinator\n",
    "plt.figure(figsize=(15,8))\n",
    "sns.set_style(\"white\")\n",
    "ax = sns.boxplot(x=\"variable\", y=\"value\", hue=\"LOC\", data=essential, linewidth=1, width=0.9,\n",
    "                 palette=[\"#228B22\", \"#e5247e\", \"#ffe732\", \"#00447C\",\"#991188\"])\n",
    "plt.xlabel(\"Aminoacid\")\n",
    "plt.ylabel(\"Value\")\n",
    "plt.legend(title=\"Localization\")\n",
    "plt.title(\"Essential AAs by localization\", fontsize=20)\n",
    "#ax.set_facecolor('white')\n",
    "ax.yaxis.label.set_color('k')\n",
    "ax.xaxis.label.set_color('k')\n",
    "#ax.set_ylim(0,3000)\n",
    "plt.show()"
   ]
  },
  {
   "cell_type": "code",
   "execution_count": 27,
   "metadata": {
    "collapsed": false,
    "scrolled": true
   },
   "outputs": [
    {
     "name": "stdout",
     "output_type": "stream",
     "text": [
      "<class 'pandas.core.frame.DataFrame'>\n",
      "RangeIndex: 28 entries, 0 to 27\n",
      "Data columns (total 41 columns):\n",
      "pop                  28 non-null object\n",
      "LOC                  28 non-null object\n",
      "ln_pop_size_2018     28 non-null float64\n",
      "freq_of_visit        28 non-null float64\n",
      "seed_prod            28 non-null float64\n",
      "phase                28 non-null object\n",
      "fru ug/ul            28 non-null float64\n",
      "glu ug/ul            28 non-null float64\n",
      "sac ug/ul            28 non-null float64\n",
      "AAs sum [pmol/uL]    28 non-null float64\n",
      "ASP                  28 non-null float64\n",
      "GLU                  28 non-null float64\n",
      "ASN                  28 non-null float64\n",
      "SER                  28 non-null float64\n",
      "GLN                  28 non-null float64\n",
      "HIS                  28 non-null float64\n",
      "GLY                  28 non-null float64\n",
      "THR                  28 non-null float64\n",
      "CIT                  28 non-null float64\n",
      "ARG                  28 non-null float64\n",
      "BALA                 28 non-null float64\n",
      "ALA                  28 non-null float64\n",
      "TAU                  28 non-null float64\n",
      "GABA                 28 non-null float64\n",
      "BABA                 28 non-null float64\n",
      "TYR                  28 non-null float64\n",
      "AABA                 28 non-null float64\n",
      "CYS                  28 non-null float64\n",
      "VAL                  28 non-null float64\n",
      "MET                  28 non-null float64\n",
      "NVA                  28 non-null float64\n",
      "TRP                  28 non-null float64\n",
      "PHE                  28 non-null float64\n",
      "ILE                  28 non-null float64\n",
      "ORN                  28 non-null float64\n",
      "LEU                  28 non-null float64\n",
      "LYS                  28 non-null float64\n",
      "HYP                  28 non-null float64\n",
      "SAR                  28 non-null float64\n",
      "PRO                  28 non-null float64\n",
      "colors               28 non-null object\n",
      "dtypes: float64(37), object(4)\n",
      "memory usage: 9.0+ KB\n"
     ]
    }
   ],
   "source": [
    "amino.info()"
   ]
  },
  {
   "cell_type": "code",
   "execution_count": 28,
   "metadata": {
    "collapsed": true
   },
   "outputs": [],
   "source": [
    "names =list(amino)[10:40]"
   ]
  },
  {
   "cell_type": "code",
   "execution_count": 29,
   "metadata": {
    "collapsed": false
   },
   "outputs": [
    {
     "data": {
      "text/plain": [
       "['ASP',\n",
       " 'GLU',\n",
       " 'ASN',\n",
       " 'SER',\n",
       " 'GLN',\n",
       " 'HIS',\n",
       " 'GLY',\n",
       " 'THR',\n",
       " 'CIT',\n",
       " 'ARG',\n",
       " 'BALA',\n",
       " 'ALA',\n",
       " 'TAU',\n",
       " 'GABA',\n",
       " 'BABA',\n",
       " 'TYR',\n",
       " 'AABA',\n",
       " 'CYS',\n",
       " 'VAL',\n",
       " 'MET',\n",
       " 'NVA',\n",
       " 'TRP',\n",
       " 'PHE',\n",
       " 'ILE',\n",
       " 'ORN',\n",
       " 'LEU',\n",
       " 'LYS',\n",
       " 'HYP',\n",
       " 'SAR',\n",
       " 'PRO']"
      ]
     },
     "execution_count": 29,
     "metadata": {},
     "output_type": "execute_result"
    }
   ],
   "source": [
    "names"
   ]
  },
  {
   "cell_type": "code",
   "execution_count": 30,
   "metadata": {
    "collapsed": false
   },
   "outputs": [
    {
     "name": "stderr",
     "output_type": "stream",
     "text": [
      "/home/kodolamacz/anaconda3/lib/python3.6/site-packages/sklearn/utils/validation.py:429: DataConversionWarning: Data with input dtype object was converted to float64 by StandardScaler.\n",
      "  warnings.warn(msg, _DataConversionWarning)\n",
      "/home/kodolamacz/anaconda3/lib/python3.6/site-packages/sklearn/utils/validation.py:429: DataConversionWarning: Data with input dtype object was converted to float64 by StandardScaler.\n",
      "  warnings.warn(msg, _DataConversionWarning)\n"
     ]
    }
   ],
   "source": [
    "\n",
    "# Feature Extraction with Univariate Statistical Tests (Chi-squared for classification)\n",
    "import pandas\n",
    "import numpy\n",
    "from sklearn.feature_selection import SelectKBest\n",
    "from sklearn.feature_selection import chi2\n",
    "from sklearn import preprocessing\n",
    "from sklearn.preprocessing import StandardScaler\n",
    "# load data\n",
    "# url = \"https://raw.githubusercontent.com/jbrownlee/Datasets/master/pima-indians-diabetes.data.csv\"\n",
    "# names = ['preg', 'plas', 'pres', 'skin', 'test', 'mass', 'pedi', 'age', 'class']\n",
    "# dataframe = pandas.read_csv(url, names=names)\n",
    "array = amino.values\n",
    "X = array[:,10:40]\n",
    "Y = array[:,4]\n",
    "X = StandardScaler().fit_transform(X)\n",
    "lab_enc = preprocessing.LabelEncoder()\n",
    "Y = lab_enc.fit_transform(Y)\n",
    "\n",
    "# feature extraction\n",
    "# test = SelectKBest(score_func=chi2, k=4)\n",
    "# fit = test.fit(X, Y)\n",
    "# # summarize scores\n",
    "# numpy.set_printoptions(precision=3)\n",
    "# print(fit.scores_)\n",
    "# features = fit.transform(X)\n",
    "# # summarize selected features\n",
    "# print(features[0:5,:])"
   ]
  },
  {
   "cell_type": "code",
   "execution_count": 31,
   "metadata": {
    "collapsed": false
   },
   "outputs": [],
   "source": [
    "# sns.pairplot(amino.iloc[:,10:40])\n",
    "# plt.show()"
   ]
  },
  {
   "cell_type": "code",
   "execution_count": 32,
   "metadata": {
    "collapsed": false,
    "scrolled": true
   },
   "outputs": [
    {
     "name": "stdout",
     "output_type": "stream",
     "text": [
      "Num Features: 3\n",
      "Selected Features: [False  True False False False False False False False False False False\n",
      " False False False False False False False False False False  True False\n",
      "  True False False False False False]\n",
      "Feature Ranking: [23  1 16 26 11 17 25 22  2 18 21 10  7 13 20 24 27 15  6 14  3  5  1 19\n",
      "  1  4  9 28 12  8]\n"
     ]
    }
   ],
   "source": [
    "import numpy as np\n",
    "\n",
    "np.random.seed(10)\n",
    "# Feature Extraction with RFE\n",
    "from pandas import read_csv\n",
    "from sklearn.feature_selection import RFE\n",
    "from sklearn.linear_model import LogisticRegression\n",
    "from sklearn.tree import DecisionTreeClassifier\n",
    "# load data\n",
    "# feature extraction\n",
    "model = LogisticRegression()\n",
    "rfe = RFE(model, 3)\n",
    "fit = rfe.fit(X, Y)\n",
    "print(\"Num Features: %d\" % fit.n_features_)\n",
    "print(\"Selected Features: %s\" % fit.support_)\n",
    "print(\"Feature Ranking: %s\" % fit.ranking_)"
   ]
  },
  {
   "cell_type": "code",
   "execution_count": 33,
   "metadata": {
    "collapsed": false
   },
   "outputs": [
    {
     "data": {
      "text/plain": [
       "array([ 1, 22, 24])"
      ]
     },
     "execution_count": 33,
     "metadata": {},
     "output_type": "execute_result"
    }
   ],
   "source": [
    "np.where(fit.support_)[0]"
   ]
  },
  {
   "cell_type": "code",
   "execution_count": 34,
   "metadata": {
    "collapsed": false
   },
   "outputs": [
    {
     "data": {
      "text/plain": [
       "['GLU', 'PHE', 'ORN']"
      ]
     },
     "execution_count": 34,
     "metadata": {},
     "output_type": "execute_result"
    }
   ],
   "source": [
    "list(names[i] for i in np.where(fit.support_)[0])"
   ]
  },
  {
   "cell_type": "code",
   "execution_count": 35,
   "metadata": {
    "collapsed": false
   },
   "outputs": [
    {
     "name": "stdout",
     "output_type": "stream",
     "text": [
      "[0.         0.14837963 0.07583333 0.03888889 0.         0.\n",
      " 0.         0.         0.07453704 0.08287037 0.         0.\n",
      " 0.         0.         0.05833333 0.07734568 0.         0.\n",
      " 0.07742424 0.         0.15371914 0.07685185 0.         0.\n",
      " 0.         0.07748316 0.05833333 0.         0.         0.        ]\n"
     ]
    },
    {
     "name": "stderr",
     "output_type": "stream",
     "text": [
      "/home/kodolamacz/anaconda3/lib/python3.6/site-packages/sklearn/ensemble/weight_boosting.py:29: DeprecationWarning: numpy.core.umath_tests is an internal NumPy module and should not be imported. It will be removed in a future NumPy release.\n",
      "  from numpy.core.umath_tests import inner1d\n"
     ]
    }
   ],
   "source": [
    "# Feature Importance with Extra Trees Classifier\n",
    "np.random.seed(10)\n",
    "from pandas import read_csv\n",
    "from sklearn.ensemble import ExtraTreesClassifier, RandomForestClassifier, AdaBoostClassifier, BaggingClassifier\n",
    "# load data\n",
    "# feature extraction\n",
    "model = DecisionTreeClassifier()\n",
    "model.fit(X, Y)\n",
    "print(model.feature_importances_)"
   ]
  },
  {
   "cell_type": "code",
   "execution_count": 36,
   "metadata": {
    "collapsed": true
   },
   "outputs": [],
   "source": [
    "v = model.feature_importances_"
   ]
  },
  {
   "cell_type": "code",
   "execution_count": 37,
   "metadata": {
    "collapsed": false
   },
   "outputs": [
    {
     "data": {
      "text/plain": [
       "[(0.15371913580246901, 'NVA'),\n",
       " (0.14837962962962964, 'GLU'),\n",
       " (0.08287037037037046, 'ARG')]"
      ]
     },
     "execution_count": 37,
     "metadata": {},
     "output_type": "execute_result"
    }
   ],
   "source": [
    "sorted(zip(v, names), reverse=True)[:3]"
   ]
  },
  {
   "cell_type": "code",
   "execution_count": 38,
   "metadata": {
    "collapsed": true
   },
   "outputs": [],
   "source": [
    "import statsmodels.api as sm\n",
    "import statsmodels.formula.api as smf"
   ]
  },
  {
   "cell_type": "code",
   "execution_count": 39,
   "metadata": {
    "collapsed": true
   },
   "outputs": [],
   "source": [
    "df.columns = df.columns.str.replace(' ', '_')"
   ]
  },
  {
   "cell_type": "code",
   "execution_count": 40,
   "metadata": {
    "collapsed": true
   },
   "outputs": [],
   "source": [
    "df.columns = df.columns.str.replace('_%', '')"
   ]
  },
  {
   "cell_type": "code",
   "execution_count": 41,
   "metadata": {
    "collapsed": true
   },
   "outputs": [],
   "source": [
    "df.columns = df.columns.str.replace('/', '')"
   ]
  },
  {
   "cell_type": "code",
   "execution_count": 67,
   "metadata": {
    "collapsed": true
   },
   "outputs": [],
   "source": [
    "df.columns = df.columns.str.replace('%', '')"
   ]
  },
  {
   "cell_type": "code",
   "execution_count": 68,
   "metadata": {
    "collapsed": false
   },
   "outputs": [
    {
     "data": {
      "text/html": [
       "<div>\n",
       "<style scoped>\n",
       "    .dataframe tbody tr th:only-of-type {\n",
       "        vertical-align: middle;\n",
       "    }\n",
       "\n",
       "    .dataframe tbody tr th {\n",
       "        vertical-align: top;\n",
       "    }\n",
       "\n",
       "    .dataframe thead th {\n",
       "        text-align: right;\n",
       "    }\n",
       "</style>\n",
       "<table border=\"1\" class=\"dataframe\">\n",
       "  <thead>\n",
       "    <tr style=\"text-align: right;\">\n",
       "      <th></th>\n",
       "      <th>pop</th>\n",
       "      <th>LOC</th>\n",
       "      <th>ln_pop_size_2018</th>\n",
       "      <th>freq_of_visit</th>\n",
       "      <th>seed_prod</th>\n",
       "      <th>phase</th>\n",
       "      <th>fru_ugul</th>\n",
       "      <th>glu_ugul</th>\n",
       "      <th>sac_ugul</th>\n",
       "      <th>AAs_sum_[pmoluL]</th>\n",
       "      <th>...</th>\n",
       "      <th>HYP</th>\n",
       "      <th>SAR</th>\n",
       "      <th>PRO</th>\n",
       "      <th>Nr_próby</th>\n",
       "      <th>Fe</th>\n",
       "      <th>Ca</th>\n",
       "      <th>K</th>\n",
       "      <th>TN</th>\n",
       "      <th>TC</th>\n",
       "      <th>TP</th>\n",
       "    </tr>\n",
       "  </thead>\n",
       "  <tbody>\n",
       "    <tr>\n",
       "      <th>0</th>\n",
       "      <td>BIA</td>\n",
       "      <td>NE</td>\n",
       "      <td>4.61</td>\n",
       "      <td>13.4</td>\n",
       "      <td>12.3</td>\n",
       "      <td>M</td>\n",
       "      <td>70.0984</td>\n",
       "      <td>19.66292</td>\n",
       "      <td>63.411520</td>\n",
       "      <td>1751.187429</td>\n",
       "      <td>...</td>\n",
       "      <td>0.0</td>\n",
       "      <td>1.29</td>\n",
       "      <td>4.60</td>\n",
       "      <td>BIA</td>\n",
       "      <td>0.82</td>\n",
       "      <td>0.16</td>\n",
       "      <td>0.98</td>\n",
       "      <td>1.93</td>\n",
       "      <td>43.13</td>\n",
       "      <td>0.238</td>\n",
       "    </tr>\n",
       "    <tr>\n",
       "      <th>1</th>\n",
       "      <td>BIA</td>\n",
       "      <td>NE</td>\n",
       "      <td>4.61</td>\n",
       "      <td>13.4</td>\n",
       "      <td>12.3</td>\n",
       "      <td>M</td>\n",
       "      <td>70.0984</td>\n",
       "      <td>19.66292</td>\n",
       "      <td>63.411520</td>\n",
       "      <td>1751.187429</td>\n",
       "      <td>...</td>\n",
       "      <td>0.0</td>\n",
       "      <td>1.29</td>\n",
       "      <td>4.60</td>\n",
       "      <td>BIA</td>\n",
       "      <td>0.48</td>\n",
       "      <td>0.04</td>\n",
       "      <td>2.44</td>\n",
       "      <td>1.50</td>\n",
       "      <td>42.77</td>\n",
       "      <td>0.284</td>\n",
       "    </tr>\n",
       "    <tr>\n",
       "      <th>2</th>\n",
       "      <td>BIA</td>\n",
       "      <td>NE</td>\n",
       "      <td>4.61</td>\n",
       "      <td>13.4</td>\n",
       "      <td>12.3</td>\n",
       "      <td>F</td>\n",
       "      <td>138.2280</td>\n",
       "      <td>68.32804</td>\n",
       "      <td>1.913312</td>\n",
       "      <td>195.012100</td>\n",
       "      <td>...</td>\n",
       "      <td>0.0</td>\n",
       "      <td>0.00</td>\n",
       "      <td>0.00</td>\n",
       "      <td>BIA</td>\n",
       "      <td>0.82</td>\n",
       "      <td>0.16</td>\n",
       "      <td>0.98</td>\n",
       "      <td>1.93</td>\n",
       "      <td>43.13</td>\n",
       "      <td>0.238</td>\n",
       "    </tr>\n",
       "    <tr>\n",
       "      <th>3</th>\n",
       "      <td>BIA</td>\n",
       "      <td>NE</td>\n",
       "      <td>4.61</td>\n",
       "      <td>13.4</td>\n",
       "      <td>12.3</td>\n",
       "      <td>F</td>\n",
       "      <td>138.2280</td>\n",
       "      <td>68.32804</td>\n",
       "      <td>1.913312</td>\n",
       "      <td>195.012100</td>\n",
       "      <td>...</td>\n",
       "      <td>0.0</td>\n",
       "      <td>0.00</td>\n",
       "      <td>0.00</td>\n",
       "      <td>BIA</td>\n",
       "      <td>0.48</td>\n",
       "      <td>0.04</td>\n",
       "      <td>2.44</td>\n",
       "      <td>1.50</td>\n",
       "      <td>42.77</td>\n",
       "      <td>0.284</td>\n",
       "    </tr>\n",
       "    <tr>\n",
       "      <th>4</th>\n",
       "      <td>BOB</td>\n",
       "      <td>N</td>\n",
       "      <td>3.69</td>\n",
       "      <td>1.0</td>\n",
       "      <td>12.6</td>\n",
       "      <td>M</td>\n",
       "      <td>33.7818</td>\n",
       "      <td>9.70473</td>\n",
       "      <td>6.147660</td>\n",
       "      <td>469.099865</td>\n",
       "      <td>...</td>\n",
       "      <td>0.0</td>\n",
       "      <td>5.00</td>\n",
       "      <td>14.34</td>\n",
       "      <td>BOB</td>\n",
       "      <td>1.71</td>\n",
       "      <td>0.50</td>\n",
       "      <td>1.26</td>\n",
       "      <td>1.44</td>\n",
       "      <td>42.47</td>\n",
       "      <td>0.156</td>\n",
       "    </tr>\n",
       "  </tbody>\n",
       "</table>\n",
       "<p>5 rows × 47 columns</p>\n",
       "</div>"
      ],
      "text/plain": [
       "   pop LOC  ln_pop_size_2018  freq_of_visit  seed_prod phase  fru_ugul  \\\n",
       "0  BIA  NE              4.61           13.4       12.3     M   70.0984   \n",
       "1  BIA  NE              4.61           13.4       12.3     M   70.0984   \n",
       "2  BIA  NE              4.61           13.4       12.3     F  138.2280   \n",
       "3  BIA  NE              4.61           13.4       12.3     F  138.2280   \n",
       "4  BOB   N              3.69            1.0       12.6     M   33.7818   \n",
       "\n",
       "   glu_ugul   sac_ugul  AAs_sum_[pmoluL]  ...    HYP   SAR    PRO  Nr_próby  \\\n",
       "0  19.66292  63.411520       1751.187429  ...    0.0  1.29   4.60       BIA   \n",
       "1  19.66292  63.411520       1751.187429  ...    0.0  1.29   4.60       BIA   \n",
       "2  68.32804   1.913312        195.012100  ...    0.0  0.00   0.00       BIA   \n",
       "3  68.32804   1.913312        195.012100  ...    0.0  0.00   0.00       BIA   \n",
       "4   9.70473   6.147660        469.099865  ...    0.0  5.00  14.34       BOB   \n",
       "\n",
       "     Fe    Ca     K    TN     TC     TP  \n",
       "0  0.82  0.16  0.98  1.93  43.13  0.238  \n",
       "1  0.48  0.04  2.44  1.50  42.77  0.284  \n",
       "2  0.82  0.16  0.98  1.93  43.13  0.238  \n",
       "3  0.48  0.04  2.44  1.50  42.77  0.284  \n",
       "4  1.71  0.50  1.26  1.44  42.47  0.156  \n",
       "\n",
       "[5 rows x 47 columns]"
      ]
     },
     "execution_count": 68,
     "metadata": {},
     "output_type": "execute_result"
    }
   ],
   "source": [
    "df.head()"
   ]
  },
  {
   "cell_type": "code",
   "execution_count": 43,
   "metadata": {
    "collapsed": true
   },
   "outputs": [],
   "source": [
    "df.fillna(0, inplace=True)"
   ]
  },
  {
   "cell_type": "code",
   "execution_count": 80,
   "metadata": {
    "collapsed": false
   },
   "outputs": [],
   "source": [
    "df1 = df[[\"pop\", \"ln_pop_size_2018\", \"fru_ugul\", \"glu_ugul\",\"sac_ugul\", \"AAs_sum_[pmoluL]\",\n",
    "          \"GLN\", \"GLU\", \"SER\", \"PHE\", \"ALA\", \"Fe\", \"K\", \"Ca\", \"TN\",\"TC\",\"TP\"]]\n"
   ]
  },
  {
   "cell_type": "code",
   "execution_count": 81,
   "metadata": {
    "collapsed": false,
    "scrolled": true
   },
   "outputs": [
    {
     "data": {
      "text/html": [
       "<div>\n",
       "<style scoped>\n",
       "    .dataframe tbody tr th:only-of-type {\n",
       "        vertical-align: middle;\n",
       "    }\n",
       "\n",
       "    .dataframe tbody tr th {\n",
       "        vertical-align: top;\n",
       "    }\n",
       "\n",
       "    .dataframe thead th {\n",
       "        text-align: right;\n",
       "    }\n",
       "</style>\n",
       "<table border=\"1\" class=\"dataframe\">\n",
       "  <thead>\n",
       "    <tr style=\"text-align: right;\">\n",
       "      <th></th>\n",
       "      <th>pop</th>\n",
       "      <th>ln_pop_size_2018</th>\n",
       "      <th>fru_ugul</th>\n",
       "      <th>glu_ugul</th>\n",
       "      <th>sac_ugul</th>\n",
       "      <th>AAs_sum_[pmoluL]</th>\n",
       "      <th>GLN</th>\n",
       "      <th>GLU</th>\n",
       "      <th>SER</th>\n",
       "      <th>PHE</th>\n",
       "      <th>ALA</th>\n",
       "      <th>Fe</th>\n",
       "      <th>K</th>\n",
       "      <th>Ca</th>\n",
       "      <th>TN</th>\n",
       "      <th>TC</th>\n",
       "      <th>TP</th>\n",
       "    </tr>\n",
       "  </thead>\n",
       "  <tbody>\n",
       "    <tr>\n",
       "      <th>0</th>\n",
       "      <td>BIA</td>\n",
       "      <td>4.61</td>\n",
       "      <td>70.0984</td>\n",
       "      <td>19.66292</td>\n",
       "      <td>63.411520</td>\n",
       "      <td>1751.187429</td>\n",
       "      <td>16.32</td>\n",
       "      <td>22.75</td>\n",
       "      <td>5.35</td>\n",
       "      <td>5.71</td>\n",
       "      <td>0.0</td>\n",
       "      <td>0.82</td>\n",
       "      <td>0.98</td>\n",
       "      <td>0.16</td>\n",
       "      <td>1.93</td>\n",
       "      <td>43.13</td>\n",
       "      <td>0.238</td>\n",
       "    </tr>\n",
       "    <tr>\n",
       "      <th>1</th>\n",
       "      <td>BIA</td>\n",
       "      <td>4.61</td>\n",
       "      <td>70.0984</td>\n",
       "      <td>19.66292</td>\n",
       "      <td>63.411520</td>\n",
       "      <td>1751.187429</td>\n",
       "      <td>16.32</td>\n",
       "      <td>22.75</td>\n",
       "      <td>5.35</td>\n",
       "      <td>5.71</td>\n",
       "      <td>0.0</td>\n",
       "      <td>0.48</td>\n",
       "      <td>2.44</td>\n",
       "      <td>0.04</td>\n",
       "      <td>1.50</td>\n",
       "      <td>42.77</td>\n",
       "      <td>0.284</td>\n",
       "    </tr>\n",
       "    <tr>\n",
       "      <th>2</th>\n",
       "      <td>BIA</td>\n",
       "      <td>4.61</td>\n",
       "      <td>138.2280</td>\n",
       "      <td>68.32804</td>\n",
       "      <td>1.913312</td>\n",
       "      <td>195.012100</td>\n",
       "      <td>4.19</td>\n",
       "      <td>20.15</td>\n",
       "      <td>4.98</td>\n",
       "      <td>3.92</td>\n",
       "      <td>0.0</td>\n",
       "      <td>0.82</td>\n",
       "      <td>0.98</td>\n",
       "      <td>0.16</td>\n",
       "      <td>1.93</td>\n",
       "      <td>43.13</td>\n",
       "      <td>0.238</td>\n",
       "    </tr>\n",
       "    <tr>\n",
       "      <th>3</th>\n",
       "      <td>BIA</td>\n",
       "      <td>4.61</td>\n",
       "      <td>138.2280</td>\n",
       "      <td>68.32804</td>\n",
       "      <td>1.913312</td>\n",
       "      <td>195.012100</td>\n",
       "      <td>4.19</td>\n",
       "      <td>20.15</td>\n",
       "      <td>4.98</td>\n",
       "      <td>3.92</td>\n",
       "      <td>0.0</td>\n",
       "      <td>0.48</td>\n",
       "      <td>2.44</td>\n",
       "      <td>0.04</td>\n",
       "      <td>1.50</td>\n",
       "      <td>42.77</td>\n",
       "      <td>0.284</td>\n",
       "    </tr>\n",
       "    <tr>\n",
       "      <th>4</th>\n",
       "      <td>BOB</td>\n",
       "      <td>3.69</td>\n",
       "      <td>33.7818</td>\n",
       "      <td>9.70473</td>\n",
       "      <td>6.147660</td>\n",
       "      <td>469.099865</td>\n",
       "      <td>7.11</td>\n",
       "      <td>17.89</td>\n",
       "      <td>6.57</td>\n",
       "      <td>2.91</td>\n",
       "      <td>3.4</td>\n",
       "      <td>1.71</td>\n",
       "      <td>1.26</td>\n",
       "      <td>0.50</td>\n",
       "      <td>1.44</td>\n",
       "      <td>42.47</td>\n",
       "      <td>0.156</td>\n",
       "    </tr>\n",
       "  </tbody>\n",
       "</table>\n",
       "</div>"
      ],
      "text/plain": [
       "   pop  ln_pop_size_2018  fru_ugul  glu_ugul   sac_ugul  AAs_sum_[pmoluL]  \\\n",
       "0  BIA              4.61   70.0984  19.66292  63.411520       1751.187429   \n",
       "1  BIA              4.61   70.0984  19.66292  63.411520       1751.187429   \n",
       "2  BIA              4.61  138.2280  68.32804   1.913312        195.012100   \n",
       "3  BIA              4.61  138.2280  68.32804   1.913312        195.012100   \n",
       "4  BOB              3.69   33.7818   9.70473   6.147660        469.099865   \n",
       "\n",
       "     GLN    GLU   SER   PHE  ALA    Fe     K    Ca    TN     TC     TP  \n",
       "0  16.32  22.75  5.35  5.71  0.0  0.82  0.98  0.16  1.93  43.13  0.238  \n",
       "1  16.32  22.75  5.35  5.71  0.0  0.48  2.44  0.04  1.50  42.77  0.284  \n",
       "2   4.19  20.15  4.98  3.92  0.0  0.82  0.98  0.16  1.93  43.13  0.238  \n",
       "3   4.19  20.15  4.98  3.92  0.0  0.48  2.44  0.04  1.50  42.77  0.284  \n",
       "4   7.11  17.89  6.57  2.91  3.4  1.71  1.26  0.50  1.44  42.47  0.156  "
      ]
     },
     "execution_count": 81,
     "metadata": {},
     "output_type": "execute_result"
    }
   ],
   "source": [
    "df1.head()"
   ]
  },
  {
   "cell_type": "code",
   "execution_count": 82,
   "metadata": {
    "collapsed": false
   },
   "outputs": [
    {
     "data": {
      "text/plain": [
       "'ln_pop_size_2018'"
      ]
     },
     "execution_count": 82,
     "metadata": {},
     "output_type": "execute_result"
    }
   ],
   "source": [
    "df1.columns[1]"
   ]
  },
  {
   "cell_type": "code",
   "execution_count": 83,
   "metadata": {
    "collapsed": false
   },
   "outputs": [
    {
     "name": "stderr",
     "output_type": "stream",
     "text": [
      "/home/kodolamacz/anaconda3/lib/python3.6/site-packages/sklearn/preprocessing/data.py:586: DeprecationWarning: Passing 1d arrays as data is deprecated in 0.17 and will raise ValueError in 0.19. Reshape your data either using X.reshape(-1, 1) if your data has a single feature or X.reshape(1, -1) if it contains a single sample.\n",
      "  warnings.warn(DEPRECATION_MSG_1D, DeprecationWarning)\n",
      "/home/kodolamacz/anaconda3/lib/python3.6/site-packages/sklearn/preprocessing/data.py:649: DeprecationWarning: Passing 1d arrays as data is deprecated in 0.17 and will raise ValueError in 0.19. Reshape your data either using X.reshape(-1, 1) if your data has a single feature or X.reshape(1, -1) if it contains a single sample.\n",
      "  warnings.warn(DEPRECATION_MSG_1D, DeprecationWarning)\n",
      "/home/kodolamacz/anaconda3/lib/python3.6/site-packages/ipykernel/__main__.py:2: SettingWithCopyWarning: \n",
      "A value is trying to be set on a copy of a slice from a DataFrame.\n",
      "Try using .loc[row_indexer,col_indexer] = value instead\n",
      "\n",
      "See the caveats in the documentation: http://pandas.pydata.org/pandas-docs/stable/indexing.html#indexing-view-versus-copy\n",
      "  from ipykernel import kernelapp as app\n",
      "/home/kodolamacz/anaconda3/lib/python3.6/site-packages/sklearn/preprocessing/data.py:586: DeprecationWarning: Passing 1d arrays as data is deprecated in 0.17 and will raise ValueError in 0.19. Reshape your data either using X.reshape(-1, 1) if your data has a single feature or X.reshape(1, -1) if it contains a single sample.\n",
      "  warnings.warn(DEPRECATION_MSG_1D, DeprecationWarning)\n",
      "/home/kodolamacz/anaconda3/lib/python3.6/site-packages/sklearn/preprocessing/data.py:649: DeprecationWarning: Passing 1d arrays as data is deprecated in 0.17 and will raise ValueError in 0.19. Reshape your data either using X.reshape(-1, 1) if your data has a single feature or X.reshape(1, -1) if it contains a single sample.\n",
      "  warnings.warn(DEPRECATION_MSG_1D, DeprecationWarning)\n",
      "/home/kodolamacz/anaconda3/lib/python3.6/site-packages/sklearn/preprocessing/data.py:586: DeprecationWarning: Passing 1d arrays as data is deprecated in 0.17 and will raise ValueError in 0.19. Reshape your data either using X.reshape(-1, 1) if your data has a single feature or X.reshape(1, -1) if it contains a single sample.\n",
      "  warnings.warn(DEPRECATION_MSG_1D, DeprecationWarning)\n",
      "/home/kodolamacz/anaconda3/lib/python3.6/site-packages/sklearn/preprocessing/data.py:649: DeprecationWarning: Passing 1d arrays as data is deprecated in 0.17 and will raise ValueError in 0.19. Reshape your data either using X.reshape(-1, 1) if your data has a single feature or X.reshape(1, -1) if it contains a single sample.\n",
      "  warnings.warn(DEPRECATION_MSG_1D, DeprecationWarning)\n",
      "/home/kodolamacz/anaconda3/lib/python3.6/site-packages/sklearn/preprocessing/data.py:586: DeprecationWarning: Passing 1d arrays as data is deprecated in 0.17 and will raise ValueError in 0.19. Reshape your data either using X.reshape(-1, 1) if your data has a single feature or X.reshape(1, -1) if it contains a single sample.\n",
      "  warnings.warn(DEPRECATION_MSG_1D, DeprecationWarning)\n",
      "/home/kodolamacz/anaconda3/lib/python3.6/site-packages/sklearn/preprocessing/data.py:649: DeprecationWarning: Passing 1d arrays as data is deprecated in 0.17 and will raise ValueError in 0.19. Reshape your data either using X.reshape(-1, 1) if your data has a single feature or X.reshape(1, -1) if it contains a single sample.\n",
      "  warnings.warn(DEPRECATION_MSG_1D, DeprecationWarning)\n",
      "/home/kodolamacz/anaconda3/lib/python3.6/site-packages/sklearn/preprocessing/data.py:586: DeprecationWarning: Passing 1d arrays as data is deprecated in 0.17 and will raise ValueError in 0.19. Reshape your data either using X.reshape(-1, 1) if your data has a single feature or X.reshape(1, -1) if it contains a single sample.\n",
      "  warnings.warn(DEPRECATION_MSG_1D, DeprecationWarning)\n",
      "/home/kodolamacz/anaconda3/lib/python3.6/site-packages/sklearn/preprocessing/data.py:649: DeprecationWarning: Passing 1d arrays as data is deprecated in 0.17 and will raise ValueError in 0.19. Reshape your data either using X.reshape(-1, 1) if your data has a single feature or X.reshape(1, -1) if it contains a single sample.\n",
      "  warnings.warn(DEPRECATION_MSG_1D, DeprecationWarning)\n",
      "/home/kodolamacz/anaconda3/lib/python3.6/site-packages/sklearn/preprocessing/data.py:586: DeprecationWarning: Passing 1d arrays as data is deprecated in 0.17 and will raise ValueError in 0.19. Reshape your data either using X.reshape(-1, 1) if your data has a single feature or X.reshape(1, -1) if it contains a single sample.\n",
      "  warnings.warn(DEPRECATION_MSG_1D, DeprecationWarning)\n",
      "/home/kodolamacz/anaconda3/lib/python3.6/site-packages/sklearn/preprocessing/data.py:649: DeprecationWarning: Passing 1d arrays as data is deprecated in 0.17 and will raise ValueError in 0.19. Reshape your data either using X.reshape(-1, 1) if your data has a single feature or X.reshape(1, -1) if it contains a single sample.\n",
      "  warnings.warn(DEPRECATION_MSG_1D, DeprecationWarning)\n",
      "/home/kodolamacz/anaconda3/lib/python3.6/site-packages/sklearn/preprocessing/data.py:586: DeprecationWarning: Passing 1d arrays as data is deprecated in 0.17 and will raise ValueError in 0.19. Reshape your data either using X.reshape(-1, 1) if your data has a single feature or X.reshape(1, -1) if it contains a single sample.\n",
      "  warnings.warn(DEPRECATION_MSG_1D, DeprecationWarning)\n",
      "/home/kodolamacz/anaconda3/lib/python3.6/site-packages/sklearn/preprocessing/data.py:649: DeprecationWarning: Passing 1d arrays as data is deprecated in 0.17 and will raise ValueError in 0.19. Reshape your data either using X.reshape(-1, 1) if your data has a single feature or X.reshape(1, -1) if it contains a single sample.\n",
      "  warnings.warn(DEPRECATION_MSG_1D, DeprecationWarning)\n",
      "/home/kodolamacz/anaconda3/lib/python3.6/site-packages/sklearn/preprocessing/data.py:586: DeprecationWarning: Passing 1d arrays as data is deprecated in 0.17 and will raise ValueError in 0.19. Reshape your data either using X.reshape(-1, 1) if your data has a single feature or X.reshape(1, -1) if it contains a single sample.\n",
      "  warnings.warn(DEPRECATION_MSG_1D, DeprecationWarning)\n",
      "/home/kodolamacz/anaconda3/lib/python3.6/site-packages/sklearn/preprocessing/data.py:649: DeprecationWarning: Passing 1d arrays as data is deprecated in 0.17 and will raise ValueError in 0.19. Reshape your data either using X.reshape(-1, 1) if your data has a single feature or X.reshape(1, -1) if it contains a single sample.\n",
      "  warnings.warn(DEPRECATION_MSG_1D, DeprecationWarning)\n",
      "/home/kodolamacz/anaconda3/lib/python3.6/site-packages/sklearn/preprocessing/data.py:586: DeprecationWarning: Passing 1d arrays as data is deprecated in 0.17 and will raise ValueError in 0.19. Reshape your data either using X.reshape(-1, 1) if your data has a single feature or X.reshape(1, -1) if it contains a single sample.\n",
      "  warnings.warn(DEPRECATION_MSG_1D, DeprecationWarning)\n",
      "/home/kodolamacz/anaconda3/lib/python3.6/site-packages/sklearn/preprocessing/data.py:649: DeprecationWarning: Passing 1d arrays as data is deprecated in 0.17 and will raise ValueError in 0.19. Reshape your data either using X.reshape(-1, 1) if your data has a single feature or X.reshape(1, -1) if it contains a single sample.\n",
      "  warnings.warn(DEPRECATION_MSG_1D, DeprecationWarning)\n",
      "/home/kodolamacz/anaconda3/lib/python3.6/site-packages/sklearn/preprocessing/data.py:586: DeprecationWarning: Passing 1d arrays as data is deprecated in 0.17 and will raise ValueError in 0.19. Reshape your data either using X.reshape(-1, 1) if your data has a single feature or X.reshape(1, -1) if it contains a single sample.\n",
      "  warnings.warn(DEPRECATION_MSG_1D, DeprecationWarning)\n",
      "/home/kodolamacz/anaconda3/lib/python3.6/site-packages/sklearn/preprocessing/data.py:649: DeprecationWarning: Passing 1d arrays as data is deprecated in 0.17 and will raise ValueError in 0.19. Reshape your data either using X.reshape(-1, 1) if your data has a single feature or X.reshape(1, -1) if it contains a single sample.\n",
      "  warnings.warn(DEPRECATION_MSG_1D, DeprecationWarning)\n",
      "/home/kodolamacz/anaconda3/lib/python3.6/site-packages/sklearn/preprocessing/data.py:586: DeprecationWarning: Passing 1d arrays as data is deprecated in 0.17 and will raise ValueError in 0.19. Reshape your data either using X.reshape(-1, 1) if your data has a single feature or X.reshape(1, -1) if it contains a single sample.\n",
      "  warnings.warn(DEPRECATION_MSG_1D, DeprecationWarning)\n",
      "/home/kodolamacz/anaconda3/lib/python3.6/site-packages/sklearn/preprocessing/data.py:649: DeprecationWarning: Passing 1d arrays as data is deprecated in 0.17 and will raise ValueError in 0.19. Reshape your data either using X.reshape(-1, 1) if your data has a single feature or X.reshape(1, -1) if it contains a single sample.\n",
      "  warnings.warn(DEPRECATION_MSG_1D, DeprecationWarning)\n",
      "/home/kodolamacz/anaconda3/lib/python3.6/site-packages/sklearn/preprocessing/data.py:586: DeprecationWarning: Passing 1d arrays as data is deprecated in 0.17 and will raise ValueError in 0.19. Reshape your data either using X.reshape(-1, 1) if your data has a single feature or X.reshape(1, -1) if it contains a single sample.\n",
      "  warnings.warn(DEPRECATION_MSG_1D, DeprecationWarning)\n",
      "/home/kodolamacz/anaconda3/lib/python3.6/site-packages/sklearn/preprocessing/data.py:649: DeprecationWarning: Passing 1d arrays as data is deprecated in 0.17 and will raise ValueError in 0.19. Reshape your data either using X.reshape(-1, 1) if your data has a single feature or X.reshape(1, -1) if it contains a single sample.\n",
      "  warnings.warn(DEPRECATION_MSG_1D, DeprecationWarning)\n",
      "/home/kodolamacz/anaconda3/lib/python3.6/site-packages/sklearn/preprocessing/data.py:586: DeprecationWarning: Passing 1d arrays as data is deprecated in 0.17 and will raise ValueError in 0.19. Reshape your data either using X.reshape(-1, 1) if your data has a single feature or X.reshape(1, -1) if it contains a single sample.\n",
      "  warnings.warn(DEPRECATION_MSG_1D, DeprecationWarning)\n",
      "/home/kodolamacz/anaconda3/lib/python3.6/site-packages/sklearn/preprocessing/data.py:649: DeprecationWarning: Passing 1d arrays as data is deprecated in 0.17 and will raise ValueError in 0.19. Reshape your data either using X.reshape(-1, 1) if your data has a single feature or X.reshape(1, -1) if it contains a single sample.\n",
      "  warnings.warn(DEPRECATION_MSG_1D, DeprecationWarning)\n",
      "/home/kodolamacz/anaconda3/lib/python3.6/site-packages/sklearn/preprocessing/data.py:586: DeprecationWarning: Passing 1d arrays as data is deprecated in 0.17 and will raise ValueError in 0.19. Reshape your data either using X.reshape(-1, 1) if your data has a single feature or X.reshape(1, -1) if it contains a single sample.\n",
      "  warnings.warn(DEPRECATION_MSG_1D, DeprecationWarning)\n",
      "/home/kodolamacz/anaconda3/lib/python3.6/site-packages/sklearn/preprocessing/data.py:649: DeprecationWarning: Passing 1d arrays as data is deprecated in 0.17 and will raise ValueError in 0.19. Reshape your data either using X.reshape(-1, 1) if your data has a single feature or X.reshape(1, -1) if it contains a single sample.\n",
      "  warnings.warn(DEPRECATION_MSG_1D, DeprecationWarning)\n",
      "/home/kodolamacz/anaconda3/lib/python3.6/site-packages/sklearn/preprocessing/data.py:586: DeprecationWarning: Passing 1d arrays as data is deprecated in 0.17 and will raise ValueError in 0.19. Reshape your data either using X.reshape(-1, 1) if your data has a single feature or X.reshape(1, -1) if it contains a single sample.\n",
      "  warnings.warn(DEPRECATION_MSG_1D, DeprecationWarning)\n",
      "/home/kodolamacz/anaconda3/lib/python3.6/site-packages/sklearn/preprocessing/data.py:649: DeprecationWarning: Passing 1d arrays as data is deprecated in 0.17 and will raise ValueError in 0.19. Reshape your data either using X.reshape(-1, 1) if your data has a single feature or X.reshape(1, -1) if it contains a single sample.\n",
      "  warnings.warn(DEPRECATION_MSG_1D, DeprecationWarning)\n"
     ]
    }
   ],
   "source": [
    "for i in range(2,len(df1.columns)):\n",
    "    df1[df1.columns[i]] = StandardScaler().fit_transform(df1[df1.columns[i]])"
   ]
  },
  {
   "cell_type": "code",
   "execution_count": 84,
   "metadata": {
    "collapsed": false
   },
   "outputs": [
    {
     "name": "stderr",
     "output_type": "stream",
     "text": [
      "/home/kodolamacz/anaconda3/lib/python3.6/site-packages/sklearn/preprocessing/data.py:586: DeprecationWarning: Passing 1d arrays as data is deprecated in 0.17 and will raise ValueError in 0.19. Reshape your data either using X.reshape(-1, 1) if your data has a single feature or X.reshape(1, -1) if it contains a single sample.\n",
      "  warnings.warn(DEPRECATION_MSG_1D, DeprecationWarning)\n",
      "/home/kodolamacz/anaconda3/lib/python3.6/site-packages/sklearn/preprocessing/data.py:649: DeprecationWarning: Passing 1d arrays as data is deprecated in 0.17 and will raise ValueError in 0.19. Reshape your data either using X.reshape(-1, 1) if your data has a single feature or X.reshape(1, -1) if it contains a single sample.\n",
      "  warnings.warn(DEPRECATION_MSG_1D, DeprecationWarning)\n",
      "/home/kodolamacz/anaconda3/lib/python3.6/site-packages/ipykernel/__main__.py:1: SettingWithCopyWarning: \n",
      "A value is trying to be set on a copy of a slice from a DataFrame.\n",
      "Try using .loc[row_indexer,col_indexer] = value instead\n",
      "\n",
      "See the caveats in the documentation: http://pandas.pydata.org/pandas-docs/stable/indexing.html#indexing-view-versus-copy\n",
      "  if __name__ == '__main__':\n"
     ]
    }
   ],
   "source": [
    "df1[\"fru_ugul\"] = StandardScaler().fit_transform(df1.loc[:,\"fru_ugul\"])"
   ]
  },
  {
   "cell_type": "code",
   "execution_count": 88,
   "metadata": {
    "collapsed": false
   },
   "outputs": [
    {
     "data": {
      "text/html": [
       "<div>\n",
       "<style scoped>\n",
       "    .dataframe tbody tr th:only-of-type {\n",
       "        vertical-align: middle;\n",
       "    }\n",
       "\n",
       "    .dataframe tbody tr th {\n",
       "        vertical-align: top;\n",
       "    }\n",
       "\n",
       "    .dataframe thead th {\n",
       "        text-align: right;\n",
       "    }\n",
       "</style>\n",
       "<table border=\"1\" class=\"dataframe\">\n",
       "  <thead>\n",
       "    <tr style=\"text-align: right;\">\n",
       "      <th></th>\n",
       "      <th>pop</th>\n",
       "      <th>LOC</th>\n",
       "      <th>ln_pop_size_2018</th>\n",
       "      <th>freq_of_visit</th>\n",
       "      <th>seed_prod</th>\n",
       "      <th>phase</th>\n",
       "      <th>fru_ugul</th>\n",
       "      <th>glu_ugul</th>\n",
       "      <th>sac_ugul</th>\n",
       "      <th>AAs_sum_[pmoluL]</th>\n",
       "      <th>...</th>\n",
       "      <th>HYP</th>\n",
       "      <th>SAR</th>\n",
       "      <th>PRO</th>\n",
       "      <th>Nr_próby</th>\n",
       "      <th>Fe</th>\n",
       "      <th>Ca</th>\n",
       "      <th>K</th>\n",
       "      <th>TN</th>\n",
       "      <th>TC</th>\n",
       "      <th>TP</th>\n",
       "    </tr>\n",
       "  </thead>\n",
       "  <tbody>\n",
       "    <tr>\n",
       "      <th>0</th>\n",
       "      <td>BIA</td>\n",
       "      <td>NE</td>\n",
       "      <td>4.61</td>\n",
       "      <td>13.4</td>\n",
       "      <td>12.3</td>\n",
       "      <td>M</td>\n",
       "      <td>70.0984</td>\n",
       "      <td>19.66292</td>\n",
       "      <td>63.411520</td>\n",
       "      <td>1751.187429</td>\n",
       "      <td>...</td>\n",
       "      <td>0.0</td>\n",
       "      <td>1.29</td>\n",
       "      <td>4.60</td>\n",
       "      <td>BIA</td>\n",
       "      <td>0.82</td>\n",
       "      <td>0.16</td>\n",
       "      <td>0.98</td>\n",
       "      <td>1.93</td>\n",
       "      <td>43.13</td>\n",
       "      <td>0.238</td>\n",
       "    </tr>\n",
       "    <tr>\n",
       "      <th>1</th>\n",
       "      <td>BIA</td>\n",
       "      <td>NE</td>\n",
       "      <td>4.61</td>\n",
       "      <td>13.4</td>\n",
       "      <td>12.3</td>\n",
       "      <td>M</td>\n",
       "      <td>70.0984</td>\n",
       "      <td>19.66292</td>\n",
       "      <td>63.411520</td>\n",
       "      <td>1751.187429</td>\n",
       "      <td>...</td>\n",
       "      <td>0.0</td>\n",
       "      <td>1.29</td>\n",
       "      <td>4.60</td>\n",
       "      <td>BIA</td>\n",
       "      <td>0.48</td>\n",
       "      <td>0.04</td>\n",
       "      <td>2.44</td>\n",
       "      <td>1.50</td>\n",
       "      <td>42.77</td>\n",
       "      <td>0.284</td>\n",
       "    </tr>\n",
       "    <tr>\n",
       "      <th>2</th>\n",
       "      <td>BIA</td>\n",
       "      <td>NE</td>\n",
       "      <td>4.61</td>\n",
       "      <td>13.4</td>\n",
       "      <td>12.3</td>\n",
       "      <td>F</td>\n",
       "      <td>138.2280</td>\n",
       "      <td>68.32804</td>\n",
       "      <td>1.913312</td>\n",
       "      <td>195.012100</td>\n",
       "      <td>...</td>\n",
       "      <td>0.0</td>\n",
       "      <td>0.00</td>\n",
       "      <td>0.00</td>\n",
       "      <td>BIA</td>\n",
       "      <td>0.82</td>\n",
       "      <td>0.16</td>\n",
       "      <td>0.98</td>\n",
       "      <td>1.93</td>\n",
       "      <td>43.13</td>\n",
       "      <td>0.238</td>\n",
       "    </tr>\n",
       "    <tr>\n",
       "      <th>3</th>\n",
       "      <td>BIA</td>\n",
       "      <td>NE</td>\n",
       "      <td>4.61</td>\n",
       "      <td>13.4</td>\n",
       "      <td>12.3</td>\n",
       "      <td>F</td>\n",
       "      <td>138.2280</td>\n",
       "      <td>68.32804</td>\n",
       "      <td>1.913312</td>\n",
       "      <td>195.012100</td>\n",
       "      <td>...</td>\n",
       "      <td>0.0</td>\n",
       "      <td>0.00</td>\n",
       "      <td>0.00</td>\n",
       "      <td>BIA</td>\n",
       "      <td>0.48</td>\n",
       "      <td>0.04</td>\n",
       "      <td>2.44</td>\n",
       "      <td>1.50</td>\n",
       "      <td>42.77</td>\n",
       "      <td>0.284</td>\n",
       "    </tr>\n",
       "    <tr>\n",
       "      <th>4</th>\n",
       "      <td>BOB</td>\n",
       "      <td>N</td>\n",
       "      <td>3.69</td>\n",
       "      <td>1.0</td>\n",
       "      <td>12.6</td>\n",
       "      <td>M</td>\n",
       "      <td>33.7818</td>\n",
       "      <td>9.70473</td>\n",
       "      <td>6.147660</td>\n",
       "      <td>469.099865</td>\n",
       "      <td>...</td>\n",
       "      <td>0.0</td>\n",
       "      <td>5.00</td>\n",
       "      <td>14.34</td>\n",
       "      <td>BOB</td>\n",
       "      <td>1.71</td>\n",
       "      <td>0.50</td>\n",
       "      <td>1.26</td>\n",
       "      <td>1.44</td>\n",
       "      <td>42.47</td>\n",
       "      <td>0.156</td>\n",
       "    </tr>\n",
       "  </tbody>\n",
       "</table>\n",
       "<p>5 rows × 47 columns</p>\n",
       "</div>"
      ],
      "text/plain": [
       "   pop LOC  ln_pop_size_2018  freq_of_visit  seed_prod phase  fru_ugul  \\\n",
       "0  BIA  NE              4.61           13.4       12.3     M   70.0984   \n",
       "1  BIA  NE              4.61           13.4       12.3     M   70.0984   \n",
       "2  BIA  NE              4.61           13.4       12.3     F  138.2280   \n",
       "3  BIA  NE              4.61           13.4       12.3     F  138.2280   \n",
       "4  BOB   N              3.69            1.0       12.6     M   33.7818   \n",
       "\n",
       "   glu_ugul   sac_ugul  AAs_sum_[pmoluL]  ...    HYP   SAR    PRO  Nr_próby  \\\n",
       "0  19.66292  63.411520       1751.187429  ...    0.0  1.29   4.60       BIA   \n",
       "1  19.66292  63.411520       1751.187429  ...    0.0  1.29   4.60       BIA   \n",
       "2  68.32804   1.913312        195.012100  ...    0.0  0.00   0.00       BIA   \n",
       "3  68.32804   1.913312        195.012100  ...    0.0  0.00   0.00       BIA   \n",
       "4   9.70473   6.147660        469.099865  ...    0.0  5.00  14.34       BOB   \n",
       "\n",
       "     Fe    Ca     K    TN     TC     TP  \n",
       "0  0.82  0.16  0.98  1.93  43.13  0.238  \n",
       "1  0.48  0.04  2.44  1.50  42.77  0.284  \n",
       "2  0.82  0.16  0.98  1.93  43.13  0.238  \n",
       "3  0.48  0.04  2.44  1.50  42.77  0.284  \n",
       "4  1.71  0.50  1.26  1.44  42.47  0.156  \n",
       "\n",
       "[5 rows x 47 columns]"
      ]
     },
     "execution_count": 88,
     "metadata": {},
     "output_type": "execute_result"
    }
   ],
   "source": [
    "df1.head()"
   ]
  },
  {
   "cell_type": "code",
   "execution_count": 91,
   "metadata": {
    "collapsed": false
   },
   "outputs": [
    {
     "name": "stdout",
     "output_type": "stream",
     "text": [
      "        Mixed Linear Model Regression Results\n",
      "======================================================\n",
      "Model:            MixedLM Dependent Variable: fru_ugul\n",
      "No. Observations: 56      Method:             REML    \n",
      "No. Groups:       13      Scale:              0.5160  \n",
      "Min. group size:  4       Likelihood:         -73.8825\n",
      "Max. group size:  8       Converged:          Yes     \n",
      "Mean group size:  4.3                                 \n",
      "------------------------------------------------------\n",
      "            Coef.  Std.Err.   z    P>|z| [0.025 0.975]\n",
      "------------------------------------------------------\n",
      "Intercept    0.025    0.221  0.114 0.909 -0.407  0.458\n",
      "Fe          -0.074    0.225 -0.331 0.741 -0.516  0.367\n",
      "Ca          -0.220    0.237 -0.929 0.353 -0.684  0.244\n",
      "K           -0.051    0.146 -0.348 0.728 -0.336  0.235\n",
      "TN           0.038    0.180  0.210 0.834 -0.315  0.391\n",
      "TC           0.117    0.168  0.697 0.486 -0.213  0.447\n",
      "TP           0.014    0.169  0.085 0.932 -0.317  0.345\n",
      "Group Var    0.506    0.471                           \n",
      "======================================================\n",
      "\n"
     ]
    }
   ],
   "source": [
    "# construct our model, with our county now shown as a group\n",
    "md = smf.mixedlm(\"fru_ugul ~ Fe+ Ca +K+ TN + TC+ TP\", df1, groups=df1[\"ln_pop_size_2018\"])\n",
    "mdf = md.fit()\n",
    "print(mdf.summary())"
   ]
  },
  {
   "cell_type": "code",
   "execution_count": 78,
   "metadata": {
    "collapsed": true
   },
   "outputs": [],
   "source": [
    "from scipy import stats\n",
    "from statsmodels.stats.diagnostic import lillifors"
   ]
  },
  {
   "cell_type": "code",
   "execution_count": 92,
   "metadata": {
    "collapsed": false
   },
   "outputs": [
    {
     "name": "stdout",
     "output_type": "stream",
     "text": [
      "p-values for all 56 data points: ----------------\n",
      "Omnibus               0.122217\n",
      "Shapiro-Wilk          0.155798\n",
      "Lilliefors            0.200000\n",
      "Kolmogorov-Smirnov    0.830746\n",
      "dtype: float64\n",
      "Data are normally distributed\n"
     ]
    },
    {
     "name": "stderr",
     "output_type": "stream",
     "text": [
      "/home/kodolamacz/anaconda3/lib/python3.6/site-packages/ipykernel/__main__.py:10: DeprecationWarning: `lillifors` is deprecated, use `lilliefors` instead!\n",
      "Use lilliefors, lillifors will be removed in 0.9 \n",
      "(Note: misspelling missing 'e')\n"
     ]
    }
   ],
   "source": [
    "pVals = pd.Series()\n",
    "# The scipy normaltest is based on D-Agostino and Pearsons test that\n",
    "# combines skew and kurtosis to produce an omnibus test of normality.\n",
    "_, pVals['Omnibus']    = stats.normaltest(mdf.resid)\n",
    "\n",
    "# Shapiro-Wilk test\n",
    "_, pVals['Shapiro-Wilk']    = stats.shapiro(mdf.resid)\n",
    "\n",
    "# Or you can check for normality with Lilliefors-test\n",
    "_, pVals['Lilliefors']    = lillifors(mdf.resid)\n",
    "\n",
    "# Alternatively with original Kolmogorov-Smirnov test\n",
    "_, pVals['Kolmogorov-Smirnov']    = stats.kstest((mdf.resid-np.mean(mdf.resid))/np.std(mdf.resid,ddof=1), 'norm')\n",
    "\n",
    "print('p-values for all {0} data points: ----------------'.format(len(mdf.resid)))\n",
    "print(pVals)\n",
    "\n",
    "if pVals['Omnibus'] > 0.05:\n",
    "    print('Data are normally distributed')"
   ]
  },
  {
   "cell_type": "code",
   "execution_count": null,
   "metadata": {
    "collapsed": true
   },
   "outputs": [],
   "source": []
  },
  {
   "cell_type": "code",
   "execution_count": null,
   "metadata": {
    "collapsed": true
   },
   "outputs": [],
   "source": []
  }
 ],
 "metadata": {
  "kernelspec": {
   "display_name": "Python 3",
   "language": "python",
   "name": "python3"
  },
  "language_info": {
   "codemirror_mode": {
    "name": "ipython",
    "version": 3
   },
   "file_extension": ".py",
   "mimetype": "text/x-python",
   "name": "python",
   "nbconvert_exporter": "python",
   "pygments_lexer": "ipython3",
   "version": "3.6.6"
  }
 },
 "nbformat": 4,
 "nbformat_minor": 2
}
